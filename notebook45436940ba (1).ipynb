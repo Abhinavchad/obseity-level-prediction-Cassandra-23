{
 "cells": [
  {
   "cell_type": "code",
   "execution_count": 1,
   "id": "0fa67a13",
   "metadata": {
    "_cell_guid": "b1076dfc-b9ad-4769-8c92-a6c4dae69d19",
    "_uuid": "8f2839f25d086af736a60e9eeb907d3b93b6e0e5",
    "execution": {
     "iopub.execute_input": "2024-04-07T18:10:32.138989Z",
     "iopub.status.busy": "2024-04-07T18:10:32.138171Z",
     "iopub.status.idle": "2024-04-07T18:10:32.941819Z",
     "shell.execute_reply": "2024-04-07T18:10:32.940937Z"
    },
    "papermill": {
     "duration": 0.82009,
     "end_time": "2024-04-07T18:10:32.944325",
     "exception": false,
     "start_time": "2024-04-07T18:10:32.124235",
     "status": "completed"
    },
    "tags": []
   },
   "outputs": [
    {
     "name": "stdout",
     "output_type": "stream",
     "text": [
      "/kaggle/input/data1234/sample_submissions.csv\n",
      "/kaggle/input/data123/train.csv\n",
      "/kaggle/input/data123/test.csv\n"
     ]
    }
   ],
   "source": [
    "# This Python 3 environment comes with many helpful analytics libraries installed\n",
    "# It is defined by the kaggle/python Docker image: https://github.com/kaggle/docker-python\n",
    "# For example, here's several helpful packages to load\n",
    "\n",
    "import numpy as np # linear algebra\n",
    "import pandas as pd # data processing, CSV file I/O (e.g. pd.read_csv)\n",
    "\n",
    "# Input data files are available in the read-only \"../input/\" directory\n",
    "# For example, running this (by clicking run or pressing Shift+Enter) will list all files under the input directory\n",
    "\n",
    "import os\n",
    "for dirname, _, filenames in os.walk('/kaggle/input'):\n",
    "    for filename in filenames:\n",
    "        print(os.path.join(dirname, filename))\n",
    "\n",
    "# You can write up to 20GB to the current directory (/kaggle/working/) that gets preserved as output when you create a version using \"Save & Run All\" \n",
    "# You can also write temporary files to /kaggle/temp/, but they won't be saved outside of the current session"
   ]
  },
  {
   "cell_type": "code",
   "execution_count": 2,
   "id": "41999445",
   "metadata": {
    "execution": {
     "iopub.execute_input": "2024-04-07T18:10:32.969126Z",
     "iopub.status.busy": "2024-04-07T18:10:32.968607Z",
     "iopub.status.idle": "2024-04-07T18:10:33.113372Z",
     "shell.execute_reply": "2024-04-07T18:10:33.112562Z"
    },
    "papermill": {
     "duration": 0.159943,
     "end_time": "2024-04-07T18:10:33.115741",
     "exception": false,
     "start_time": "2024-04-07T18:10:32.955798",
     "status": "completed"
    },
    "tags": []
   },
   "outputs": [],
   "source": [
    "train = pd.read_csv(\"/kaggle/input/data123/train.csv\")\n",
    "test = pd.read_csv(\"/kaggle/input/data123/test.csv\")"
   ]
  },
  {
   "cell_type": "code",
   "execution_count": 3,
   "id": "5a138e9f",
   "metadata": {
    "execution": {
     "iopub.execute_input": "2024-04-07T18:10:33.140180Z",
     "iopub.status.busy": "2024-04-07T18:10:33.139801Z",
     "iopub.status.idle": "2024-04-07T18:10:33.177420Z",
     "shell.execute_reply": "2024-04-07T18:10:33.176389Z"
    },
    "papermill": {
     "duration": 0.052484,
     "end_time": "2024-04-07T18:10:33.179743",
     "exception": false,
     "start_time": "2024-04-07T18:10:33.127259",
     "status": "completed"
    },
    "tags": []
   },
   "outputs": [
    {
     "data": {
      "text/html": [
       "<div>\n",
       "<style scoped>\n",
       "    .dataframe tbody tr th:only-of-type {\n",
       "        vertical-align: middle;\n",
       "    }\n",
       "\n",
       "    .dataframe tbody tr th {\n",
       "        vertical-align: top;\n",
       "    }\n",
       "\n",
       "    .dataframe thead th {\n",
       "        text-align: right;\n",
       "    }\n",
       "</style>\n",
       "<table border=\"1\" class=\"dataframe\">\n",
       "  <thead>\n",
       "    <tr style=\"text-align: right;\">\n",
       "      <th></th>\n",
       "      <th>id</th>\n",
       "      <th>uid</th>\n",
       "      <th>Location</th>\n",
       "      <th>Gender</th>\n",
       "      <th>Age</th>\n",
       "      <th>Height</th>\n",
       "      <th>Weight</th>\n",
       "      <th>Hash</th>\n",
       "      <th>FHO</th>\n",
       "      <th>CHCF</th>\n",
       "      <th>...</th>\n",
       "      <th>NCP</th>\n",
       "      <th>CAEC</th>\n",
       "      <th>SMOKE</th>\n",
       "      <th>Water</th>\n",
       "      <th>CBC</th>\n",
       "      <th>FAF</th>\n",
       "      <th>TI</th>\n",
       "      <th>CA</th>\n",
       "      <th>Mode</th>\n",
       "      <th>Obesity_Level</th>\n",
       "    </tr>\n",
       "  </thead>\n",
       "  <tbody>\n",
       "    <tr>\n",
       "      <th>0</th>\n",
       "      <td>14633</td>\n",
       "      <td>Q68lpI2C3l8tw2QW</td>\n",
       "      <td>SunderNagar</td>\n",
       "      <td>Male</td>\n",
       "      <td>23.000000</td>\n",
       "      <td>1.700000</td>\n",
       "      <td>83.0</td>\n",
       "      <td>##########</td>\n",
       "      <td>1.0</td>\n",
       "      <td>0</td>\n",
       "      <td>...</td>\n",
       "      <td>3.0</td>\n",
       "      <td>Sometimes</td>\n",
       "      <td>0</td>\n",
       "      <td>3.000000</td>\n",
       "      <td>0</td>\n",
       "      <td>3.000000</td>\n",
       "      <td>1.000000</td>\n",
       "      <td>0</td>\n",
       "      <td>Walking</td>\n",
       "      <td>Overweight_Level_II</td>\n",
       "    </tr>\n",
       "    <tr>\n",
       "      <th>1</th>\n",
       "      <td>19443</td>\n",
       "      <td>eUsHPeGtQ1HwdF2p</td>\n",
       "      <td>Punjabi Bagh</td>\n",
       "      <td>Female</td>\n",
       "      <td>23.000000</td>\n",
       "      <td>1.600000</td>\n",
       "      <td>84.0</td>\n",
       "      <td>##########</td>\n",
       "      <td>1.0</td>\n",
       "      <td>1</td>\n",
       "      <td>...</td>\n",
       "      <td>3.0</td>\n",
       "      <td>Sometimes</td>\n",
       "      <td>0</td>\n",
       "      <td>3.000000</td>\n",
       "      <td>0</td>\n",
       "      <td>3.000000</td>\n",
       "      <td>0.000000</td>\n",
       "      <td>0</td>\n",
       "      <td>Public_Transportation</td>\n",
       "      <td>Obesity_Type_I</td>\n",
       "    </tr>\n",
       "    <tr>\n",
       "      <th>2</th>\n",
       "      <td>10216</td>\n",
       "      <td>swftYdUOhKVvaKI8</td>\n",
       "      <td>VikasPuri</td>\n",
       "      <td>Female</td>\n",
       "      <td>28.825223</td>\n",
       "      <td>1.549748</td>\n",
       "      <td>65.220249</td>\n",
       "      <td>##########</td>\n",
       "      <td>1.0</td>\n",
       "      <td>0</td>\n",
       "      <td>...</td>\n",
       "      <td>3.0</td>\n",
       "      <td>Sometimes</td>\n",
       "      <td>0</td>\n",
       "      <td>1.984323</td>\n",
       "      <td>0</td>\n",
       "      <td>1.000000</td>\n",
       "      <td>0.000000</td>\n",
       "      <td>Sometimes</td>\n",
       "      <td>Public_Transportation</td>\n",
       "      <td>Overweight_Level_II</td>\n",
       "    </tr>\n",
       "    <tr>\n",
       "      <th>3</th>\n",
       "      <td>2016</td>\n",
       "      <td>U3xIAw1dohYe23cM</td>\n",
       "      <td>Vasant Vihar</td>\n",
       "      <td>Male</td>\n",
       "      <td>25.341399</td>\n",
       "      <td>1.787195</td>\n",
       "      <td>115.428276</td>\n",
       "      <td>##########</td>\n",
       "      <td>1.0</td>\n",
       "      <td>1</td>\n",
       "      <td>...</td>\n",
       "      <td>3.0</td>\n",
       "      <td>Sometimes</td>\n",
       "      <td>0</td>\n",
       "      <td>2.535127</td>\n",
       "      <td>0</td>\n",
       "      <td>0.849811</td>\n",
       "      <td>1.899330</td>\n",
       "      <td>Sometimes</td>\n",
       "      <td>Public_Transportation</td>\n",
       "      <td>Obesity_Type_II</td>\n",
       "    </tr>\n",
       "    <tr>\n",
       "      <th>4</th>\n",
       "      <td>9674</td>\n",
       "      <td>MrZ5Tzad8D250EPc</td>\n",
       "      <td>Vasant Vihar</td>\n",
       "      <td>Male</td>\n",
       "      <td>22.000000</td>\n",
       "      <td>1.750000</td>\n",
       "      <td>58.0</td>\n",
       "      <td>##########</td>\n",
       "      <td>0.0</td>\n",
       "      <td>1</td>\n",
       "      <td>...</td>\n",
       "      <td>4.0</td>\n",
       "      <td>Sometimes</td>\n",
       "      <td>0</td>\n",
       "      <td>2.000000</td>\n",
       "      <td>0</td>\n",
       "      <td>2.000000</td>\n",
       "      <td>0.000000</td>\n",
       "      <td>0</td>\n",
       "      <td>Public_Transportation</td>\n",
       "      <td>Insufficient_Weight</td>\n",
       "    </tr>\n",
       "    <tr>\n",
       "      <th>5</th>\n",
       "      <td>19276</td>\n",
       "      <td>T5jAG88dk9Wmx3EB</td>\n",
       "      <td>SunderNagar</td>\n",
       "      <td>Female</td>\n",
       "      <td>39.214514</td>\n",
       "      <td>1.584782</td>\n",
       "      <td>80.0</td>\n",
       "      <td>##########</td>\n",
       "      <td>1.0</td>\n",
       "      <td>1</td>\n",
       "      <td>...</td>\n",
       "      <td>3.0</td>\n",
       "      <td>Sometimes</td>\n",
       "      <td>0</td>\n",
       "      <td>1.459511</td>\n",
       "      <td>0</td>\n",
       "      <td>0.000000</td>\n",
       "      <td>0.000000</td>\n",
       "      <td>0</td>\n",
       "      <td>Automobile</td>\n",
       "      <td>Obesity_Type_I</td>\n",
       "    </tr>\n",
       "    <tr>\n",
       "      <th>6</th>\n",
       "      <td>14752</td>\n",
       "      <td>uE9kQveMq6GxLgZ5</td>\n",
       "      <td>Hauz Khas</td>\n",
       "      <td>Female</td>\n",
       "      <td>25.930376</td>\n",
       "      <td>1.715820</td>\n",
       "      <td>112.95611</td>\n",
       "      <td>##########</td>\n",
       "      <td>1.0</td>\n",
       "      <td>1</td>\n",
       "      <td>...</td>\n",
       "      <td>3.0</td>\n",
       "      <td>Sometimes</td>\n",
       "      <td>0</td>\n",
       "      <td>2.738485</td>\n",
       "      <td>0</td>\n",
       "      <td>0.037202</td>\n",
       "      <td>0.153559</td>\n",
       "      <td>Sometimes</td>\n",
       "      <td>Public_Transportation</td>\n",
       "      <td>Obesity_Type_III</td>\n",
       "    </tr>\n",
       "    <tr>\n",
       "      <th>7</th>\n",
       "      <td>8359</td>\n",
       "      <td>1uKhf5QkamG53shw</td>\n",
       "      <td>Vasant Vihar</td>\n",
       "      <td>Male</td>\n",
       "      <td>29.000000</td>\n",
       "      <td>1.630000</td>\n",
       "      <td>66.5</td>\n",
       "      <td>##########</td>\n",
       "      <td>0.0</td>\n",
       "      <td>0</td>\n",
       "      <td>...</td>\n",
       "      <td>3.0</td>\n",
       "      <td>Frequently</td>\n",
       "      <td>0</td>\n",
       "      <td>2.000000</td>\n",
       "      <td>0</td>\n",
       "      <td>2.000000</td>\n",
       "      <td>1.000000</td>\n",
       "      <td>Sometimes</td>\n",
       "      <td>Public_Transportation</td>\n",
       "      <td>Overweight_Level_I</td>\n",
       "    </tr>\n",
       "    <tr>\n",
       "      <th>8</th>\n",
       "      <td>15537</td>\n",
       "      <td>oJPwrCusQjWvfaMl</td>\n",
       "      <td>Punjabi Bagh</td>\n",
       "      <td>Female</td>\n",
       "      <td>18.000000</td>\n",
       "      <td>1.620000</td>\n",
       "      <td>52.0</td>\n",
       "      <td>##########</td>\n",
       "      <td>0.0</td>\n",
       "      <td>1</td>\n",
       "      <td>...</td>\n",
       "      <td>3.0</td>\n",
       "      <td>Sometimes</td>\n",
       "      <td>0</td>\n",
       "      <td>1.000000</td>\n",
       "      <td>0</td>\n",
       "      <td>0.000000</td>\n",
       "      <td>1.000000</td>\n",
       "      <td>Sometimes</td>\n",
       "      <td>Public_Transportation</td>\n",
       "      <td>Normal_Weight</td>\n",
       "    </tr>\n",
       "    <tr>\n",
       "      <th>9</th>\n",
       "      <td>4604</td>\n",
       "      <td>BsdNFNfnTZCZX7qt</td>\n",
       "      <td>Punjabi Bagh</td>\n",
       "      <td>Female</td>\n",
       "      <td>25.722004</td>\n",
       "      <td>1.684768</td>\n",
       "      <td>104.774144</td>\n",
       "      <td>##########</td>\n",
       "      <td>1.0</td>\n",
       "      <td>1</td>\n",
       "      <td>...</td>\n",
       "      <td>3.0</td>\n",
       "      <td>Sometimes</td>\n",
       "      <td>0</td>\n",
       "      <td>1.674061</td>\n",
       "      <td>0</td>\n",
       "      <td>0.167943</td>\n",
       "      <td>0.546137</td>\n",
       "      <td>Sometimes</td>\n",
       "      <td>Public_Transportation</td>\n",
       "      <td>Obesity_Type_III</td>\n",
       "    </tr>\n",
       "  </tbody>\n",
       "</table>\n",
       "<p>10 rows × 21 columns</p>\n",
       "</div>"
      ],
      "text/plain": [
       "      id               uid      Location  Gender        Age    Height  \\\n",
       "0  14633  Q68lpI2C3l8tw2QW   SunderNagar    Male  23.000000  1.700000   \n",
       "1  19443  eUsHPeGtQ1HwdF2p  Punjabi Bagh  Female  23.000000  1.600000   \n",
       "2  10216  swftYdUOhKVvaKI8     VikasPuri  Female  28.825223  1.549748   \n",
       "3   2016  U3xIAw1dohYe23cM  Vasant Vihar    Male  25.341399  1.787195   \n",
       "4   9674  MrZ5Tzad8D250EPc  Vasant Vihar    Male  22.000000  1.750000   \n",
       "5  19276  T5jAG88dk9Wmx3EB   SunderNagar  Female  39.214514  1.584782   \n",
       "6  14752  uE9kQveMq6GxLgZ5     Hauz Khas  Female  25.930376  1.715820   \n",
       "7   8359  1uKhf5QkamG53shw  Vasant Vihar    Male  29.000000  1.630000   \n",
       "8  15537  oJPwrCusQjWvfaMl  Punjabi Bagh  Female  18.000000  1.620000   \n",
       "9   4604  BsdNFNfnTZCZX7qt  Punjabi Bagh  Female  25.722004  1.684768   \n",
       "\n",
       "       Weight        Hash  FHO  CHCF  ...  NCP        CAEC SMOKE     Water  \\\n",
       "0        83.0  ##########  1.0     0  ...  3.0   Sometimes     0  3.000000   \n",
       "1        84.0  ##########  1.0     1  ...  3.0   Sometimes     0  3.000000   \n",
       "2   65.220249  ##########  1.0     0  ...  3.0   Sometimes     0  1.984323   \n",
       "3  115.428276  ##########  1.0     1  ...  3.0   Sometimes     0  2.535127   \n",
       "4        58.0  ##########  0.0     1  ...  4.0   Sometimes     0  2.000000   \n",
       "5        80.0  ##########  1.0     1  ...  3.0   Sometimes     0  1.459511   \n",
       "6   112.95611  ##########  1.0     1  ...  3.0   Sometimes     0  2.738485   \n",
       "7        66.5  ##########  0.0     0  ...  3.0  Frequently     0  2.000000   \n",
       "8        52.0  ##########  0.0     1  ...  3.0   Sometimes     0  1.000000   \n",
       "9  104.774144  ##########  1.0     1  ...  3.0   Sometimes     0  1.674061   \n",
       "\n",
       "   CBC       FAF        TI         CA                   Mode  \\\n",
       "0    0  3.000000  1.000000          0                Walking   \n",
       "1    0  3.000000  0.000000          0  Public_Transportation   \n",
       "2    0  1.000000  0.000000  Sometimes  Public_Transportation   \n",
       "3    0  0.849811  1.899330  Sometimes  Public_Transportation   \n",
       "4    0  2.000000  0.000000          0  Public_Transportation   \n",
       "5    0  0.000000  0.000000          0             Automobile   \n",
       "6    0  0.037202  0.153559  Sometimes  Public_Transportation   \n",
       "7    0  2.000000  1.000000  Sometimes  Public_Transportation   \n",
       "8    0  0.000000  1.000000  Sometimes  Public_Transportation   \n",
       "9    0  0.167943  0.546137  Sometimes  Public_Transportation   \n",
       "\n",
       "         Obesity_Level  \n",
       "0  Overweight_Level_II  \n",
       "1       Obesity_Type_I  \n",
       "2  Overweight_Level_II  \n",
       "3      Obesity_Type_II  \n",
       "4  Insufficient_Weight  \n",
       "5       Obesity_Type_I  \n",
       "6     Obesity_Type_III  \n",
       "7   Overweight_Level_I  \n",
       "8        Normal_Weight  \n",
       "9     Obesity_Type_III  \n",
       "\n",
       "[10 rows x 21 columns]"
      ]
     },
     "execution_count": 3,
     "metadata": {},
     "output_type": "execute_result"
    }
   ],
   "source": [
    "train.head(10)"
   ]
  },
  {
   "cell_type": "code",
   "execution_count": 4,
   "id": "128abccd",
   "metadata": {
    "execution": {
     "iopub.execute_input": "2024-04-07T18:10:33.206101Z",
     "iopub.status.busy": "2024-04-07T18:10:33.205487Z",
     "iopub.status.idle": "2024-04-07T18:10:33.224565Z",
     "shell.execute_reply": "2024-04-07T18:10:33.223819Z"
    },
    "papermill": {
     "duration": 0.035079,
     "end_time": "2024-04-07T18:10:33.226532",
     "exception": false,
     "start_time": "2024-04-07T18:10:33.191453",
     "status": "completed"
    },
    "tags": []
   },
   "outputs": [
    {
     "data": {
      "text/html": [
       "<div>\n",
       "<style scoped>\n",
       "    .dataframe tbody tr th:only-of-type {\n",
       "        vertical-align: middle;\n",
       "    }\n",
       "\n",
       "    .dataframe tbody tr th {\n",
       "        vertical-align: top;\n",
       "    }\n",
       "\n",
       "    .dataframe thead th {\n",
       "        text-align: right;\n",
       "    }\n",
       "</style>\n",
       "<table border=\"1\" class=\"dataframe\">\n",
       "  <thead>\n",
       "    <tr style=\"text-align: right;\">\n",
       "      <th></th>\n",
       "      <th>id</th>\n",
       "      <th>uid</th>\n",
       "      <th>Location</th>\n",
       "      <th>Gender</th>\n",
       "      <th>Age</th>\n",
       "      <th>Height</th>\n",
       "      <th>Weight</th>\n",
       "      <th>Hash</th>\n",
       "      <th>FHO</th>\n",
       "      <th>CHCF</th>\n",
       "      <th>CV</th>\n",
       "      <th>NCP</th>\n",
       "      <th>CAEC</th>\n",
       "      <th>SMOKE</th>\n",
       "      <th>Water</th>\n",
       "      <th>CBC</th>\n",
       "      <th>FAF</th>\n",
       "      <th>TI</th>\n",
       "      <th>CA</th>\n",
       "      <th>Mode</th>\n",
       "    </tr>\n",
       "  </thead>\n",
       "  <tbody>\n",
       "    <tr>\n",
       "      <th>0</th>\n",
       "      <td>10317</td>\n",
       "      <td>7w53s2NgM2arZAvM</td>\n",
       "      <td>Punjabi Bagh</td>\n",
       "      <td>Female</td>\n",
       "      <td>25.951979</td>\n",
       "      <td>1.669039</td>\n",
       "      <td>104.954291</td>\n",
       "      <td>##########</td>\n",
       "      <td>1.0</td>\n",
       "      <td>1</td>\n",
       "      <td>3.000000</td>\n",
       "      <td>3.0</td>\n",
       "      <td>Sometimes</td>\n",
       "      <td>0</td>\n",
       "      <td>2.092326</td>\n",
       "      <td>0</td>\n",
       "      <td>0.043101</td>\n",
       "      <td>0.540812</td>\n",
       "      <td>Sometimes</td>\n",
       "      <td>Public_Transportation</td>\n",
       "    </tr>\n",
       "    <tr>\n",
       "      <th>1</th>\n",
       "      <td>4074</td>\n",
       "      <td>kTLn00K8evgYXWxR</td>\n",
       "      <td>Hauz Khas</td>\n",
       "      <td>Female</td>\n",
       "      <td>40.993179</td>\n",
       "      <td>1.567973</td>\n",
       "      <td>81.022119</td>\n",
       "      <td>##########</td>\n",
       "      <td>1.0</td>\n",
       "      <td>1</td>\n",
       "      <td>2.921576</td>\n",
       "      <td>3.0</td>\n",
       "      <td>Sometimes</td>\n",
       "      <td>0</td>\n",
       "      <td>1.005727</td>\n",
       "      <td>0</td>\n",
       "      <td>1.034031</td>\n",
       "      <td>0.000000</td>\n",
       "      <td>0</td>\n",
       "      <td>Automobile</td>\n",
       "    </tr>\n",
       "    <tr>\n",
       "      <th>2</th>\n",
       "      <td>9060</td>\n",
       "      <td>81HX39uej0BR1xIl</td>\n",
       "      <td>Vasant Vihar</td>\n",
       "      <td>Male</td>\n",
       "      <td>21.000000</td>\n",
       "      <td>1.740000</td>\n",
       "      <td>76.0</td>\n",
       "      <td>##########</td>\n",
       "      <td>0.0</td>\n",
       "      <td>1</td>\n",
       "      <td>3.000000</td>\n",
       "      <td>3.0</td>\n",
       "      <td>Sometimes</td>\n",
       "      <td>0</td>\n",
       "      <td>3.000000</td>\n",
       "      <td>0</td>\n",
       "      <td>1.000000</td>\n",
       "      <td>0.000000</td>\n",
       "      <td>Sometimes</td>\n",
       "      <td>Public_Transportation</td>\n",
       "    </tr>\n",
       "    <tr>\n",
       "      <th>3</th>\n",
       "      <td>11286</td>\n",
       "      <td>DA9eqs9fs7wJUIet</td>\n",
       "      <td>Hauz Khas</td>\n",
       "      <td>Male</td>\n",
       "      <td>33.000000</td>\n",
       "      <td>1.680000</td>\n",
       "      <td>83.0</td>\n",
       "      <td>##########</td>\n",
       "      <td>1.0</td>\n",
       "      <td>1</td>\n",
       "      <td>2.000000</td>\n",
       "      <td>1.0</td>\n",
       "      <td>Sometimes</td>\n",
       "      <td>0</td>\n",
       "      <td>2.000000</td>\n",
       "      <td>0</td>\n",
       "      <td>1.000000</td>\n",
       "      <td>0.000000</td>\n",
       "      <td>Sometimes</td>\n",
       "      <td>Automobile</td>\n",
       "    </tr>\n",
       "    <tr>\n",
       "      <th>4</th>\n",
       "      <td>8254</td>\n",
       "      <td>SJ1Z7TBmojAPlJXd</td>\n",
       "      <td>SunderNagar</td>\n",
       "      <td>Female</td>\n",
       "      <td>35.194089</td>\n",
       "      <td>1.673482</td>\n",
       "      <td>73.193589</td>\n",
       "      <td>##########</td>\n",
       "      <td>1.0</td>\n",
       "      <td>0</td>\n",
       "      <td>3.000000</td>\n",
       "      <td>3.0</td>\n",
       "      <td>Sometimes</td>\n",
       "      <td>0</td>\n",
       "      <td>1.572371</td>\n",
       "      <td>0</td>\n",
       "      <td>1.806740</td>\n",
       "      <td>0.000000</td>\n",
       "      <td>Sometimes</td>\n",
       "      <td>Automobile</td>\n",
       "    </tr>\n",
       "  </tbody>\n",
       "</table>\n",
       "</div>"
      ],
      "text/plain": [
       "      id               uid      Location  Gender        Age    Height  \\\n",
       "0  10317  7w53s2NgM2arZAvM  Punjabi Bagh  Female  25.951979  1.669039   \n",
       "1   4074  kTLn00K8evgYXWxR     Hauz Khas  Female  40.993179  1.567973   \n",
       "2   9060  81HX39uej0BR1xIl  Vasant Vihar    Male  21.000000  1.740000   \n",
       "3  11286  DA9eqs9fs7wJUIet     Hauz Khas    Male  33.000000  1.680000   \n",
       "4   8254  SJ1Z7TBmojAPlJXd   SunderNagar  Female  35.194089  1.673482   \n",
       "\n",
       "       Weight        Hash  FHO  CHCF        CV  NCP       CAEC  SMOKE  \\\n",
       "0  104.954291  ##########  1.0     1  3.000000  3.0  Sometimes      0   \n",
       "1   81.022119  ##########  1.0     1  2.921576  3.0  Sometimes      0   \n",
       "2        76.0  ##########  0.0     1  3.000000  3.0  Sometimes      0   \n",
       "3        83.0  ##########  1.0     1  2.000000  1.0  Sometimes      0   \n",
       "4   73.193589  ##########  1.0     0  3.000000  3.0  Sometimes      0   \n",
       "\n",
       "      Water  CBC       FAF        TI         CA                   Mode  \n",
       "0  2.092326    0  0.043101  0.540812  Sometimes  Public_Transportation  \n",
       "1  1.005727    0  1.034031  0.000000          0             Automobile  \n",
       "2  3.000000    0  1.000000  0.000000  Sometimes  Public_Transportation  \n",
       "3  2.000000    0  1.000000  0.000000  Sometimes             Automobile  \n",
       "4  1.572371    0  1.806740  0.000000  Sometimes             Automobile  "
      ]
     },
     "execution_count": 4,
     "metadata": {},
     "output_type": "execute_result"
    }
   ],
   "source": [
    "test.head()"
   ]
  },
  {
   "cell_type": "code",
   "execution_count": 5,
   "id": "2c1c50a9",
   "metadata": {
    "execution": {
     "iopub.execute_input": "2024-04-07T18:10:33.252800Z",
     "iopub.status.busy": "2024-04-07T18:10:33.252280Z",
     "iopub.status.idle": "2024-04-07T18:10:33.274779Z",
     "shell.execute_reply": "2024-04-07T18:10:33.274058Z"
    },
    "papermill": {
     "duration": 0.037874,
     "end_time": "2024-04-07T18:10:33.276889",
     "exception": false,
     "start_time": "2024-04-07T18:10:33.239015",
     "status": "completed"
    },
    "tags": []
   },
   "outputs": [
    {
     "data": {
      "text/plain": [
       "<bound method NDFrame.describe of           id               uid      Location  Gender        Age    Height  \\\n",
       "0      14633  Q68lpI2C3l8tw2QW   SunderNagar    Male  23.000000  1.700000   \n",
       "1      19443  eUsHPeGtQ1HwdF2p  Punjabi Bagh  Female  23.000000  1.600000   \n",
       "2      10216  swftYdUOhKVvaKI8     VikasPuri  Female  28.825223  1.549748   \n",
       "3       2016  U3xIAw1dohYe23cM  Vasant Vihar    Male  25.341399  1.787195   \n",
       "4       9674  MrZ5Tzad8D250EPc  Vasant Vihar    Male  22.000000  1.750000   \n",
       "...      ...               ...           ...     ...        ...       ...   \n",
       "12449  11284  EfPUL1prjNsEwpKI   SunderNagar  Female  26.000000  1.639251   \n",
       "12450  11964  3VnknaQ5N1mXJsvK     VikasPuri    Male  17.000000  1.700000   \n",
       "12451   5390  SeR70j4jAmAALIcc     Hauz Khas    Male  23.000000  1.900000   \n",
       "12452    860  hpCwdi6QVsaD7ZIc  Punjabi Bagh    Male  24.000000  1.790000   \n",
       "12453  15795  BRdgjP92dtXlX1vp     Hauz Khas    Male  18.038422  1.799742   \n",
       "\n",
       "           Weight        Hash  FHO  CHCF  ...  NCP       CAEC SMOKE     Water  \\\n",
       "0            83.0  ##########  1.0     0  ...  3.0  Sometimes     0  3.000000   \n",
       "1            84.0  ##########  1.0     1  ...  3.0  Sometimes     0  3.000000   \n",
       "2       65.220249  ##########  1.0     0  ...  3.0  Sometimes     0  1.984323   \n",
       "3      115.428276  ##########  1.0     1  ...  3.0  Sometimes     0  2.535127   \n",
       "4            58.0  ##########  0.0     1  ...  4.0  Sometimes     0  2.000000   \n",
       "...           ...         ...  ...   ...  ...  ...        ...   ...       ...   \n",
       "12449  111.946321  ##########  1.0     1  ...  3.0  Sometimes     0  2.640539   \n",
       "12450         NaN  ##########  1.0     1  ...  3.0  Sometimes     0  2.000000   \n",
       "12451        95.0  ##########  1.0     1  ...  3.0     Always     0  3.000000   \n",
       "12452        84.0  ##########  1.0     0  ...  3.0  Sometimes     0  3.000000   \n",
       "12453   52.058335  ##########  1.0     1  ...  3.0  Sometimes     0  2.000000   \n",
       "\n",
       "       CBC       FAF        TI          CA                   Mode  \\\n",
       "0        0  3.000000  1.000000           0                Walking   \n",
       "1        0  3.000000  0.000000           0  Public_Transportation   \n",
       "2        0  1.000000  0.000000   Sometimes  Public_Transportation   \n",
       "3        0  0.849811  1.899330   Sometimes  Public_Transportation   \n",
       "4        0  2.000000  0.000000           0  Public_Transportation   \n",
       "...    ...       ...       ...         ...                    ...   \n",
       "12449    0  0.000000  0.456462   Sometimes  Public_Transportation   \n",
       "12450    0  2.000000  2.000000   Sometimes             Automobile   \n",
       "12451    0  3.000000  1.000000  Frequently                Walking   \n",
       "12452    0  1.000000  0.000000   Sometimes             Automobile   \n",
       "12453    0  0.794402  1.890214   Sometimes  Public_Transportation   \n",
       "\n",
       "             Obesity_Level  \n",
       "0      Overweight_Level_II  \n",
       "1           Obesity_Type_I  \n",
       "2      Overweight_Level_II  \n",
       "3          Obesity_Type_II  \n",
       "4      Insufficient_Weight  \n",
       "...                    ...  \n",
       "12449     Obesity_Type_III  \n",
       "12450       Obesity_Type_I  \n",
       "12451       Obesity_Type_I  \n",
       "12452  Overweight_Level_II  \n",
       "12453  Insufficient_Weight  \n",
       "\n",
       "[12454 rows x 21 columns]>"
      ]
     },
     "execution_count": 5,
     "metadata": {},
     "output_type": "execute_result"
    }
   ],
   "source": [
    "train.describe"
   ]
  },
  {
   "cell_type": "code",
   "execution_count": 6,
   "id": "60919d36",
   "metadata": {
    "execution": {
     "iopub.execute_input": "2024-04-07T18:10:33.303118Z",
     "iopub.status.busy": "2024-04-07T18:10:33.302509Z",
     "iopub.status.idle": "2024-04-07T18:10:33.317678Z",
     "shell.execute_reply": "2024-04-07T18:10:33.316668Z"
    },
    "papermill": {
     "duration": 0.030508,
     "end_time": "2024-04-07T18:10:33.319639",
     "exception": false,
     "start_time": "2024-04-07T18:10:33.289131",
     "status": "completed"
    },
    "tags": []
   },
   "outputs": [
    {
     "data": {
      "text/plain": [
       "<bound method NDFrame.describe of          id               uid      Location  Gender        Age    Height  \\\n",
       "0     10317  7w53s2NgM2arZAvM  Punjabi Bagh  Female  25.951979  1.669039   \n",
       "1      4074  kTLn00K8evgYXWxR     Hauz Khas  Female  40.993179  1.567973   \n",
       "2      9060  81HX39uej0BR1xIl  Vasant Vihar    Male  21.000000  1.740000   \n",
       "3     11286  DA9eqs9fs7wJUIet     Hauz Khas    Male  33.000000  1.680000   \n",
       "4      8254  SJ1Z7TBmojAPlJXd   SunderNagar  Female  35.194089  1.673482   \n",
       "...     ...               ...           ...     ...        ...       ...   \n",
       "8299   5294  gb0h3fw2irbHfbQF  Punjabi Bagh  Female  20.000000  1.600000   \n",
       "8300   4473  0nYHoAUSo64MYow1  Vasant Vihar  Female  21.420537  1.739457   \n",
       "8301  20603  fsY3VDGY5FxKByDJ  Punjabi Bagh  Female  18.000000  1.600000   \n",
       "8302  10907  vYHNnxWeiuJA9SoJ  Vasant Vihar  Female  18.014333  1.624099   \n",
       "8303   8452  be1IBM4wuNjvtRJ9     VikasPuri    Male  19.000000  1.750000   \n",
       "\n",
       "          Weight        Hash  FHO  CHCF        CV  NCP        CAEC  SMOKE  \\\n",
       "0     104.954291  ##########  1.0     1  3.000000  3.0   Sometimes      0   \n",
       "1      81.022119  ##########  1.0     1  2.921576  3.0   Sometimes      0   \n",
       "2           76.0  ##########  0.0     1  3.000000  3.0   Sometimes      0   \n",
       "3           83.0  ##########  1.0     1  2.000000  1.0   Sometimes      0   \n",
       "4      73.193589  ##########  1.0     0  3.000000  3.0   Sometimes      0   \n",
       "...          ...         ...  ...   ...       ...  ...         ...    ...   \n",
       "8299        42.0  ##########  0.0     1  3.000000  1.0  Frequently      0   \n",
       "8300  133.735889  ##########  1.0     1  3.000000  3.0   Sometimes      0   \n",
       "8301        60.0  ##########  0.0     1  3.000000  3.0      Always      0   \n",
       "8302        45.0  ##########  0.0     1  3.000000  3.0   Sometimes      0   \n",
       "8303        70.0  ##########  0.0     0  3.000000  3.0      Always      0   \n",
       "\n",
       "         Water  CBC       FAF        TI         CA                   Mode  \n",
       "0     2.092326    0  0.043101  0.540812  Sometimes  Public_Transportation  \n",
       "1     1.005727    0  1.034031  0.000000          0             Automobile  \n",
       "2     3.000000    0  1.000000  0.000000  Sometimes  Public_Transportation  \n",
       "3     2.000000    0  1.000000  0.000000  Sometimes             Automobile  \n",
       "4     1.572371    0  1.806740  0.000000  Sometimes             Automobile  \n",
       "...        ...  ...       ...       ...        ...                    ...  \n",
       "8299  1.000000    0  0.000000  0.000000  Sometimes  Public_Transportation  \n",
       "8300  2.310921    0  1.618512  0.711331  Sometimes  Public_Transportation  \n",
       "8301  2.000000    0  1.000000  0.000000          0  Public_Transportation  \n",
       "8302  2.000000    1  1.637368  0.105936  Sometimes  Public_Transportation  \n",
       "8303  2.000000    0  2.000000  0.000000  Sometimes                Walking  \n",
       "\n",
       "[8304 rows x 20 columns]>"
      ]
     },
     "execution_count": 6,
     "metadata": {},
     "output_type": "execute_result"
    }
   ],
   "source": [
    "test.describe"
   ]
  },
  {
   "cell_type": "code",
   "execution_count": 7,
   "id": "b6c92440",
   "metadata": {
    "execution": {
     "iopub.execute_input": "2024-04-07T18:10:33.345882Z",
     "iopub.status.busy": "2024-04-07T18:10:33.345520Z",
     "iopub.status.idle": "2024-04-07T18:10:33.355799Z",
     "shell.execute_reply": "2024-04-07T18:10:33.354670Z"
    },
    "papermill": {
     "duration": 0.025904,
     "end_time": "2024-04-07T18:10:33.357868",
     "exception": false,
     "start_time": "2024-04-07T18:10:33.331964",
     "status": "completed"
    },
    "tags": []
   },
   "outputs": [
    {
     "name": "stdout",
     "output_type": "stream",
     "text": [
      "['Overweight_Level_II' 'Obesity_Type_I' 'Obesity_Type_II'\n",
      " 'Insufficient_Weight' 'Obesity_Type_III' 'Overweight_Level_I'\n",
      " 'Normal_Weight']\n"
     ]
    }
   ],
   "source": [
    "unique_values = train['Obesity_Level'].unique()\n",
    "print(unique_values)"
   ]
  },
  {
   "cell_type": "code",
   "execution_count": 8,
   "id": "b79f440c",
   "metadata": {
    "execution": {
     "iopub.execute_input": "2024-04-07T18:10:33.384759Z",
     "iopub.status.busy": "2024-04-07T18:10:33.384158Z",
     "iopub.status.idle": "2024-04-07T18:10:33.391080Z",
     "shell.execute_reply": "2024-04-07T18:10:33.389878Z"
    },
    "papermill": {
     "duration": 0.02271,
     "end_time": "2024-04-07T18:10:33.393004",
     "exception": false,
     "start_time": "2024-04-07T18:10:33.370294",
     "status": "completed"
    },
    "tags": []
   },
   "outputs": [
    {
     "name": "stdout",
     "output_type": "stream",
     "text": [
      "['SunderNagar' 'Punjabi Bagh' 'VikasPuri' 'Vasant Vihar' 'Hauz Khas']\n"
     ]
    }
   ],
   "source": [
    "unique_values = train['Location'].unique()\n",
    "print(unique_values)"
   ]
  },
  {
   "cell_type": "code",
   "execution_count": 9,
   "id": "848aea1d",
   "metadata": {
    "execution": {
     "iopub.execute_input": "2024-04-07T18:10:33.420400Z",
     "iopub.status.busy": "2024-04-07T18:10:33.419689Z",
     "iopub.status.idle": "2024-04-07T18:10:33.425478Z",
     "shell.execute_reply": "2024-04-07T18:10:33.424180Z"
    },
    "papermill": {
     "duration": 0.021797,
     "end_time": "2024-04-07T18:10:33.427570",
     "exception": false,
     "start_time": "2024-04-07T18:10:33.405773",
     "status": "completed"
    },
    "tags": []
   },
   "outputs": [
    {
     "name": "stdout",
     "output_type": "stream",
     "text": [
      "['##########' nan]\n"
     ]
    }
   ],
   "source": [
    "unique_values = train['Hash'].unique()\n",
    "print(unique_values)"
   ]
  },
  {
   "cell_type": "code",
   "execution_count": 10,
   "id": "b1ff2b5d",
   "metadata": {
    "execution": {
     "iopub.execute_input": "2024-04-07T18:10:33.454477Z",
     "iopub.status.busy": "2024-04-07T18:10:33.454119Z",
     "iopub.status.idle": "2024-04-07T18:10:33.461111Z",
     "shell.execute_reply": "2024-04-07T18:10:33.460037Z"
    },
    "papermill": {
     "duration": 0.023707,
     "end_time": "2024-04-07T18:10:33.463842",
     "exception": false,
     "start_time": "2024-04-07T18:10:33.440135",
     "status": "completed"
    },
    "tags": []
   },
   "outputs": [
    {
     "name": "stdout",
     "output_type": "stream",
     "text": [
      "[ 1.  0. nan]\n"
     ]
    }
   ],
   "source": [
    "unique_values = train['FHO'].unique()\n",
    "print(unique_values)"
   ]
  },
  {
   "cell_type": "code",
   "execution_count": 11,
   "id": "440eb999",
   "metadata": {
    "execution": {
     "iopub.execute_input": "2024-04-07T18:10:33.491416Z",
     "iopub.status.busy": "2024-04-07T18:10:33.490629Z",
     "iopub.status.idle": "2024-04-07T18:10:33.496779Z",
     "shell.execute_reply": "2024-04-07T18:10:33.495635Z"
    },
    "papermill": {
     "duration": 0.022858,
     "end_time": "2024-04-07T18:10:33.499280",
     "exception": false,
     "start_time": "2024-04-07T18:10:33.476422",
     "status": "completed"
    },
    "tags": []
   },
   "outputs": [
    {
     "name": "stdout",
     "output_type": "stream",
     "text": [
      "[ 1.  0. nan]\n"
     ]
    }
   ],
   "source": [
    "unique_values = test['FHO'].unique()\n",
    "print(unique_values)"
   ]
  },
  {
   "cell_type": "code",
   "execution_count": 12,
   "id": "49f13808",
   "metadata": {
    "execution": {
     "iopub.execute_input": "2024-04-07T18:10:33.527380Z",
     "iopub.status.busy": "2024-04-07T18:10:33.527029Z",
     "iopub.status.idle": "2024-04-07T18:10:33.533915Z",
     "shell.execute_reply": "2024-04-07T18:10:33.532869Z"
    },
    "papermill": {
     "duration": 0.024014,
     "end_time": "2024-04-07T18:10:33.536437",
     "exception": false,
     "start_time": "2024-04-07T18:10:33.512423",
     "status": "completed"
    },
    "tags": []
   },
   "outputs": [
    {
     "name": "stdout",
     "output_type": "stream",
     "text": [
      "Frequency of NaN values in 'FHO' column: 12\n"
     ]
    }
   ],
   "source": [
    "column_name = 'FHO'\n",
    "\n",
    "# Get the frequency of NaN values in the column\n",
    "nan_frequency = train[column_name].isna().sum()\n",
    "\n",
    "print(\"Frequency of NaN values in '{}' column: {}\".format(column_name, nan_frequency))"
   ]
  },
  {
   "cell_type": "code",
   "execution_count": 13,
   "id": "083d3fb8",
   "metadata": {
    "execution": {
     "iopub.execute_input": "2024-04-07T18:10:33.571952Z",
     "iopub.status.busy": "2024-04-07T18:10:33.570910Z",
     "iopub.status.idle": "2024-04-07T18:10:33.577363Z",
     "shell.execute_reply": "2024-04-07T18:10:33.576539Z"
    },
    "papermill": {
     "duration": 0.029157,
     "end_time": "2024-04-07T18:10:33.579904",
     "exception": false,
     "start_time": "2024-04-07T18:10:33.550747",
     "status": "completed"
    },
    "tags": []
   },
   "outputs": [
    {
     "name": "stdout",
     "output_type": "stream",
     "text": [
      "Frequency of NaN values in 'FHO' column: 8\n"
     ]
    }
   ],
   "source": [
    "column_name = 'FHO'\n",
    "\n",
    "# Get the frequency of NaN values in the column\n",
    "nan_frequency = test[column_name].isna().sum()\n",
    "\n",
    "print(\"Frequency of NaN values in '{}' column: {}\".format(column_name, nan_frequency))"
   ]
  },
  {
   "cell_type": "code",
   "execution_count": 14,
   "id": "0fbf4e11",
   "metadata": {
    "execution": {
     "iopub.execute_input": "2024-04-07T18:10:33.613511Z",
     "iopub.status.busy": "2024-04-07T18:10:33.612665Z",
     "iopub.status.idle": "2024-04-07T18:10:33.621796Z",
     "shell.execute_reply": "2024-04-07T18:10:33.620827Z"
    },
    "papermill": {
     "duration": 0.026052,
     "end_time": "2024-04-07T18:10:33.624008",
     "exception": false,
     "start_time": "2024-04-07T18:10:33.597956",
     "status": "completed"
    },
    "tags": []
   },
   "outputs": [],
   "source": [
    "column_name = 'FHO'\n",
    "\n",
    "# Calculate the mode\n",
    "mode_value = train[column_name].mode()[0]  # Mode might return multiple values, we take the first one\n",
    "\n",
    "# Replace NaN values with the mode\n",
    "train.fillna({column_name: mode_value}, inplace=True)"
   ]
  },
  {
   "cell_type": "code",
   "execution_count": 15,
   "id": "3155d5bd",
   "metadata": {
    "execution": {
     "iopub.execute_input": "2024-04-07T18:10:33.652645Z",
     "iopub.status.busy": "2024-04-07T18:10:33.651738Z",
     "iopub.status.idle": "2024-04-07T18:10:33.659228Z",
     "shell.execute_reply": "2024-04-07T18:10:33.658152Z"
    },
    "papermill": {
     "duration": 0.024302,
     "end_time": "2024-04-07T18:10:33.661389",
     "exception": false,
     "start_time": "2024-04-07T18:10:33.637087",
     "status": "completed"
    },
    "tags": []
   },
   "outputs": [],
   "source": [
    "column_name = 'FHO'\n",
    "\n",
    "# Calculate the mode\n",
    "mode_value = test[column_name].mode()[0]  # Mode might return multiple values, we take the first one\n",
    "\n",
    "# Replace NaN values with the mode\n",
    "test.fillna({column_name: mode_value}, inplace=True)"
   ]
  },
  {
   "cell_type": "code",
   "execution_count": 16,
   "id": "07f0e795",
   "metadata": {
    "execution": {
     "iopub.execute_input": "2024-04-07T18:10:33.690144Z",
     "iopub.status.busy": "2024-04-07T18:10:33.689280Z",
     "iopub.status.idle": "2024-04-07T18:10:33.696645Z",
     "shell.execute_reply": "2024-04-07T18:10:33.695375Z"
    },
    "papermill": {
     "duration": 0.024242,
     "end_time": "2024-04-07T18:10:33.698767",
     "exception": false,
     "start_time": "2024-04-07T18:10:33.674525",
     "status": "completed"
    },
    "tags": []
   },
   "outputs": [
    {
     "name": "stdout",
     "output_type": "stream",
     "text": [
      "['Sometimes' 'Frequently' 'Always' '0' nan]\n"
     ]
    }
   ],
   "source": [
    "unique_values = train['CAEC'].unique()\n",
    "print(unique_values)"
   ]
  },
  {
   "cell_type": "code",
   "execution_count": 17,
   "id": "8fe7048c",
   "metadata": {
    "execution": {
     "iopub.execute_input": "2024-04-07T18:10:33.733030Z",
     "iopub.status.busy": "2024-04-07T18:10:33.732044Z",
     "iopub.status.idle": "2024-04-07T18:10:33.739826Z",
     "shell.execute_reply": "2024-04-07T18:10:33.739061Z"
    },
    "papermill": {
     "duration": 0.030174,
     "end_time": "2024-04-07T18:10:33.742298",
     "exception": false,
     "start_time": "2024-04-07T18:10:33.712124",
     "status": "completed"
    },
    "tags": []
   },
   "outputs": [
    {
     "name": "stdout",
     "output_type": "stream",
     "text": [
      "['Sometimes' 'Frequently' 'Always' '0' nan]\n"
     ]
    }
   ],
   "source": [
    "unique_values = test['CAEC'].unique()\n",
    "print(unique_values)"
   ]
  },
  {
   "cell_type": "code",
   "execution_count": 18,
   "id": "d177f2b9",
   "metadata": {
    "execution": {
     "iopub.execute_input": "2024-04-07T18:10:33.784515Z",
     "iopub.status.busy": "2024-04-07T18:10:33.783883Z",
     "iopub.status.idle": "2024-04-07T18:10:33.790187Z",
     "shell.execute_reply": "2024-04-07T18:10:33.789411Z"
    },
    "papermill": {
     "duration": 0.030172,
     "end_time": "2024-04-07T18:10:33.792593",
     "exception": false,
     "start_time": "2024-04-07T18:10:33.762421",
     "status": "completed"
    },
    "tags": []
   },
   "outputs": [
    {
     "name": "stdout",
     "output_type": "stream",
     "text": [
      "Frequency of NaN values in 'CAEC' column: 14\n"
     ]
    }
   ],
   "source": [
    "column_name = 'CAEC'\n",
    "\n",
    "# Get the frequency of NaN values in the column\n",
    "nan_frequency = train[column_name].isna().sum()\n",
    "\n",
    "print(\"Frequency of NaN values in '{}' column: {}\".format(column_name, nan_frequency))"
   ]
  },
  {
   "cell_type": "code",
   "execution_count": 19,
   "id": "67d28b3a",
   "metadata": {
    "execution": {
     "iopub.execute_input": "2024-04-07T18:10:33.837163Z",
     "iopub.status.busy": "2024-04-07T18:10:33.836484Z",
     "iopub.status.idle": "2024-04-07T18:10:33.842932Z",
     "shell.execute_reply": "2024-04-07T18:10:33.842062Z"
    },
    "papermill": {
     "duration": 0.031085,
     "end_time": "2024-04-07T18:10:33.845284",
     "exception": false,
     "start_time": "2024-04-07T18:10:33.814199",
     "status": "completed"
    },
    "tags": []
   },
   "outputs": [
    {
     "name": "stdout",
     "output_type": "stream",
     "text": [
      "Frequency of NaN values in 'CAEC' column: 6\n"
     ]
    }
   ],
   "source": [
    "column_name = 'CAEC'\n",
    "\n",
    "# Get the frequency of NaN values in the column\n",
    "nan_frequency = test[column_name].isna().sum()\n",
    "\n",
    "print(\"Frequency of NaN values in '{}' column: {}\".format(column_name, nan_frequency))"
   ]
  },
  {
   "cell_type": "code",
   "execution_count": 20,
   "id": "82ad151a",
   "metadata": {
    "execution": {
     "iopub.execute_input": "2024-04-07T18:10:33.878619Z",
     "iopub.status.busy": "2024-04-07T18:10:33.878237Z",
     "iopub.status.idle": "2024-04-07T18:10:33.887168Z",
     "shell.execute_reply": "2024-04-07T18:10:33.886283Z"
    },
    "papermill": {
     "duration": 0.026191,
     "end_time": "2024-04-07T18:10:33.889382",
     "exception": false,
     "start_time": "2024-04-07T18:10:33.863191",
     "status": "completed"
    },
    "tags": []
   },
   "outputs": [],
   "source": [
    "column_name = 'CAEC'\n",
    "\n",
    "# Calculate the mode\n",
    "mode_value = train[column_name].mode()[0]  # Mode might return multiple values, we take the first one\n",
    "\n",
    "# Replace NaN values with the mode\n",
    "train.fillna({column_name: mode_value}, inplace=True)"
   ]
  },
  {
   "cell_type": "code",
   "execution_count": 21,
   "id": "151c4718",
   "metadata": {
    "execution": {
     "iopub.execute_input": "2024-04-07T18:10:33.918267Z",
     "iopub.status.busy": "2024-04-07T18:10:33.917651Z",
     "iopub.status.idle": "2024-04-07T18:10:33.924840Z",
     "shell.execute_reply": "2024-04-07T18:10:33.924127Z"
    },
    "papermill": {
     "duration": 0.024732,
     "end_time": "2024-04-07T18:10:33.927604",
     "exception": false,
     "start_time": "2024-04-07T18:10:33.902872",
     "status": "completed"
    },
    "tags": []
   },
   "outputs": [],
   "source": [
    "column_name = 'CAEC'\n",
    "\n",
    "# Calculate the mode\n",
    "mode_value = test[column_name].mode()[0]  # Mode might return multiple values, we take the first one\n",
    "\n",
    "# Replace NaN values with the mode\n",
    "test.fillna({column_name: mode_value}, inplace=True)"
   ]
  },
  {
   "cell_type": "code",
   "execution_count": 22,
   "id": "bba542fa",
   "metadata": {
    "execution": {
     "iopub.execute_input": "2024-04-07T18:10:33.961251Z",
     "iopub.status.busy": "2024-04-07T18:10:33.960660Z",
     "iopub.status.idle": "2024-04-07T18:10:33.967233Z",
     "shell.execute_reply": "2024-04-07T18:10:33.966154Z"
    },
    "papermill": {
     "duration": 0.023678,
     "end_time": "2024-04-07T18:10:33.969237",
     "exception": false,
     "start_time": "2024-04-07T18:10:33.945559",
     "status": "completed"
    },
    "tags": []
   },
   "outputs": [
    {
     "name": "stdout",
     "output_type": "stream",
     "text": [
      "['0' 'Sometimes' 'Frequently']\n"
     ]
    }
   ],
   "source": [
    "unique_values = train['CA'].unique()\n",
    "print(unique_values)"
   ]
  },
  {
   "cell_type": "code",
   "execution_count": 23,
   "id": "493e478a",
   "metadata": {
    "execution": {
     "iopub.execute_input": "2024-04-07T18:10:34.061114Z",
     "iopub.status.busy": "2024-04-07T18:10:34.060245Z",
     "iopub.status.idle": "2024-04-07T18:10:34.067706Z",
     "shell.execute_reply": "2024-04-07T18:10:34.066562Z"
    },
    "papermill": {
     "duration": 0.024495,
     "end_time": "2024-04-07T18:10:34.069633",
     "exception": false,
     "start_time": "2024-04-07T18:10:34.045138",
     "status": "completed"
    },
    "tags": []
   },
   "outputs": [
    {
     "name": "stdout",
     "output_type": "stream",
     "text": [
      "['Sometimes' '0' 'Frequently']\n"
     ]
    }
   ],
   "source": [
    "unique_values = test['CA'].unique()\n",
    "print(unique_values)"
   ]
  },
  {
   "cell_type": "code",
   "execution_count": 24,
   "id": "5f200f86",
   "metadata": {
    "execution": {
     "iopub.execute_input": "2024-04-07T18:10:34.098503Z",
     "iopub.status.busy": "2024-04-07T18:10:34.097686Z",
     "iopub.status.idle": "2024-04-07T18:10:34.105131Z",
     "shell.execute_reply": "2024-04-07T18:10:34.104050Z"
    },
    "papermill": {
     "duration": 0.024258,
     "end_time": "2024-04-07T18:10:34.107156",
     "exception": false,
     "start_time": "2024-04-07T18:10:34.082898",
     "status": "completed"
    },
    "tags": []
   },
   "outputs": [
    {
     "name": "stdout",
     "output_type": "stream",
     "text": [
      "['Walking' 'Public_Transportation' 'Automobile' 'Motorbike' 'Bike' ' ']\n"
     ]
    }
   ],
   "source": [
    "unique_values = train['Mode'].unique()\n",
    "print(unique_values)"
   ]
  },
  {
   "cell_type": "code",
   "execution_count": 25,
   "id": "b12d497c",
   "metadata": {
    "execution": {
     "iopub.execute_input": "2024-04-07T18:10:34.135535Z",
     "iopub.status.busy": "2024-04-07T18:10:34.135085Z",
     "iopub.status.idle": "2024-04-07T18:10:34.142473Z",
     "shell.execute_reply": "2024-04-07T18:10:34.141330Z"
    },
    "papermill": {
     "duration": 0.024033,
     "end_time": "2024-04-07T18:10:34.144498",
     "exception": false,
     "start_time": "2024-04-07T18:10:34.120465",
     "status": "completed"
    },
    "tags": []
   },
   "outputs": [
    {
     "name": "stdout",
     "output_type": "stream",
     "text": [
      "['Public_Transportation' 'Automobile' 'Bike' ' ' 'Walking' 'Motorbike']\n"
     ]
    }
   ],
   "source": [
    "unique_values = test['Mode'].unique()\n",
    "print(unique_values)"
   ]
  },
  {
   "cell_type": "code",
   "execution_count": 26,
   "id": "fbbf676f",
   "metadata": {
    "execution": {
     "iopub.execute_input": "2024-04-07T18:10:34.175275Z",
     "iopub.status.busy": "2024-04-07T18:10:34.174514Z",
     "iopub.status.idle": "2024-04-07T18:10:34.181260Z",
     "shell.execute_reply": "2024-04-07T18:10:34.180374Z"
    },
    "papermill": {
     "duration": 0.02524,
     "end_time": "2024-04-07T18:10:34.183293",
     "exception": false,
     "start_time": "2024-04-07T18:10:34.158053",
     "status": "completed"
    },
    "tags": []
   },
   "outputs": [
    {
     "name": "stdout",
     "output_type": "stream",
     "text": [
      "['83.0' '84.0' '65.220249' ... '80.562213' '118.306544' '91.348843']\n"
     ]
    }
   ],
   "source": [
    "unique_values = train['Weight'].unique()\n",
    "print(unique_values)"
   ]
  },
  {
   "cell_type": "code",
   "execution_count": 27,
   "id": "d39f7d25",
   "metadata": {
    "execution": {
     "iopub.execute_input": "2024-04-07T18:10:34.212756Z",
     "iopub.status.busy": "2024-04-07T18:10:34.211900Z",
     "iopub.status.idle": "2024-04-07T18:10:34.222737Z",
     "shell.execute_reply": "2024-04-07T18:10:34.221756Z"
    },
    "papermill": {
     "duration": 0.028242,
     "end_time": "2024-04-07T18:10:34.225083",
     "exception": false,
     "start_time": "2024-04-07T18:10:34.196841",
     "status": "completed"
    },
    "tags": []
   },
   "outputs": [],
   "source": [
    "column_name = 'Weight'\n",
    "\n",
    "# Calculate the mean\n",
    "mode_value = train[column_name].mode()[0]\n",
    "\n",
    "# Replace NaN values with the mean\n",
    "train.fillna({column_name: mode_value}, inplace=True)"
   ]
  },
  {
   "cell_type": "code",
   "execution_count": 28,
   "id": "d1b40dc7",
   "metadata": {
    "execution": {
     "iopub.execute_input": "2024-04-07T18:10:34.256157Z",
     "iopub.status.busy": "2024-04-07T18:10:34.255382Z",
     "iopub.status.idle": "2024-04-07T18:10:34.265068Z",
     "shell.execute_reply": "2024-04-07T18:10:34.264055Z"
    },
    "papermill": {
     "duration": 0.027798,
     "end_time": "2024-04-07T18:10:34.267219",
     "exception": false,
     "start_time": "2024-04-07T18:10:34.239421",
     "status": "completed"
    },
    "tags": []
   },
   "outputs": [],
   "source": [
    "column_name = 'Weight'\n",
    "\n",
    "# Calculate the mode\n",
    "mode_value = test[column_name].mode()[0]  # Mode might return multiple values, we take the first one\n",
    "\n",
    "# Replace NaN values with the mode\n",
    "test.fillna({column_name: mode_value}, inplace=True)"
   ]
  },
  {
   "cell_type": "code",
   "execution_count": 29,
   "id": "5626ff7c",
   "metadata": {
    "execution": {
     "iopub.execute_input": "2024-04-07T18:10:34.296249Z",
     "iopub.status.busy": "2024-04-07T18:10:34.295781Z",
     "iopub.status.idle": "2024-04-07T18:10:34.303394Z",
     "shell.execute_reply": "2024-04-07T18:10:34.302413Z"
    },
    "papermill": {
     "duration": 0.024825,
     "end_time": "2024-04-07T18:10:34.305568",
     "exception": false,
     "start_time": "2024-04-07T18:10:34.280743",
     "status": "completed"
    },
    "tags": []
   },
   "outputs": [],
   "source": [
    "column_name = 'Height'\n",
    "\n",
    "# Calculate the mode\n",
    "mode_value = train[column_name].mode()[0]  # Mode might return multiple values, we take the first one\n",
    "\n",
    "# Replace NaN values with the mode\n",
    "train.fillna({column_name: mode_value}, inplace=True)"
   ]
  },
  {
   "cell_type": "code",
   "execution_count": 30,
   "id": "75f4d4c5",
   "metadata": {
    "execution": {
     "iopub.execute_input": "2024-04-07T18:10:34.334589Z",
     "iopub.status.busy": "2024-04-07T18:10:34.334155Z",
     "iopub.status.idle": "2024-04-07T18:10:34.341461Z",
     "shell.execute_reply": "2024-04-07T18:10:34.340630Z"
    },
    "papermill": {
     "duration": 0.024428,
     "end_time": "2024-04-07T18:10:34.343392",
     "exception": false,
     "start_time": "2024-04-07T18:10:34.318964",
     "status": "completed"
    },
    "tags": []
   },
   "outputs": [],
   "source": [
    "column_name = 'Height'\n",
    "\n",
    "# Calculate the mode\n",
    "mode_value = test[column_name].mode()[0]  # Mode might return multiple values, we take the first one\n",
    "\n",
    "# Replace NaN values with the mode\n",
    "test.fillna({column_name: mode_value}, inplace=True)"
   ]
  },
  {
   "cell_type": "code",
   "execution_count": 31,
   "id": "c59c978c",
   "metadata": {
    "execution": {
     "iopub.execute_input": "2024-04-07T18:10:34.373465Z",
     "iopub.status.busy": "2024-04-07T18:10:34.372646Z",
     "iopub.status.idle": "2024-04-07T18:10:34.409124Z",
     "shell.execute_reply": "2024-04-07T18:10:34.408072Z"
    },
    "papermill": {
     "duration": 0.054775,
     "end_time": "2024-04-07T18:10:34.412244",
     "exception": false,
     "start_time": "2024-04-07T18:10:34.357469",
     "status": "completed"
    },
    "tags": []
   },
   "outputs": [
    {
     "name": "stdout",
     "output_type": "stream",
     "text": [
      "          id               uid        Age    Height      Weight        Hash  \\\n",
      "0      14633  Q68lpI2C3l8tw2QW  23.000000  1.700000        83.0  ##########   \n",
      "1      19443  eUsHPeGtQ1HwdF2p  23.000000  1.600000        84.0  ##########   \n",
      "2      10216  swftYdUOhKVvaKI8  28.825223  1.549748   65.220249  ##########   \n",
      "3       2016  U3xIAw1dohYe23cM  25.341399  1.787195  115.428276  ##########   \n",
      "4       9674  MrZ5Tzad8D250EPc  22.000000  1.750000        58.0  ##########   \n",
      "...      ...               ...        ...       ...         ...         ...   \n",
      "12449  11284  EfPUL1prjNsEwpKI  26.000000  1.639251  111.946321  ##########   \n",
      "12450  11964  3VnknaQ5N1mXJsvK  17.000000  1.700000        80.0  ##########   \n",
      "12451   5390  SeR70j4jAmAALIcc  23.000000  1.900000        95.0  ##########   \n",
      "12452    860  hpCwdi6QVsaD7ZIc  24.000000  1.790000        84.0  ##########   \n",
      "12453  15795  BRdgjP92dtXlX1vp  18.038422  1.799742   52.058335  ##########   \n",
      "\n",
      "       FHO  CHCF        CV  NCP  ...  Mode_Walking   CA_0  CA_Frequently  \\\n",
      "0      1.0     0  2.000000  3.0  ...          True   True          False   \n",
      "1      1.0     1  2.000000  3.0  ...         False   True          False   \n",
      "2      1.0     0  2.000000  3.0  ...         False  False          False   \n",
      "3      1.0     1  2.967300  3.0  ...         False  False          False   \n",
      "4      0.0     1  2.000000  4.0  ...         False   True          False   \n",
      "...    ...   ...       ...  ...  ...           ...    ...            ...   \n",
      "12449  1.0     1  3.000000  3.0  ...         False  False          False   \n",
      "12450  1.0     1  2.000000  3.0  ...         False  False          False   \n",
      "12451  1.0     1  2.000000  3.0  ...          True  False           True   \n",
      "12452  1.0     0  2.000000  3.0  ...         False  False          False   \n",
      "12453  1.0     1  2.824559  3.0  ...         False  False          False   \n",
      "\n",
      "       CA_Sometimes  CAEC_0 CAEC_Always  CAEC_Frequently  CAEC_Sometimes  \\\n",
      "0             False   False       False            False            True   \n",
      "1             False   False       False            False            True   \n",
      "2              True   False       False            False            True   \n",
      "3              True   False       False            False            True   \n",
      "4             False   False       False            False            True   \n",
      "...             ...     ...         ...              ...             ...   \n",
      "12449          True   False       False            False            True   \n",
      "12450          True   False       False            False            True   \n",
      "12451         False   False        True            False           False   \n",
      "12452          True   False       False            False            True   \n",
      "12453          True   False       False            False            True   \n",
      "\n",
      "       Gender_Female  Gender_Male  \n",
      "0              False         True  \n",
      "1               True        False  \n",
      "2               True        False  \n",
      "3              False         True  \n",
      "4              False         True  \n",
      "...              ...          ...  \n",
      "12449           True        False  \n",
      "12450          False         True  \n",
      "12451          False         True  \n",
      "12452          False         True  \n",
      "12453          False         True  \n",
      "\n",
      "[12454 rows x 36 columns]\n"
     ]
    }
   ],
   "source": [
    "columns_to_encode = ['Location', 'Mode', 'CA', 'CAEC', 'Gender']\n",
    "\n",
    "# Perform one-hot encoding\n",
    "one_hot_encoded_train = pd.get_dummies(train, columns=columns_to_encode)\n",
    "print(one_hot_encoded_train)"
   ]
  },
  {
   "cell_type": "code",
   "execution_count": 32,
   "id": "148a5699",
   "metadata": {
    "execution": {
     "iopub.execute_input": "2024-04-07T18:10:34.441750Z",
     "iopub.status.busy": "2024-04-07T18:10:34.440828Z",
     "iopub.status.idle": "2024-04-07T18:10:34.447095Z",
     "shell.execute_reply": "2024-04-07T18:10:34.445977Z"
    },
    "papermill": {
     "duration": 0.023362,
     "end_time": "2024-04-07T18:10:34.449399",
     "exception": false,
     "start_time": "2024-04-07T18:10:34.426037",
     "status": "completed"
    },
    "tags": []
   },
   "outputs": [
    {
     "name": "stdout",
     "output_type": "stream",
     "text": [
      "['##########' nan]\n"
     ]
    }
   ],
   "source": [
    "unique_values = test['Hash'].unique()\n",
    "print(unique_values)"
   ]
  },
  {
   "cell_type": "code",
   "execution_count": 33,
   "id": "59e0fcf8",
   "metadata": {
    "execution": {
     "iopub.execute_input": "2024-04-07T18:10:34.479745Z",
     "iopub.status.busy": "2024-04-07T18:10:34.479018Z",
     "iopub.status.idle": "2024-04-07T18:10:34.487575Z",
     "shell.execute_reply": "2024-04-07T18:10:34.486478Z"
    },
    "papermill": {
     "duration": 0.026008,
     "end_time": "2024-04-07T18:10:34.489688",
     "exception": false,
     "start_time": "2024-04-07T18:10:34.463680",
     "status": "completed"
    },
    "tags": []
   },
   "outputs": [],
   "source": [
    "column_to_delete = 'Hash'\n",
    "\n",
    "# Delete the column\n",
    "one_hot_encoded_train = one_hot_encoded_train.drop(columns=[column_to_delete])\n",
    "test = test.drop(columns=[column_to_delete])"
   ]
  },
  {
   "cell_type": "code",
   "execution_count": 34,
   "id": "9aa3aada",
   "metadata": {
    "execution": {
     "iopub.execute_input": "2024-04-07T18:10:34.520793Z",
     "iopub.status.busy": "2024-04-07T18:10:34.520198Z",
     "iopub.status.idle": "2024-04-07T18:10:34.546567Z",
     "shell.execute_reply": "2024-04-07T18:10:34.545507Z"
    },
    "papermill": {
     "duration": 0.045839,
     "end_time": "2024-04-07T18:10:34.549711",
     "exception": false,
     "start_time": "2024-04-07T18:10:34.503872",
     "status": "completed"
    },
    "tags": []
   },
   "outputs": [
    {
     "name": "stdout",
     "output_type": "stream",
     "text": [
      "         id               uid        Age    Height      Weight  FHO  CHCF  \\\n",
      "0     10317  7w53s2NgM2arZAvM  25.951979  1.669039  104.954291  1.0     1   \n",
      "1      4074  kTLn00K8evgYXWxR  40.993179  1.567973   81.022119  1.0     1   \n",
      "2      9060  81HX39uej0BR1xIl  21.000000  1.740000        76.0  0.0     1   \n",
      "3     11286  DA9eqs9fs7wJUIet  33.000000  1.680000        83.0  1.0     1   \n",
      "4      8254  SJ1Z7TBmojAPlJXd  35.194089  1.673482   73.193589  1.0     0   \n",
      "...     ...               ...        ...       ...         ...  ...   ...   \n",
      "8299   5294  gb0h3fw2irbHfbQF  20.000000  1.600000        42.0  0.0     1   \n",
      "8300   4473  0nYHoAUSo64MYow1  21.420537  1.739457  133.735889  1.0     1   \n",
      "8301  20603  fsY3VDGY5FxKByDJ  18.000000  1.600000        60.0  0.0     1   \n",
      "8302  10907  vYHNnxWeiuJA9SoJ  18.014333  1.624099        45.0  0.0     1   \n",
      "8303   8452  be1IBM4wuNjvtRJ9  19.000000  1.750000        70.0  0.0     0   \n",
      "\n",
      "            CV  NCP  SMOKE  ...  Mode_Walking   CA_0  CA_Frequently  \\\n",
      "0     3.000000  3.0      0  ...         False  False          False   \n",
      "1     2.921576  3.0      0  ...         False   True          False   \n",
      "2     3.000000  3.0      0  ...         False  False          False   \n",
      "3     2.000000  1.0      0  ...         False  False          False   \n",
      "4     3.000000  3.0      0  ...         False  False          False   \n",
      "...        ...  ...    ...  ...           ...    ...            ...   \n",
      "8299  3.000000  1.0      0  ...         False  False          False   \n",
      "8300  3.000000  3.0      0  ...         False  False          False   \n",
      "8301  3.000000  3.0      0  ...         False   True          False   \n",
      "8302  3.000000  3.0      0  ...         False  False          False   \n",
      "8303  3.000000  3.0      0  ...          True  False          False   \n",
      "\n",
      "      CA_Sometimes  CAEC_0  CAEC_Always  CAEC_Frequently  CAEC_Sometimes  \\\n",
      "0             True   False        False            False            True   \n",
      "1            False   False        False            False            True   \n",
      "2             True   False        False            False            True   \n",
      "3             True   False        False            False            True   \n",
      "4             True   False        False            False            True   \n",
      "...            ...     ...          ...              ...             ...   \n",
      "8299          True   False        False             True           False   \n",
      "8300          True   False        False            False            True   \n",
      "8301         False   False         True            False           False   \n",
      "8302          True   False        False            False            True   \n",
      "8303          True   False         True            False           False   \n",
      "\n",
      "      Gender_Female  Gender_Male  \n",
      "0              True        False  \n",
      "1              True        False  \n",
      "2             False         True  \n",
      "3             False         True  \n",
      "4              True        False  \n",
      "...             ...          ...  \n",
      "8299           True        False  \n",
      "8300           True        False  \n",
      "8301           True        False  \n",
      "8302           True        False  \n",
      "8303          False         True  \n",
      "\n",
      "[8304 rows x 34 columns]\n"
     ]
    }
   ],
   "source": [
    "columns_to_encode = ['Location', 'Mode', 'CA', 'CAEC', 'Gender']\n",
    "\n",
    "# Perform one-hot encoding\n",
    "one_hot_encoded_test = pd.get_dummies(test, columns=columns_to_encode)\n",
    "print(one_hot_encoded_test)"
   ]
  },
  {
   "cell_type": "code",
   "execution_count": 35,
   "id": "428e8682",
   "metadata": {
    "execution": {
     "iopub.execute_input": "2024-04-07T18:10:34.579951Z",
     "iopub.status.busy": "2024-04-07T18:10:34.579364Z",
     "iopub.status.idle": "2024-04-07T18:10:34.596203Z",
     "shell.execute_reply": "2024-04-07T18:10:34.595068Z"
    },
    "papermill": {
     "duration": 0.034847,
     "end_time": "2024-04-07T18:10:34.598780",
     "exception": false,
     "start_time": "2024-04-07T18:10:34.563933",
     "status": "completed"
    },
    "tags": []
   },
   "outputs": [
    {
     "name": "stdout",
     "output_type": "stream",
     "text": [
      "          id               uid        Age    Height      Weight  FHO  CHCF  \\\n",
      "0      14633  Q68lpI2C3l8tw2QW  23.000000  1.700000        83.0  1.0     0   \n",
      "1      19443  eUsHPeGtQ1HwdF2p  23.000000  1.600000        84.0  1.0     1   \n",
      "2      10216  swftYdUOhKVvaKI8  28.825223  1.549748   65.220249  1.0     0   \n",
      "3       2016  U3xIAw1dohYe23cM  25.341399  1.787195  115.428276  1.0     1   \n",
      "4       9674  MrZ5Tzad8D250EPc  22.000000  1.750000        58.0  0.0     1   \n",
      "...      ...               ...        ...       ...         ...  ...   ...   \n",
      "12449  11284  EfPUL1prjNsEwpKI  26.000000  1.639251  111.946321  1.0     1   \n",
      "12450  11964  3VnknaQ5N1mXJsvK  17.000000  1.700000        80.0  1.0     1   \n",
      "12451   5390  SeR70j4jAmAALIcc  23.000000  1.900000        95.0  1.0     1   \n",
      "12452    860  hpCwdi6QVsaD7ZIc  24.000000  1.790000        84.0  1.0     0   \n",
      "12453  15795  BRdgjP92dtXlX1vp  18.038422  1.799742   52.058335  1.0     1   \n",
      "\n",
      "             CV  NCP  SMOKE  ...  Mode_Walking   CA_0  CA_Frequently  \\\n",
      "0      2.000000  3.0      0  ...          True   True          False   \n",
      "1      2.000000  3.0      0  ...         False   True          False   \n",
      "2      2.000000  3.0      0  ...         False  False          False   \n",
      "3      2.967300  3.0      0  ...         False  False          False   \n",
      "4      2.000000  4.0      0  ...         False   True          False   \n",
      "...         ...  ...    ...  ...           ...    ...            ...   \n",
      "12449  3.000000  3.0      0  ...         False  False          False   \n",
      "12450  2.000000  3.0      0  ...         False  False          False   \n",
      "12451  2.000000  3.0      0  ...          True  False           True   \n",
      "12452  2.000000  3.0      0  ...         False  False          False   \n",
      "12453  2.824559  3.0      0  ...         False  False          False   \n",
      "\n",
      "       CA_Sometimes CAEC_0  CAEC_Always  CAEC_Frequently  CAEC_Sometimes  \\\n",
      "0             False  False        False            False            True   \n",
      "1             False  False        False            False            True   \n",
      "2              True  False        False            False            True   \n",
      "3              True  False        False            False            True   \n",
      "4             False  False        False            False            True   \n",
      "...             ...    ...          ...              ...             ...   \n",
      "12449          True  False        False            False            True   \n",
      "12450          True  False        False            False            True   \n",
      "12451         False  False         True            False           False   \n",
      "12452          True  False        False            False            True   \n",
      "12453          True  False        False            False            True   \n",
      "\n",
      "       Gender_Female  Gender_Male  \n",
      "0              False         True  \n",
      "1               True        False  \n",
      "2               True        False  \n",
      "3              False         True  \n",
      "4              False         True  \n",
      "...              ...          ...  \n",
      "12449           True        False  \n",
      "12450          False         True  \n",
      "12451          False         True  \n",
      "12452          False         True  \n",
      "12453          False         True  \n",
      "\n",
      "[12454 rows x 35 columns]\n"
     ]
    }
   ],
   "source": [
    "print(one_hot_encoded_train)"
   ]
  },
  {
   "cell_type": "code",
   "execution_count": 36,
   "id": "aaadaf34",
   "metadata": {
    "execution": {
     "iopub.execute_input": "2024-04-07T18:10:34.629599Z",
     "iopub.status.busy": "2024-04-07T18:10:34.628331Z",
     "iopub.status.idle": "2024-04-07T18:10:34.654554Z",
     "shell.execute_reply": "2024-04-07T18:10:34.653834Z"
    },
    "papermill": {
     "duration": 0.04421,
     "end_time": "2024-04-07T18:10:34.657224",
     "exception": false,
     "start_time": "2024-04-07T18:10:34.613014",
     "status": "completed"
    },
    "tags": []
   },
   "outputs": [
    {
     "data": {
      "text/html": [
       "<div>\n",
       "<style scoped>\n",
       "    .dataframe tbody tr th:only-of-type {\n",
       "        vertical-align: middle;\n",
       "    }\n",
       "\n",
       "    .dataframe tbody tr th {\n",
       "        vertical-align: top;\n",
       "    }\n",
       "\n",
       "    .dataframe thead th {\n",
       "        text-align: right;\n",
       "    }\n",
       "</style>\n",
       "<table border=\"1\" class=\"dataframe\">\n",
       "  <thead>\n",
       "    <tr style=\"text-align: right;\">\n",
       "      <th></th>\n",
       "      <th>id</th>\n",
       "      <th>uid</th>\n",
       "      <th>Age</th>\n",
       "      <th>Height</th>\n",
       "      <th>Weight</th>\n",
       "      <th>FHO</th>\n",
       "      <th>CHCF</th>\n",
       "      <th>CV</th>\n",
       "      <th>NCP</th>\n",
       "      <th>SMOKE</th>\n",
       "      <th>...</th>\n",
       "      <th>Mode_Walking</th>\n",
       "      <th>CA_0</th>\n",
       "      <th>CA_Frequently</th>\n",
       "      <th>CA_Sometimes</th>\n",
       "      <th>CAEC_0</th>\n",
       "      <th>CAEC_Always</th>\n",
       "      <th>CAEC_Frequently</th>\n",
       "      <th>CAEC_Sometimes</th>\n",
       "      <th>Gender_Female</th>\n",
       "      <th>Gender_Male</th>\n",
       "    </tr>\n",
       "  </thead>\n",
       "  <tbody>\n",
       "    <tr>\n",
       "      <th>0</th>\n",
       "      <td>10317</td>\n",
       "      <td>7w53s2NgM2arZAvM</td>\n",
       "      <td>25.951979</td>\n",
       "      <td>1.669039</td>\n",
       "      <td>104.954291</td>\n",
       "      <td>1.0</td>\n",
       "      <td>1</td>\n",
       "      <td>3.000000</td>\n",
       "      <td>3.0</td>\n",
       "      <td>0</td>\n",
       "      <td>...</td>\n",
       "      <td>False</td>\n",
       "      <td>False</td>\n",
       "      <td>False</td>\n",
       "      <td>True</td>\n",
       "      <td>False</td>\n",
       "      <td>False</td>\n",
       "      <td>False</td>\n",
       "      <td>True</td>\n",
       "      <td>True</td>\n",
       "      <td>False</td>\n",
       "    </tr>\n",
       "    <tr>\n",
       "      <th>1</th>\n",
       "      <td>4074</td>\n",
       "      <td>kTLn00K8evgYXWxR</td>\n",
       "      <td>40.993179</td>\n",
       "      <td>1.567973</td>\n",
       "      <td>81.022119</td>\n",
       "      <td>1.0</td>\n",
       "      <td>1</td>\n",
       "      <td>2.921576</td>\n",
       "      <td>3.0</td>\n",
       "      <td>0</td>\n",
       "      <td>...</td>\n",
       "      <td>False</td>\n",
       "      <td>True</td>\n",
       "      <td>False</td>\n",
       "      <td>False</td>\n",
       "      <td>False</td>\n",
       "      <td>False</td>\n",
       "      <td>False</td>\n",
       "      <td>True</td>\n",
       "      <td>True</td>\n",
       "      <td>False</td>\n",
       "    </tr>\n",
       "    <tr>\n",
       "      <th>2</th>\n",
       "      <td>9060</td>\n",
       "      <td>81HX39uej0BR1xIl</td>\n",
       "      <td>21.000000</td>\n",
       "      <td>1.740000</td>\n",
       "      <td>76.0</td>\n",
       "      <td>0.0</td>\n",
       "      <td>1</td>\n",
       "      <td>3.000000</td>\n",
       "      <td>3.0</td>\n",
       "      <td>0</td>\n",
       "      <td>...</td>\n",
       "      <td>False</td>\n",
       "      <td>False</td>\n",
       "      <td>False</td>\n",
       "      <td>True</td>\n",
       "      <td>False</td>\n",
       "      <td>False</td>\n",
       "      <td>False</td>\n",
       "      <td>True</td>\n",
       "      <td>False</td>\n",
       "      <td>True</td>\n",
       "    </tr>\n",
       "    <tr>\n",
       "      <th>3</th>\n",
       "      <td>11286</td>\n",
       "      <td>DA9eqs9fs7wJUIet</td>\n",
       "      <td>33.000000</td>\n",
       "      <td>1.680000</td>\n",
       "      <td>83.0</td>\n",
       "      <td>1.0</td>\n",
       "      <td>1</td>\n",
       "      <td>2.000000</td>\n",
       "      <td>1.0</td>\n",
       "      <td>0</td>\n",
       "      <td>...</td>\n",
       "      <td>False</td>\n",
       "      <td>False</td>\n",
       "      <td>False</td>\n",
       "      <td>True</td>\n",
       "      <td>False</td>\n",
       "      <td>False</td>\n",
       "      <td>False</td>\n",
       "      <td>True</td>\n",
       "      <td>False</td>\n",
       "      <td>True</td>\n",
       "    </tr>\n",
       "    <tr>\n",
       "      <th>4</th>\n",
       "      <td>8254</td>\n",
       "      <td>SJ1Z7TBmojAPlJXd</td>\n",
       "      <td>35.194089</td>\n",
       "      <td>1.673482</td>\n",
       "      <td>73.193589</td>\n",
       "      <td>1.0</td>\n",
       "      <td>0</td>\n",
       "      <td>3.000000</td>\n",
       "      <td>3.0</td>\n",
       "      <td>0</td>\n",
       "      <td>...</td>\n",
       "      <td>False</td>\n",
       "      <td>False</td>\n",
       "      <td>False</td>\n",
       "      <td>True</td>\n",
       "      <td>False</td>\n",
       "      <td>False</td>\n",
       "      <td>False</td>\n",
       "      <td>True</td>\n",
       "      <td>True</td>\n",
       "      <td>False</td>\n",
       "    </tr>\n",
       "  </tbody>\n",
       "</table>\n",
       "<p>5 rows × 34 columns</p>\n",
       "</div>"
      ],
      "text/plain": [
       "      id               uid        Age    Height      Weight  FHO  CHCF  \\\n",
       "0  10317  7w53s2NgM2arZAvM  25.951979  1.669039  104.954291  1.0     1   \n",
       "1   4074  kTLn00K8evgYXWxR  40.993179  1.567973   81.022119  1.0     1   \n",
       "2   9060  81HX39uej0BR1xIl  21.000000  1.740000        76.0  0.0     1   \n",
       "3  11286  DA9eqs9fs7wJUIet  33.000000  1.680000        83.0  1.0     1   \n",
       "4   8254  SJ1Z7TBmojAPlJXd  35.194089  1.673482   73.193589  1.0     0   \n",
       "\n",
       "         CV  NCP  SMOKE  ...  Mode_Walking   CA_0  CA_Frequently  \\\n",
       "0  3.000000  3.0      0  ...         False  False          False   \n",
       "1  2.921576  3.0      0  ...         False   True          False   \n",
       "2  3.000000  3.0      0  ...         False  False          False   \n",
       "3  2.000000  1.0      0  ...         False  False          False   \n",
       "4  3.000000  3.0      0  ...         False  False          False   \n",
       "\n",
       "   CA_Sometimes  CAEC_0  CAEC_Always  CAEC_Frequently  CAEC_Sometimes  \\\n",
       "0          True   False        False            False            True   \n",
       "1         False   False        False            False            True   \n",
       "2          True   False        False            False            True   \n",
       "3          True   False        False            False            True   \n",
       "4          True   False        False            False            True   \n",
       "\n",
       "   Gender_Female  Gender_Male  \n",
       "0           True        False  \n",
       "1           True        False  \n",
       "2          False         True  \n",
       "3          False         True  \n",
       "4           True        False  \n",
       "\n",
       "[5 rows x 34 columns]"
      ]
     },
     "execution_count": 36,
     "metadata": {},
     "output_type": "execute_result"
    }
   ],
   "source": [
    "one_hot_encoded_test.head()"
   ]
  },
  {
   "cell_type": "code",
   "execution_count": 37,
   "id": "32ac706b",
   "metadata": {
    "execution": {
     "iopub.execute_input": "2024-04-07T18:10:34.704931Z",
     "iopub.status.busy": "2024-04-07T18:10:34.703722Z",
     "iopub.status.idle": "2024-04-07T18:10:34.730829Z",
     "shell.execute_reply": "2024-04-07T18:10:34.729792Z"
    },
    "papermill": {
     "duration": 0.052951,
     "end_time": "2024-04-07T18:10:34.733727",
     "exception": false,
     "start_time": "2024-04-07T18:10:34.680776",
     "status": "completed"
    },
    "tags": []
   },
   "outputs": [
    {
     "data": {
      "text/html": [
       "<div>\n",
       "<style scoped>\n",
       "    .dataframe tbody tr th:only-of-type {\n",
       "        vertical-align: middle;\n",
       "    }\n",
       "\n",
       "    .dataframe tbody tr th {\n",
       "        vertical-align: top;\n",
       "    }\n",
       "\n",
       "    .dataframe thead th {\n",
       "        text-align: right;\n",
       "    }\n",
       "</style>\n",
       "<table border=\"1\" class=\"dataframe\">\n",
       "  <thead>\n",
       "    <tr style=\"text-align: right;\">\n",
       "      <th></th>\n",
       "      <th>id</th>\n",
       "      <th>uid</th>\n",
       "      <th>Age</th>\n",
       "      <th>Height</th>\n",
       "      <th>Weight</th>\n",
       "      <th>FHO</th>\n",
       "      <th>CHCF</th>\n",
       "      <th>CV</th>\n",
       "      <th>NCP</th>\n",
       "      <th>SMOKE</th>\n",
       "      <th>...</th>\n",
       "      <th>Mode_Walking</th>\n",
       "      <th>CA_0</th>\n",
       "      <th>CA_Frequently</th>\n",
       "      <th>CA_Sometimes</th>\n",
       "      <th>CAEC_0</th>\n",
       "      <th>CAEC_Always</th>\n",
       "      <th>CAEC_Frequently</th>\n",
       "      <th>CAEC_Sometimes</th>\n",
       "      <th>Gender_Female</th>\n",
       "      <th>Gender_Male</th>\n",
       "    </tr>\n",
       "  </thead>\n",
       "  <tbody>\n",
       "    <tr>\n",
       "      <th>0</th>\n",
       "      <td>14633</td>\n",
       "      <td>Q68lpI2C3l8tw2QW</td>\n",
       "      <td>23.000000</td>\n",
       "      <td>1.700000</td>\n",
       "      <td>83.0</td>\n",
       "      <td>1.0</td>\n",
       "      <td>0</td>\n",
       "      <td>2.0000</td>\n",
       "      <td>3.0</td>\n",
       "      <td>0</td>\n",
       "      <td>...</td>\n",
       "      <td>True</td>\n",
       "      <td>True</td>\n",
       "      <td>False</td>\n",
       "      <td>False</td>\n",
       "      <td>False</td>\n",
       "      <td>False</td>\n",
       "      <td>False</td>\n",
       "      <td>True</td>\n",
       "      <td>False</td>\n",
       "      <td>True</td>\n",
       "    </tr>\n",
       "    <tr>\n",
       "      <th>1</th>\n",
       "      <td>19443</td>\n",
       "      <td>eUsHPeGtQ1HwdF2p</td>\n",
       "      <td>23.000000</td>\n",
       "      <td>1.600000</td>\n",
       "      <td>84.0</td>\n",
       "      <td>1.0</td>\n",
       "      <td>1</td>\n",
       "      <td>2.0000</td>\n",
       "      <td>3.0</td>\n",
       "      <td>0</td>\n",
       "      <td>...</td>\n",
       "      <td>False</td>\n",
       "      <td>True</td>\n",
       "      <td>False</td>\n",
       "      <td>False</td>\n",
       "      <td>False</td>\n",
       "      <td>False</td>\n",
       "      <td>False</td>\n",
       "      <td>True</td>\n",
       "      <td>True</td>\n",
       "      <td>False</td>\n",
       "    </tr>\n",
       "    <tr>\n",
       "      <th>2</th>\n",
       "      <td>10216</td>\n",
       "      <td>swftYdUOhKVvaKI8</td>\n",
       "      <td>28.825223</td>\n",
       "      <td>1.549748</td>\n",
       "      <td>65.220249</td>\n",
       "      <td>1.0</td>\n",
       "      <td>0</td>\n",
       "      <td>2.0000</td>\n",
       "      <td>3.0</td>\n",
       "      <td>0</td>\n",
       "      <td>...</td>\n",
       "      <td>False</td>\n",
       "      <td>False</td>\n",
       "      <td>False</td>\n",
       "      <td>True</td>\n",
       "      <td>False</td>\n",
       "      <td>False</td>\n",
       "      <td>False</td>\n",
       "      <td>True</td>\n",
       "      <td>True</td>\n",
       "      <td>False</td>\n",
       "    </tr>\n",
       "    <tr>\n",
       "      <th>3</th>\n",
       "      <td>2016</td>\n",
       "      <td>U3xIAw1dohYe23cM</td>\n",
       "      <td>25.341399</td>\n",
       "      <td>1.787195</td>\n",
       "      <td>115.428276</td>\n",
       "      <td>1.0</td>\n",
       "      <td>1</td>\n",
       "      <td>2.9673</td>\n",
       "      <td>3.0</td>\n",
       "      <td>0</td>\n",
       "      <td>...</td>\n",
       "      <td>False</td>\n",
       "      <td>False</td>\n",
       "      <td>False</td>\n",
       "      <td>True</td>\n",
       "      <td>False</td>\n",
       "      <td>False</td>\n",
       "      <td>False</td>\n",
       "      <td>True</td>\n",
       "      <td>False</td>\n",
       "      <td>True</td>\n",
       "    </tr>\n",
       "    <tr>\n",
       "      <th>4</th>\n",
       "      <td>9674</td>\n",
       "      <td>MrZ5Tzad8D250EPc</td>\n",
       "      <td>22.000000</td>\n",
       "      <td>1.750000</td>\n",
       "      <td>58.0</td>\n",
       "      <td>0.0</td>\n",
       "      <td>1</td>\n",
       "      <td>2.0000</td>\n",
       "      <td>4.0</td>\n",
       "      <td>0</td>\n",
       "      <td>...</td>\n",
       "      <td>False</td>\n",
       "      <td>True</td>\n",
       "      <td>False</td>\n",
       "      <td>False</td>\n",
       "      <td>False</td>\n",
       "      <td>False</td>\n",
       "      <td>False</td>\n",
       "      <td>True</td>\n",
       "      <td>False</td>\n",
       "      <td>True</td>\n",
       "    </tr>\n",
       "  </tbody>\n",
       "</table>\n",
       "<p>5 rows × 35 columns</p>\n",
       "</div>"
      ],
      "text/plain": [
       "      id               uid        Age    Height      Weight  FHO  CHCF  \\\n",
       "0  14633  Q68lpI2C3l8tw2QW  23.000000  1.700000        83.0  1.0     0   \n",
       "1  19443  eUsHPeGtQ1HwdF2p  23.000000  1.600000        84.0  1.0     1   \n",
       "2  10216  swftYdUOhKVvaKI8  28.825223  1.549748   65.220249  1.0     0   \n",
       "3   2016  U3xIAw1dohYe23cM  25.341399  1.787195  115.428276  1.0     1   \n",
       "4   9674  MrZ5Tzad8D250EPc  22.000000  1.750000        58.0  0.0     1   \n",
       "\n",
       "       CV  NCP  SMOKE  ...  Mode_Walking   CA_0  CA_Frequently  CA_Sometimes  \\\n",
       "0  2.0000  3.0      0  ...          True   True          False         False   \n",
       "1  2.0000  3.0      0  ...         False   True          False         False   \n",
       "2  2.0000  3.0      0  ...         False  False          False          True   \n",
       "3  2.9673  3.0      0  ...         False  False          False          True   \n",
       "4  2.0000  4.0      0  ...         False   True          False         False   \n",
       "\n",
       "  CAEC_0  CAEC_Always  CAEC_Frequently  CAEC_Sometimes  Gender_Female  \\\n",
       "0  False        False            False            True          False   \n",
       "1  False        False            False            True           True   \n",
       "2  False        False            False            True           True   \n",
       "3  False        False            False            True          False   \n",
       "4  False        False            False            True          False   \n",
       "\n",
       "   Gender_Male  \n",
       "0         True  \n",
       "1        False  \n",
       "2        False  \n",
       "3         True  \n",
       "4         True  \n",
       "\n",
       "[5 rows x 35 columns]"
      ]
     },
     "execution_count": 37,
     "metadata": {},
     "output_type": "execute_result"
    }
   ],
   "source": [
    "one_hot_encoded_train.head()"
   ]
  },
  {
   "cell_type": "code",
   "execution_count": 38,
   "id": "915f431b",
   "metadata": {
    "execution": {
     "iopub.execute_input": "2024-04-07T18:10:34.778812Z",
     "iopub.status.busy": "2024-04-07T18:10:34.777759Z",
     "iopub.status.idle": "2024-04-07T18:10:34.788112Z",
     "shell.execute_reply": "2024-04-07T18:10:34.786752Z"
    },
    "papermill": {
     "duration": 0.032272,
     "end_time": "2024-04-07T18:10:34.791561",
     "exception": false,
     "start_time": "2024-04-07T18:10:34.759289",
     "status": "completed"
    },
    "tags": []
   },
   "outputs": [],
   "source": [
    "column_to_delete = 'uid'\n",
    "\n",
    "# Delete the column\n",
    "one_hot_encoded_train = one_hot_encoded_train.drop(columns=[column_to_delete])\n",
    "one_hot_encoded_test = one_hot_encoded_test.drop(columns=[column_to_delete])"
   ]
  },
  {
   "cell_type": "code",
   "execution_count": 39,
   "id": "129343c1",
   "metadata": {
    "execution": {
     "iopub.execute_input": "2024-04-07T18:10:34.823973Z",
     "iopub.status.busy": "2024-04-07T18:10:34.823372Z",
     "iopub.status.idle": "2024-04-07T18:10:34.832814Z",
     "shell.execute_reply": "2024-04-07T18:10:34.832109Z"
    },
    "papermill": {
     "duration": 0.0271,
     "end_time": "2024-04-07T18:10:34.834569",
     "exception": false,
     "start_time": "2024-04-07T18:10:34.807469",
     "status": "completed"
    },
    "tags": []
   },
   "outputs": [],
   "source": [
    "one_hot_encoded_train['Weight'] = pd.to_numeric(one_hot_encoded_train['Weight'], errors='coerce')"
   ]
  },
  {
   "cell_type": "code",
   "execution_count": 40,
   "id": "3ef38921",
   "metadata": {
    "execution": {
     "iopub.execute_input": "2024-04-07T18:10:34.865787Z",
     "iopub.status.busy": "2024-04-07T18:10:34.864848Z",
     "iopub.status.idle": "2024-04-07T18:10:35.953354Z",
     "shell.execute_reply": "2024-04-07T18:10:35.952231Z"
    },
    "papermill": {
     "duration": 1.106517,
     "end_time": "2024-04-07T18:10:35.955837",
     "exception": false,
     "start_time": "2024-04-07T18:10:34.849320",
     "status": "completed"
    },
    "tags": []
   },
   "outputs": [],
   "source": [
    "from sklearn.preprocessing import MinMaxScaler"
   ]
  },
  {
   "cell_type": "code",
   "execution_count": 41,
   "id": "75af01ea",
   "metadata": {
    "execution": {
     "iopub.execute_input": "2024-04-07T18:10:35.988326Z",
     "iopub.status.busy": "2024-04-07T18:10:35.987937Z",
     "iopub.status.idle": "2024-04-07T18:10:36.006469Z",
     "shell.execute_reply": "2024-04-07T18:10:36.004997Z"
    },
    "papermill": {
     "duration": 0.037812,
     "end_time": "2024-04-07T18:10:36.008777",
     "exception": false,
     "start_time": "2024-04-07T18:10:35.970965",
     "status": "completed"
    },
    "tags": []
   },
   "outputs": [
    {
     "name": "stdout",
     "output_type": "stream",
     "text": [
      "      id        Age    Height    Weight  FHO  CHCF      CV  NCP  SMOKE  \\\n",
      "0  14633  23.000000  1.700000  0.348522  1.0     0  2.0000  3.0      0   \n",
      "1  19443  23.000000  1.600000  0.356461  1.0     1  2.0000  3.0      0   \n",
      "2  10216  28.825223  1.549748  0.207363  1.0     0  2.0000  3.0      0   \n",
      "3   2016  25.341399  1.787195  0.605980  1.0     1  2.9673  3.0      0   \n",
      "4   9674  22.000000  1.750000  0.150039  0.0     1  2.0000  4.0      0   \n",
      "\n",
      "      Water  ...  Mode_Walking   CA_0  CA_Frequently CA_Sometimes  CAEC_0  \\\n",
      "0  3.000000  ...          True   True          False        False   False   \n",
      "1  3.000000  ...         False   True          False        False   False   \n",
      "2  1.984323  ...         False  False          False         True   False   \n",
      "3  2.535127  ...         False  False          False         True   False   \n",
      "4  2.000000  ...         False   True          False        False   False   \n",
      "\n",
      "   CAEC_Always  CAEC_Frequently  CAEC_Sometimes  Gender_Female  Gender_Male  \n",
      "0        False            False            True          False         True  \n",
      "1        False            False            True           True        False  \n",
      "2        False            False            True           True        False  \n",
      "3        False            False            True          False         True  \n",
      "4        False            False            True          False         True  \n",
      "\n",
      "[5 rows x 34 columns]\n"
     ]
    }
   ],
   "source": [
    "# Assuming df is your DataFrame containing 'Weight' and 'Height' columns\n",
    "columns_to_normalize = ['Weight']\n",
    "\n",
    "# Create a MinMaxScaler object\n",
    "scaler = MinMaxScaler()\n",
    "\n",
    "# Fit the scaler to the data and transform it\n",
    "one_hot_encoded_train[columns_to_normalize] = scaler.fit_transform(one_hot_encoded_train[columns_to_normalize])\n",
    "\n",
    "# Check the normalized DataFrame\n",
    "print(one_hot_encoded_train.head())"
   ]
  },
  {
   "cell_type": "code",
   "execution_count": 42,
   "id": "337cb3f9",
   "metadata": {
    "execution": {
     "iopub.execute_input": "2024-04-07T18:10:36.040532Z",
     "iopub.status.busy": "2024-04-07T18:10:36.039476Z",
     "iopub.status.idle": "2024-04-07T18:10:36.047725Z",
     "shell.execute_reply": "2024-04-07T18:10:36.046712Z"
    },
    "papermill": {
     "duration": 0.026294,
     "end_time": "2024-04-07T18:10:36.049915",
     "exception": false,
     "start_time": "2024-04-07T18:10:36.023621",
     "status": "completed"
    },
    "tags": []
   },
   "outputs": [],
   "source": [
    "one_hot_encoded_test['Weight'] = pd.to_numeric(one_hot_encoded_test['Weight'], errors='coerce')"
   ]
  },
  {
   "cell_type": "code",
   "execution_count": 43,
   "id": "5edf2b9c",
   "metadata": {
    "execution": {
     "iopub.execute_input": "2024-04-07T18:10:36.080793Z",
     "iopub.status.busy": "2024-04-07T18:10:36.080450Z",
     "iopub.status.idle": "2024-04-07T18:10:36.098345Z",
     "shell.execute_reply": "2024-04-07T18:10:36.097232Z"
    },
    "papermill": {
     "duration": 0.035898,
     "end_time": "2024-04-07T18:10:36.100445",
     "exception": false,
     "start_time": "2024-04-07T18:10:36.064547",
     "status": "completed"
    },
    "tags": []
   },
   "outputs": [
    {
     "name": "stdout",
     "output_type": "stream",
     "text": [
      "      id        Age    Height    Weight  FHO  CHCF        CV  NCP  SMOKE  \\\n",
      "0  10317  25.951979  1.669039  0.523209  1.0     1  3.000000  3.0      0   \n",
      "1   4074  40.993179  1.567973  0.333357  1.0     1  2.921576  3.0      0   \n",
      "2   9060  21.000000  1.740000  0.293517  0.0     1  3.000000  3.0      0   \n",
      "3  11286  33.000000  1.680000  0.349048  1.0     1  2.000000  1.0      0   \n",
      "4   8254  35.194089  1.673482  0.271254  1.0     0  3.000000  3.0      0   \n",
      "\n",
      "      Water  ...  Mode_Walking   CA_0  CA_Frequently  CA_Sometimes  CAEC_0  \\\n",
      "0  2.092326  ...         False  False          False          True   False   \n",
      "1  1.005727  ...         False   True          False         False   False   \n",
      "2  3.000000  ...         False  False          False          True   False   \n",
      "3  2.000000  ...         False  False          False          True   False   \n",
      "4  1.572371  ...         False  False          False          True   False   \n",
      "\n",
      "   CAEC_Always  CAEC_Frequently  CAEC_Sometimes  Gender_Female  Gender_Male  \n",
      "0        False            False            True           True        False  \n",
      "1        False            False            True           True        False  \n",
      "2        False            False            True          False         True  \n",
      "3        False            False            True          False         True  \n",
      "4        False            False            True           True        False  \n",
      "\n",
      "[5 rows x 33 columns]\n"
     ]
    }
   ],
   "source": [
    "# Assuming df is your DataFrame containing 'Weight' and 'Height' columns\n",
    "columns_to_normalize = ['Weight']\n",
    "\n",
    "# Create a MinMaxScaler object\n",
    "scaler = MinMaxScaler()\n",
    "\n",
    "# Fit the scaler to the data and transform it\n",
    "one_hot_encoded_test[columns_to_normalize] = scaler.fit_transform(one_hot_encoded_test[columns_to_normalize])\n",
    "\n",
    "# Check the normalized DataFrame\n",
    "print(one_hot_encoded_test.head())"
   ]
  },
  {
   "cell_type": "code",
   "execution_count": 44,
   "id": "4b0d6719",
   "metadata": {
    "execution": {
     "iopub.execute_input": "2024-04-07T18:10:36.132078Z",
     "iopub.status.busy": "2024-04-07T18:10:36.131196Z",
     "iopub.status.idle": "2024-04-07T18:10:36.154870Z",
     "shell.execute_reply": "2024-04-07T18:10:36.153782Z"
    },
    "papermill": {
     "duration": 0.041626,
     "end_time": "2024-04-07T18:10:36.156960",
     "exception": false,
     "start_time": "2024-04-07T18:10:36.115334",
     "status": "completed"
    },
    "tags": []
   },
   "outputs": [
    {
     "data": {
      "text/html": [
       "<div>\n",
       "<style scoped>\n",
       "    .dataframe tbody tr th:only-of-type {\n",
       "        vertical-align: middle;\n",
       "    }\n",
       "\n",
       "    .dataframe tbody tr th {\n",
       "        vertical-align: top;\n",
       "    }\n",
       "\n",
       "    .dataframe thead th {\n",
       "        text-align: right;\n",
       "    }\n",
       "</style>\n",
       "<table border=\"1\" class=\"dataframe\">\n",
       "  <thead>\n",
       "    <tr style=\"text-align: right;\">\n",
       "      <th></th>\n",
       "      <th>id</th>\n",
       "      <th>Age</th>\n",
       "      <th>Height</th>\n",
       "      <th>Weight</th>\n",
       "      <th>FHO</th>\n",
       "      <th>CHCF</th>\n",
       "      <th>CV</th>\n",
       "      <th>NCP</th>\n",
       "      <th>SMOKE</th>\n",
       "      <th>Water</th>\n",
       "      <th>...</th>\n",
       "      <th>Mode_Walking</th>\n",
       "      <th>CA_0</th>\n",
       "      <th>CA_Frequently</th>\n",
       "      <th>CA_Sometimes</th>\n",
       "      <th>CAEC_0</th>\n",
       "      <th>CAEC_Always</th>\n",
       "      <th>CAEC_Frequently</th>\n",
       "      <th>CAEC_Sometimes</th>\n",
       "      <th>Gender_Female</th>\n",
       "      <th>Gender_Male</th>\n",
       "    </tr>\n",
       "  </thead>\n",
       "  <tbody>\n",
       "    <tr>\n",
       "      <th>0</th>\n",
       "      <td>14633</td>\n",
       "      <td>23.000000</td>\n",
       "      <td>1.700000</td>\n",
       "      <td>0.348522</td>\n",
       "      <td>1.0</td>\n",
       "      <td>0</td>\n",
       "      <td>2.0000</td>\n",
       "      <td>3.0</td>\n",
       "      <td>0</td>\n",
       "      <td>3.000000</td>\n",
       "      <td>...</td>\n",
       "      <td>True</td>\n",
       "      <td>True</td>\n",
       "      <td>False</td>\n",
       "      <td>False</td>\n",
       "      <td>False</td>\n",
       "      <td>False</td>\n",
       "      <td>False</td>\n",
       "      <td>True</td>\n",
       "      <td>False</td>\n",
       "      <td>True</td>\n",
       "    </tr>\n",
       "    <tr>\n",
       "      <th>1</th>\n",
       "      <td>19443</td>\n",
       "      <td>23.000000</td>\n",
       "      <td>1.600000</td>\n",
       "      <td>0.356461</td>\n",
       "      <td>1.0</td>\n",
       "      <td>1</td>\n",
       "      <td>2.0000</td>\n",
       "      <td>3.0</td>\n",
       "      <td>0</td>\n",
       "      <td>3.000000</td>\n",
       "      <td>...</td>\n",
       "      <td>False</td>\n",
       "      <td>True</td>\n",
       "      <td>False</td>\n",
       "      <td>False</td>\n",
       "      <td>False</td>\n",
       "      <td>False</td>\n",
       "      <td>False</td>\n",
       "      <td>True</td>\n",
       "      <td>True</td>\n",
       "      <td>False</td>\n",
       "    </tr>\n",
       "    <tr>\n",
       "      <th>2</th>\n",
       "      <td>10216</td>\n",
       "      <td>28.825223</td>\n",
       "      <td>1.549748</td>\n",
       "      <td>0.207363</td>\n",
       "      <td>1.0</td>\n",
       "      <td>0</td>\n",
       "      <td>2.0000</td>\n",
       "      <td>3.0</td>\n",
       "      <td>0</td>\n",
       "      <td>1.984323</td>\n",
       "      <td>...</td>\n",
       "      <td>False</td>\n",
       "      <td>False</td>\n",
       "      <td>False</td>\n",
       "      <td>True</td>\n",
       "      <td>False</td>\n",
       "      <td>False</td>\n",
       "      <td>False</td>\n",
       "      <td>True</td>\n",
       "      <td>True</td>\n",
       "      <td>False</td>\n",
       "    </tr>\n",
       "    <tr>\n",
       "      <th>3</th>\n",
       "      <td>2016</td>\n",
       "      <td>25.341399</td>\n",
       "      <td>1.787195</td>\n",
       "      <td>0.605980</td>\n",
       "      <td>1.0</td>\n",
       "      <td>1</td>\n",
       "      <td>2.9673</td>\n",
       "      <td>3.0</td>\n",
       "      <td>0</td>\n",
       "      <td>2.535127</td>\n",
       "      <td>...</td>\n",
       "      <td>False</td>\n",
       "      <td>False</td>\n",
       "      <td>False</td>\n",
       "      <td>True</td>\n",
       "      <td>False</td>\n",
       "      <td>False</td>\n",
       "      <td>False</td>\n",
       "      <td>True</td>\n",
       "      <td>False</td>\n",
       "      <td>True</td>\n",
       "    </tr>\n",
       "    <tr>\n",
       "      <th>4</th>\n",
       "      <td>9674</td>\n",
       "      <td>22.000000</td>\n",
       "      <td>1.750000</td>\n",
       "      <td>0.150039</td>\n",
       "      <td>0.0</td>\n",
       "      <td>1</td>\n",
       "      <td>2.0000</td>\n",
       "      <td>4.0</td>\n",
       "      <td>0</td>\n",
       "      <td>2.000000</td>\n",
       "      <td>...</td>\n",
       "      <td>False</td>\n",
       "      <td>True</td>\n",
       "      <td>False</td>\n",
       "      <td>False</td>\n",
       "      <td>False</td>\n",
       "      <td>False</td>\n",
       "      <td>False</td>\n",
       "      <td>True</td>\n",
       "      <td>False</td>\n",
       "      <td>True</td>\n",
       "    </tr>\n",
       "  </tbody>\n",
       "</table>\n",
       "<p>5 rows × 34 columns</p>\n",
       "</div>"
      ],
      "text/plain": [
       "      id        Age    Height    Weight  FHO  CHCF      CV  NCP  SMOKE  \\\n",
       "0  14633  23.000000  1.700000  0.348522  1.0     0  2.0000  3.0      0   \n",
       "1  19443  23.000000  1.600000  0.356461  1.0     1  2.0000  3.0      0   \n",
       "2  10216  28.825223  1.549748  0.207363  1.0     0  2.0000  3.0      0   \n",
       "3   2016  25.341399  1.787195  0.605980  1.0     1  2.9673  3.0      0   \n",
       "4   9674  22.000000  1.750000  0.150039  0.0     1  2.0000  4.0      0   \n",
       "\n",
       "      Water  ...  Mode_Walking   CA_0  CA_Frequently CA_Sometimes  CAEC_0  \\\n",
       "0  3.000000  ...          True   True          False        False   False   \n",
       "1  3.000000  ...         False   True          False        False   False   \n",
       "2  1.984323  ...         False  False          False         True   False   \n",
       "3  2.535127  ...         False  False          False         True   False   \n",
       "4  2.000000  ...         False   True          False        False   False   \n",
       "\n",
       "   CAEC_Always  CAEC_Frequently  CAEC_Sometimes  Gender_Female  Gender_Male  \n",
       "0        False            False            True          False         True  \n",
       "1        False            False            True           True        False  \n",
       "2        False            False            True           True        False  \n",
       "3        False            False            True          False         True  \n",
       "4        False            False            True          False         True  \n",
       "\n",
       "[5 rows x 34 columns]"
      ]
     },
     "execution_count": 44,
     "metadata": {},
     "output_type": "execute_result"
    }
   ],
   "source": [
    "one_hot_encoded_train.head()"
   ]
  },
  {
   "cell_type": "code",
   "execution_count": 45,
   "id": "8aaa6974",
   "metadata": {
    "execution": {
     "iopub.execute_input": "2024-04-07T18:10:36.190480Z",
     "iopub.status.busy": "2024-04-07T18:10:36.190112Z",
     "iopub.status.idle": "2024-04-07T18:10:36.212915Z",
     "shell.execute_reply": "2024-04-07T18:10:36.212079Z"
    },
    "papermill": {
     "duration": 0.042814,
     "end_time": "2024-04-07T18:10:36.214858",
     "exception": false,
     "start_time": "2024-04-07T18:10:36.172044",
     "status": "completed"
    },
    "tags": []
   },
   "outputs": [
    {
     "data": {
      "text/html": [
       "<div>\n",
       "<style scoped>\n",
       "    .dataframe tbody tr th:only-of-type {\n",
       "        vertical-align: middle;\n",
       "    }\n",
       "\n",
       "    .dataframe tbody tr th {\n",
       "        vertical-align: top;\n",
       "    }\n",
       "\n",
       "    .dataframe thead th {\n",
       "        text-align: right;\n",
       "    }\n",
       "</style>\n",
       "<table border=\"1\" class=\"dataframe\">\n",
       "  <thead>\n",
       "    <tr style=\"text-align: right;\">\n",
       "      <th></th>\n",
       "      <th>id</th>\n",
       "      <th>Age</th>\n",
       "      <th>Height</th>\n",
       "      <th>Weight</th>\n",
       "      <th>FHO</th>\n",
       "      <th>CHCF</th>\n",
       "      <th>CV</th>\n",
       "      <th>NCP</th>\n",
       "      <th>SMOKE</th>\n",
       "      <th>Water</th>\n",
       "      <th>...</th>\n",
       "      <th>Mode_Walking</th>\n",
       "      <th>CA_0</th>\n",
       "      <th>CA_Frequently</th>\n",
       "      <th>CA_Sometimes</th>\n",
       "      <th>CAEC_0</th>\n",
       "      <th>CAEC_Always</th>\n",
       "      <th>CAEC_Frequently</th>\n",
       "      <th>CAEC_Sometimes</th>\n",
       "      <th>Gender_Female</th>\n",
       "      <th>Gender_Male</th>\n",
       "    </tr>\n",
       "  </thead>\n",
       "  <tbody>\n",
       "    <tr>\n",
       "      <th>0</th>\n",
       "      <td>10317</td>\n",
       "      <td>25.951979</td>\n",
       "      <td>1.669039</td>\n",
       "      <td>0.523209</td>\n",
       "      <td>1.0</td>\n",
       "      <td>1</td>\n",
       "      <td>3.000000</td>\n",
       "      <td>3.0</td>\n",
       "      <td>0</td>\n",
       "      <td>2.092326</td>\n",
       "      <td>...</td>\n",
       "      <td>False</td>\n",
       "      <td>False</td>\n",
       "      <td>False</td>\n",
       "      <td>True</td>\n",
       "      <td>False</td>\n",
       "      <td>False</td>\n",
       "      <td>False</td>\n",
       "      <td>True</td>\n",
       "      <td>True</td>\n",
       "      <td>False</td>\n",
       "    </tr>\n",
       "    <tr>\n",
       "      <th>1</th>\n",
       "      <td>4074</td>\n",
       "      <td>40.993179</td>\n",
       "      <td>1.567973</td>\n",
       "      <td>0.333357</td>\n",
       "      <td>1.0</td>\n",
       "      <td>1</td>\n",
       "      <td>2.921576</td>\n",
       "      <td>3.0</td>\n",
       "      <td>0</td>\n",
       "      <td>1.005727</td>\n",
       "      <td>...</td>\n",
       "      <td>False</td>\n",
       "      <td>True</td>\n",
       "      <td>False</td>\n",
       "      <td>False</td>\n",
       "      <td>False</td>\n",
       "      <td>False</td>\n",
       "      <td>False</td>\n",
       "      <td>True</td>\n",
       "      <td>True</td>\n",
       "      <td>False</td>\n",
       "    </tr>\n",
       "    <tr>\n",
       "      <th>2</th>\n",
       "      <td>9060</td>\n",
       "      <td>21.000000</td>\n",
       "      <td>1.740000</td>\n",
       "      <td>0.293517</td>\n",
       "      <td>0.0</td>\n",
       "      <td>1</td>\n",
       "      <td>3.000000</td>\n",
       "      <td>3.0</td>\n",
       "      <td>0</td>\n",
       "      <td>3.000000</td>\n",
       "      <td>...</td>\n",
       "      <td>False</td>\n",
       "      <td>False</td>\n",
       "      <td>False</td>\n",
       "      <td>True</td>\n",
       "      <td>False</td>\n",
       "      <td>False</td>\n",
       "      <td>False</td>\n",
       "      <td>True</td>\n",
       "      <td>False</td>\n",
       "      <td>True</td>\n",
       "    </tr>\n",
       "    <tr>\n",
       "      <th>3</th>\n",
       "      <td>11286</td>\n",
       "      <td>33.000000</td>\n",
       "      <td>1.680000</td>\n",
       "      <td>0.349048</td>\n",
       "      <td>1.0</td>\n",
       "      <td>1</td>\n",
       "      <td>2.000000</td>\n",
       "      <td>1.0</td>\n",
       "      <td>0</td>\n",
       "      <td>2.000000</td>\n",
       "      <td>...</td>\n",
       "      <td>False</td>\n",
       "      <td>False</td>\n",
       "      <td>False</td>\n",
       "      <td>True</td>\n",
       "      <td>False</td>\n",
       "      <td>False</td>\n",
       "      <td>False</td>\n",
       "      <td>True</td>\n",
       "      <td>False</td>\n",
       "      <td>True</td>\n",
       "    </tr>\n",
       "    <tr>\n",
       "      <th>4</th>\n",
       "      <td>8254</td>\n",
       "      <td>35.194089</td>\n",
       "      <td>1.673482</td>\n",
       "      <td>0.271254</td>\n",
       "      <td>1.0</td>\n",
       "      <td>0</td>\n",
       "      <td>3.000000</td>\n",
       "      <td>3.0</td>\n",
       "      <td>0</td>\n",
       "      <td>1.572371</td>\n",
       "      <td>...</td>\n",
       "      <td>False</td>\n",
       "      <td>False</td>\n",
       "      <td>False</td>\n",
       "      <td>True</td>\n",
       "      <td>False</td>\n",
       "      <td>False</td>\n",
       "      <td>False</td>\n",
       "      <td>True</td>\n",
       "      <td>True</td>\n",
       "      <td>False</td>\n",
       "    </tr>\n",
       "  </tbody>\n",
       "</table>\n",
       "<p>5 rows × 33 columns</p>\n",
       "</div>"
      ],
      "text/plain": [
       "      id        Age    Height    Weight  FHO  CHCF        CV  NCP  SMOKE  \\\n",
       "0  10317  25.951979  1.669039  0.523209  1.0     1  3.000000  3.0      0   \n",
       "1   4074  40.993179  1.567973  0.333357  1.0     1  2.921576  3.0      0   \n",
       "2   9060  21.000000  1.740000  0.293517  0.0     1  3.000000  3.0      0   \n",
       "3  11286  33.000000  1.680000  0.349048  1.0     1  2.000000  1.0      0   \n",
       "4   8254  35.194089  1.673482  0.271254  1.0     0  3.000000  3.0      0   \n",
       "\n",
       "      Water  ...  Mode_Walking   CA_0  CA_Frequently  CA_Sometimes  CAEC_0  \\\n",
       "0  2.092326  ...         False  False          False          True   False   \n",
       "1  1.005727  ...         False   True          False         False   False   \n",
       "2  3.000000  ...         False  False          False          True   False   \n",
       "3  2.000000  ...         False  False          False          True   False   \n",
       "4  1.572371  ...         False  False          False          True   False   \n",
       "\n",
       "   CAEC_Always  CAEC_Frequently  CAEC_Sometimes  Gender_Female  Gender_Male  \n",
       "0        False            False            True           True        False  \n",
       "1        False            False            True           True        False  \n",
       "2        False            False            True          False         True  \n",
       "3        False            False            True          False         True  \n",
       "4        False            False            True           True        False  \n",
       "\n",
       "[5 rows x 33 columns]"
      ]
     },
     "execution_count": 45,
     "metadata": {},
     "output_type": "execute_result"
    }
   ],
   "source": [
    "one_hot_encoded_test.head()"
   ]
  },
  {
   "cell_type": "code",
   "execution_count": 46,
   "id": "ad978ccc",
   "metadata": {
    "execution": {
     "iopub.execute_input": "2024-04-07T18:10:36.248421Z",
     "iopub.status.busy": "2024-04-07T18:10:36.247621Z",
     "iopub.status.idle": "2024-04-07T18:10:36.255914Z",
     "shell.execute_reply": "2024-04-07T18:10:36.254900Z"
    },
    "papermill": {
     "duration": 0.027485,
     "end_time": "2024-04-07T18:10:36.257858",
     "exception": false,
     "start_time": "2024-04-07T18:10:36.230373",
     "status": "completed"
    },
    "tags": []
   },
   "outputs": [
    {
     "data": {
      "text/plain": [
       "0        Overweight_Level_II\n",
       "1             Obesity_Type_I\n",
       "2        Overweight_Level_II\n",
       "3            Obesity_Type_II\n",
       "4        Insufficient_Weight\n",
       "                ...         \n",
       "12449       Obesity_Type_III\n",
       "12450         Obesity_Type_I\n",
       "12451         Obesity_Type_I\n",
       "12452    Overweight_Level_II\n",
       "12453    Insufficient_Weight\n",
       "Name: Obesity_Level, Length: 12454, dtype: object"
      ]
     },
     "execution_count": 46,
     "metadata": {},
     "output_type": "execute_result"
    }
   ],
   "source": [
    "one_hot_encoded_train['Obesity_Level']"
   ]
  },
  {
   "cell_type": "code",
   "execution_count": 47,
   "id": "e6315654",
   "metadata": {
    "execution": {
     "iopub.execute_input": "2024-04-07T18:10:36.290716Z",
     "iopub.status.busy": "2024-04-07T18:10:36.290123Z",
     "iopub.status.idle": "2024-04-07T18:10:36.582071Z",
     "shell.execute_reply": "2024-04-07T18:10:36.580961Z"
    },
    "papermill": {
     "duration": 0.311206,
     "end_time": "2024-04-07T18:10:36.584557",
     "exception": false,
     "start_time": "2024-04-07T18:10:36.273351",
     "status": "completed"
    },
    "tags": []
   },
   "outputs": [],
   "source": [
    "import xgboost as xgb\n",
    "from sklearn.model_selection import train_test_split, GridSearchCV\n",
    "from sklearn.metrics import f1_score\n",
    "from sklearn.preprocessing import LabelEncoder\n",
    "\n",
    "# Assuming you have a DataFrame named df with your data\n",
    "# Define the features and target variable\n",
    "features = one_hot_encoded_train.drop(['id', 'Obesity_Level'], axis=1).columns.tolist()  # Add your desired feature columns here\n",
    "target = 'Obesity_Level'  # Replace 'target' with the name of your target variable column\n",
    "\n",
    "# Encode the target variable 'obesity_Level' using LabelEncoder\n",
    "label_encoder = LabelEncoder()\n",
    "one_hot_encoded_train[target] = label_encoder.fit_transform(one_hot_encoded_train[target])"
   ]
  },
  {
   "cell_type": "code",
   "execution_count": 48,
   "id": "3b856d04",
   "metadata": {
    "execution": {
     "iopub.execute_input": "2024-04-07T18:10:36.618231Z",
     "iopub.status.busy": "2024-04-07T18:10:36.617810Z",
     "iopub.status.idle": "2024-04-07T18:10:36.624337Z",
     "shell.execute_reply": "2024-04-07T18:10:36.623165Z"
    },
    "papermill": {
     "duration": 0.025863,
     "end_time": "2024-04-07T18:10:36.626918",
     "exception": false,
     "start_time": "2024-04-07T18:10:36.601055",
     "status": "completed"
    },
    "tags": []
   },
   "outputs": [
    {
     "name": "stdout",
     "output_type": "stream",
     "text": [
      "0        6\n",
      "1        2\n",
      "2        6\n",
      "3        3\n",
      "4        0\n",
      "        ..\n",
      "12449    4\n",
      "12450    2\n",
      "12451    2\n",
      "12452    6\n",
      "12453    0\n",
      "Name: Obesity_Level, Length: 12454, dtype: int64\n"
     ]
    }
   ],
   "source": [
    "print(one_hot_encoded_train[target])"
   ]
  },
  {
   "cell_type": "code",
   "execution_count": 49,
   "id": "255b0389",
   "metadata": {
    "execution": {
     "iopub.execute_input": "2024-04-07T18:10:36.660482Z",
     "iopub.status.busy": "2024-04-07T18:10:36.660129Z",
     "iopub.status.idle": "2024-04-07T18:10:50.797302Z",
     "shell.execute_reply": "2024-04-07T18:10:50.796186Z"
    },
    "papermill": {
     "duration": 14.156955,
     "end_time": "2024-04-07T18:10:50.799681",
     "exception": false,
     "start_time": "2024-04-07T18:10:36.642726",
     "status": "completed"
    },
    "tags": []
   },
   "outputs": [
    {
     "name": "stdout",
     "output_type": "stream",
     "text": [
      "Best Parameters: {'learning_rate': 0.1, 'max_depth': 3, 'n_estimators': 300}\n",
      "[4 2 5 ... 1 0 1]\n"
     ]
    }
   ],
   "source": [
    "from sklearn.model_selection import train_test_split\n",
    "from sklearn.preprocessing import LabelEncoder\n",
    "\n",
    "# Split the data into training and testing sets\n",
    "# X_train, X_test, y_train, y_test = train_test_split(one_hot_encoded_train[features], one_hot_encoded_train[target], test_size=0.2, random_state=42)\n",
    "\n",
    "# Define parameter grid for GridSearchCV\n",
    "param_grid = {\n",
    "    'max_depth': [3],\n",
    "    'learning_rate': [0.1],\n",
    "    'n_estimators': [300],\n",
    "}\n",
    "\n",
    "# Create XGBClassifier model\n",
    "model = xgb.XGBClassifier(objective='multi:softmax', num_class=7, random_state=42)\n",
    "\n",
    "# Initialize GridSearchCV\n",
    "grid_search = GridSearchCV(model, param_grid, cv=5, scoring='f1_micro')\n",
    "\n",
    "# Perform Grid Search\n",
    "grid_search.fit(one_hot_encoded_train[features], one_hot_encoded_train[target])\n",
    "\n",
    "# Best parameters found during grid search\n",
    "print(\"Best Parameters:\", grid_search.best_params_)\n",
    "\n",
    "# Get the best model\n",
    "best_model = grid_search.best_estimator_\n",
    "\n",
    "# Make predictions on the test data\n",
    "test_predictions = best_model.predict(one_hot_encoded_test[features])\n",
    "\n",
    "# Create a new instance of LabelEncoder\n",
    "label_encoder = LabelEncoder()\n",
    "\n",
    "# Fit LabelEncoder on the original target variable\n",
    "label_encoder.fit(one_hot_encoded_train['Obesity_Level'])\n",
    "\n",
    "# Inverse transform the predictions to get original labels\n",
    "test_predictions_original = label_encoder.inverse_transform(test_predictions)\n",
    "\n",
    "# Print the predictions\n",
    "print(test_predictions_original)\n",
    "\n",
    "\n"
   ]
  },
  {
   "cell_type": "code",
   "execution_count": 50,
   "id": "a4df332e",
   "metadata": {
    "execution": {
     "iopub.execute_input": "2024-04-07T18:10:50.833393Z",
     "iopub.status.busy": "2024-04-07T18:10:50.832546Z",
     "iopub.status.idle": "2024-04-07T18:10:50.858241Z",
     "shell.execute_reply": "2024-04-07T18:10:50.857206Z"
    },
    "papermill": {
     "duration": 0.054407,
     "end_time": "2024-04-07T18:10:50.870050",
     "exception": false,
     "start_time": "2024-04-07T18:10:50.815643",
     "status": "completed"
    },
    "tags": []
   },
   "outputs": [
    {
     "name": "stdout",
     "output_type": "stream",
     "text": [
      "['Obesity_Type_III', 'Obesity_Type_I', 'Overweight_Level_I', 'Overweight_Level_II', 'Overweight_Level_I', 'Obesity_Type_I', 'Insufficient_Weight', 'Overweight_Level_II', 'Obesity_Type_III', 'Overweight_Level_II', 'Insufficient_Weight', 'Insufficient_Weight', 'Obesity_Type_III', 'Insufficient_Weight', 'Overweight_Level_I', 'Obesity_Type_II', 'Obesity_Type_I', 'Obesity_Type_III', 'Overweight_Level_I', 'Overweight_Level_II', 'Obesity_Type_III', 'Obesity_Type_II', 'Insufficient_Weight', 'Overweight_Level_I', 'Overweight_Level_II', 'Obesity_Type_III', 'Normal_Weight', 'Normal_Weight', 'Insufficient_Weight', 'Obesity_Type_III', 'Obesity_Type_II', 'Obesity_Type_III', 'Obesity_Type_II', 'Overweight_Level_II', 'Normal_Weight', 'Overweight_Level_II', 'Obesity_Type_II', 'Obesity_Type_I', 'Normal_Weight', 'Normal_Weight', 'Obesity_Type_II', 'Obesity_Type_II', 'Obesity_Type_I', 'Obesity_Type_III', 'Obesity_Type_I', 'Normal_Weight', 'Insufficient_Weight', 'Insufficient_Weight', 'Obesity_Type_III', 'Obesity_Type_III', 'Insufficient_Weight', 'Obesity_Type_II', 'Obesity_Type_I', 'Obesity_Type_III', 'Insufficient_Weight', 'Overweight_Level_I', 'Normal_Weight', 'Obesity_Type_III', 'Insufficient_Weight', 'Obesity_Type_I', 'Obesity_Type_III', 'Normal_Weight', 'Insufficient_Weight', 'Overweight_Level_I', 'Overweight_Level_I', 'Overweight_Level_I', 'Normal_Weight', 'Obesity_Type_III', 'Normal_Weight', 'Obesity_Type_III', 'Obesity_Type_II', 'Obesity_Type_II', 'Normal_Weight', 'Insufficient_Weight', 'Normal_Weight', 'Obesity_Type_III', 'Insufficient_Weight', 'Obesity_Type_I', 'Obesity_Type_II', 'Obesity_Type_III', 'Obesity_Type_III', 'Overweight_Level_II', 'Obesity_Type_III', 'Obesity_Type_III', 'Overweight_Level_I', 'Normal_Weight', 'Insufficient_Weight', 'Insufficient_Weight', 'Insufficient_Weight', 'Overweight_Level_I', 'Obesity_Type_III', 'Overweight_Level_II', 'Overweight_Level_II', 'Obesity_Type_II', 'Overweight_Level_I', 'Overweight_Level_I', 'Normal_Weight', 'Obesity_Type_I', 'Overweight_Level_II', 'Obesity_Type_III', 'Insufficient_Weight', 'Insufficient_Weight', 'Obesity_Type_III', 'Normal_Weight', 'Overweight_Level_I', 'Obesity_Type_III', 'Obesity_Type_III', 'Overweight_Level_I', 'Obesity_Type_II', 'Obesity_Type_I', 'Insufficient_Weight', 'Obesity_Type_I', 'Overweight_Level_II', 'Overweight_Level_I', 'Obesity_Type_I', 'Normal_Weight', 'Obesity_Type_III', 'Obesity_Type_III', 'Obesity_Type_III', 'Obesity_Type_I', 'Overweight_Level_I', 'Overweight_Level_II', 'Overweight_Level_II', 'Obesity_Type_II', 'Normal_Weight', 'Obesity_Type_I', 'Overweight_Level_I', 'Normal_Weight', 'Normal_Weight', 'Obesity_Type_III', 'Overweight_Level_I', 'Overweight_Level_II', 'Insufficient_Weight', 'Obesity_Type_I', 'Obesity_Type_III', 'Obesity_Type_III', 'Obesity_Type_I', 'Obesity_Type_III', 'Obesity_Type_II', 'Normal_Weight', 'Insufficient_Weight', 'Obesity_Type_III', 'Obesity_Type_I', 'Insufficient_Weight', 'Obesity_Type_III', 'Normal_Weight', 'Insufficient_Weight', 'Obesity_Type_III', 'Obesity_Type_II', 'Obesity_Type_I', 'Obesity_Type_III', 'Obesity_Type_II', 'Overweight_Level_II', 'Overweight_Level_II', 'Obesity_Type_III', 'Obesity_Type_III', 'Obesity_Type_III', 'Obesity_Type_II', 'Obesity_Type_II', 'Obesity_Type_I', 'Insufficient_Weight', 'Overweight_Level_I', 'Obesity_Type_II', 'Overweight_Level_II', 'Obesity_Type_I', 'Insufficient_Weight', 'Obesity_Type_III', 'Obesity_Type_II', 'Overweight_Level_II', 'Obesity_Type_I', 'Normal_Weight', 'Obesity_Type_III', 'Obesity_Type_III', 'Obesity_Type_I', 'Overweight_Level_I', 'Obesity_Type_III', 'Overweight_Level_II', 'Insufficient_Weight', 'Obesity_Type_III', 'Overweight_Level_II', 'Obesity_Type_II', 'Obesity_Type_II', 'Normal_Weight', 'Obesity_Type_II', 'Obesity_Type_III', 'Obesity_Type_II', 'Obesity_Type_III', 'Obesity_Type_I', 'Obesity_Type_III', 'Overweight_Level_I', 'Obesity_Type_III', 'Obesity_Type_III', 'Obesity_Type_II', 'Obesity_Type_III', 'Normal_Weight', 'Normal_Weight', 'Obesity_Type_II', 'Obesity_Type_III', 'Obesity_Type_I', 'Overweight_Level_I', 'Obesity_Type_I', 'Obesity_Type_II', 'Obesity_Type_II', 'Obesity_Type_II', 'Obesity_Type_I', 'Overweight_Level_I', 'Normal_Weight', 'Normal_Weight', 'Obesity_Type_II', 'Obesity_Type_III', 'Normal_Weight', 'Normal_Weight', 'Overweight_Level_I', 'Insufficient_Weight', 'Obesity_Type_III', 'Overweight_Level_I', 'Obesity_Type_I', 'Obesity_Type_II', 'Insufficient_Weight', 'Insufficient_Weight', 'Obesity_Type_I', 'Normal_Weight', 'Normal_Weight', 'Obesity_Type_III', 'Overweight_Level_I', 'Insufficient_Weight', 'Overweight_Level_II', 'Obesity_Type_III', 'Overweight_Level_II', 'Obesity_Type_III', 'Normal_Weight', 'Normal_Weight', 'Obesity_Type_III', 'Obesity_Type_III', 'Overweight_Level_II', 'Insufficient_Weight', 'Normal_Weight', 'Obesity_Type_II', 'Obesity_Type_I', 'Obesity_Type_III', 'Insufficient_Weight', 'Insufficient_Weight', 'Insufficient_Weight', 'Obesity_Type_I', 'Insufficient_Weight', 'Normal_Weight', 'Obesity_Type_I', 'Overweight_Level_I', 'Overweight_Level_I', 'Obesity_Type_I', 'Normal_Weight', 'Insufficient_Weight', 'Overweight_Level_II', 'Obesity_Type_II', 'Obesity_Type_I', 'Overweight_Level_I', 'Insufficient_Weight', 'Overweight_Level_II', 'Obesity_Type_I', 'Normal_Weight', 'Obesity_Type_II', 'Obesity_Type_III', 'Obesity_Type_III', 'Normal_Weight', 'Overweight_Level_I', 'Overweight_Level_I', 'Obesity_Type_III', 'Obesity_Type_III', 'Obesity_Type_I', 'Obesity_Type_II', 'Normal_Weight', 'Insufficient_Weight', 'Overweight_Level_I', 'Insufficient_Weight', 'Overweight_Level_II', 'Obesity_Type_I', 'Insufficient_Weight', 'Obesity_Type_I', 'Obesity_Type_I', 'Overweight_Level_II', 'Obesity_Type_I', 'Normal_Weight', 'Obesity_Type_III', 'Overweight_Level_I', 'Obesity_Type_III', 'Insufficient_Weight', 'Obesity_Type_I', 'Insufficient_Weight', 'Normal_Weight', 'Obesity_Type_II', 'Overweight_Level_II', 'Overweight_Level_II', 'Normal_Weight', 'Overweight_Level_I', 'Normal_Weight', 'Insufficient_Weight', 'Obesity_Type_III', 'Obesity_Type_II', 'Normal_Weight', 'Normal_Weight', 'Overweight_Level_I', 'Overweight_Level_II', 'Obesity_Type_I', 'Obesity_Type_III', 'Normal_Weight', 'Overweight_Level_I', 'Obesity_Type_II', 'Obesity_Type_III', 'Obesity_Type_II', 'Obesity_Type_II', 'Obesity_Type_II', 'Insufficient_Weight', 'Obesity_Type_III', 'Normal_Weight', 'Overweight_Level_II', 'Obesity_Type_III', 'Obesity_Type_I', 'Obesity_Type_III', 'Normal_Weight', 'Obesity_Type_III', 'Overweight_Level_II', 'Normal_Weight', 'Overweight_Level_II', 'Obesity_Type_III', 'Obesity_Type_I', 'Obesity_Type_II', 'Obesity_Type_I', 'Overweight_Level_II', 'Overweight_Level_I', 'Normal_Weight', 'Overweight_Level_II', 'Overweight_Level_I', 'Insufficient_Weight', 'Overweight_Level_I', 'Insufficient_Weight', 'Obesity_Type_III', 'Obesity_Type_I', 'Overweight_Level_II', 'Obesity_Type_I', 'Insufficient_Weight', 'Obesity_Type_I', 'Obesity_Type_I', 'Obesity_Type_II', 'Overweight_Level_II', 'Overweight_Level_II', 'Obesity_Type_II', 'Overweight_Level_II', 'Obesity_Type_III', 'Obesity_Type_I', 'Normal_Weight', 'Obesity_Type_II', 'Obesity_Type_I', 'Obesity_Type_I', 'Normal_Weight', 'Insufficient_Weight', 'Overweight_Level_II', 'Normal_Weight', 'Obesity_Type_I', 'Obesity_Type_III', 'Normal_Weight', 'Obesity_Type_I', 'Obesity_Type_II', 'Insufficient_Weight', 'Insufficient_Weight', 'Obesity_Type_II', 'Obesity_Type_III', 'Overweight_Level_I', 'Obesity_Type_I', 'Obesity_Type_II', 'Obesity_Type_II', 'Obesity_Type_I', 'Obesity_Type_III', 'Obesity_Type_I', 'Normal_Weight', 'Overweight_Level_II', 'Obesity_Type_I', 'Normal_Weight', 'Insufficient_Weight', 'Obesity_Type_III', 'Obesity_Type_III', 'Normal_Weight', 'Normal_Weight', 'Obesity_Type_II', 'Insufficient_Weight', 'Obesity_Type_I', 'Insufficient_Weight', 'Obesity_Type_III', 'Overweight_Level_I', 'Overweight_Level_II', 'Obesity_Type_I', 'Normal_Weight', 'Insufficient_Weight', 'Overweight_Level_II', 'Overweight_Level_II', 'Obesity_Type_I', 'Obesity_Type_III', 'Overweight_Level_I', 'Insufficient_Weight', 'Normal_Weight', 'Normal_Weight', 'Normal_Weight', 'Overweight_Level_II', 'Overweight_Level_I', 'Obesity_Type_I', 'Overweight_Level_I', 'Obesity_Type_II', 'Obesity_Type_II', 'Obesity_Type_III', 'Obesity_Type_II', 'Insufficient_Weight', 'Obesity_Type_I', 'Overweight_Level_I', 'Overweight_Level_I', 'Obesity_Type_I', 'Overweight_Level_I', 'Obesity_Type_I', 'Obesity_Type_II', 'Insufficient_Weight', 'Overweight_Level_I', 'Normal_Weight', 'Overweight_Level_I', 'Overweight_Level_II', 'Overweight_Level_I', 'Obesity_Type_III', 'Obesity_Type_I', 'Obesity_Type_I', 'Obesity_Type_II', 'Normal_Weight', 'Obesity_Type_III', 'Normal_Weight', 'Obesity_Type_III', 'Obesity_Type_II', 'Obesity_Type_II', 'Insufficient_Weight', 'Obesity_Type_I', 'Obesity_Type_III', 'Overweight_Level_II', 'Insufficient_Weight', 'Normal_Weight', 'Obesity_Type_II', 'Obesity_Type_III', 'Obesity_Type_I', 'Obesity_Type_III', 'Obesity_Type_I', 'Obesity_Type_III', 'Obesity_Type_I', 'Overweight_Level_II', 'Overweight_Level_I', 'Overweight_Level_I', 'Obesity_Type_II', 'Obesity_Type_I', 'Obesity_Type_I', 'Obesity_Type_III', 'Insufficient_Weight', 'Obesity_Type_III', 'Overweight_Level_II', 'Obesity_Type_I', 'Insufficient_Weight', 'Overweight_Level_I', 'Obesity_Type_III', 'Normal_Weight', 'Normal_Weight', 'Obesity_Type_I', 'Insufficient_Weight', 'Overweight_Level_I', 'Obesity_Type_I', 'Obesity_Type_III', 'Obesity_Type_II', 'Obesity_Type_III', 'Insufficient_Weight', 'Normal_Weight', 'Normal_Weight', 'Obesity_Type_III', 'Normal_Weight', 'Normal_Weight', 'Obesity_Type_III', 'Overweight_Level_I', 'Normal_Weight', 'Normal_Weight', 'Overweight_Level_II', 'Obesity_Type_III', 'Normal_Weight', 'Normal_Weight', 'Insufficient_Weight', 'Obesity_Type_III', 'Obesity_Type_I', 'Normal_Weight', 'Normal_Weight', 'Obesity_Type_I', 'Obesity_Type_II', 'Overweight_Level_II', 'Overweight_Level_II', 'Normal_Weight', 'Overweight_Level_II', 'Overweight_Level_II', 'Obesity_Type_II', 'Overweight_Level_I', 'Insufficient_Weight', 'Insufficient_Weight', 'Overweight_Level_I', 'Overweight_Level_II', 'Obesity_Type_III', 'Obesity_Type_II', 'Obesity_Type_III', 'Obesity_Type_III', 'Obesity_Type_II', 'Normal_Weight', 'Obesity_Type_II', 'Insufficient_Weight', 'Overweight_Level_II', 'Obesity_Type_III', 'Normal_Weight', 'Obesity_Type_III', 'Insufficient_Weight', 'Insufficient_Weight', 'Normal_Weight', 'Obesity_Type_I', 'Obesity_Type_III', 'Obesity_Type_II', 'Obesity_Type_III', 'Normal_Weight', 'Overweight_Level_I', 'Obesity_Type_I', 'Obesity_Type_III', 'Obesity_Type_I', 'Overweight_Level_I', 'Obesity_Type_III', 'Obesity_Type_I', 'Normal_Weight', 'Overweight_Level_I', 'Obesity_Type_II', 'Overweight_Level_II', 'Obesity_Type_I', 'Overweight_Level_I', 'Overweight_Level_I', 'Insufficient_Weight', 'Overweight_Level_II', 'Normal_Weight', 'Obesity_Type_III', 'Obesity_Type_I', 'Insufficient_Weight', 'Obesity_Type_II', 'Obesity_Type_II', 'Obesity_Type_III', 'Overweight_Level_I', 'Obesity_Type_II', 'Overweight_Level_I', 'Obesity_Type_III', 'Obesity_Type_III', 'Normal_Weight', 'Overweight_Level_I', 'Normal_Weight', 'Insufficient_Weight', 'Obesity_Type_III', 'Insufficient_Weight', 'Obesity_Type_III', 'Obesity_Type_I', 'Obesity_Type_II', 'Normal_Weight', 'Overweight_Level_II', 'Obesity_Type_III', 'Overweight_Level_II', 'Overweight_Level_II', 'Overweight_Level_I', 'Obesity_Type_III', 'Overweight_Level_I', 'Obesity_Type_II', 'Normal_Weight', 'Obesity_Type_III', 'Obesity_Type_III', 'Obesity_Type_III', 'Overweight_Level_I', 'Obesity_Type_III', 'Normal_Weight', 'Overweight_Level_I', 'Obesity_Type_II', 'Obesity_Type_II', 'Overweight_Level_II', 'Normal_Weight', 'Overweight_Level_II', 'Obesity_Type_I', 'Normal_Weight', 'Insufficient_Weight', 'Obesity_Type_II', 'Obesity_Type_I', 'Obesity_Type_III', 'Obesity_Type_I', 'Overweight_Level_II', 'Obesity_Type_III', 'Obesity_Type_II', 'Normal_Weight', 'Obesity_Type_I', 'Obesity_Type_III', 'Normal_Weight', 'Obesity_Type_III', 'Normal_Weight', 'Normal_Weight', 'Obesity_Type_III', 'Insufficient_Weight', 'Normal_Weight', 'Overweight_Level_I', 'Obesity_Type_I', 'Insufficient_Weight', 'Obesity_Type_I', 'Overweight_Level_II', 'Overweight_Level_II', 'Obesity_Type_II', 'Normal_Weight', 'Obesity_Type_II', 'Insufficient_Weight', 'Overweight_Level_II', 'Normal_Weight', 'Normal_Weight', 'Overweight_Level_II', 'Overweight_Level_I', 'Obesity_Type_III', 'Obesity_Type_II', 'Obesity_Type_III', 'Obesity_Type_III', 'Obesity_Type_III', 'Obesity_Type_I', 'Obesity_Type_I', 'Normal_Weight', 'Overweight_Level_II', 'Obesity_Type_III', 'Normal_Weight', 'Overweight_Level_I', 'Normal_Weight', 'Obesity_Type_I', 'Overweight_Level_II', 'Insufficient_Weight', 'Insufficient_Weight', 'Obesity_Type_II', 'Obesity_Type_I', 'Normal_Weight', 'Overweight_Level_II', 'Overweight_Level_I', 'Obesity_Type_II', 'Normal_Weight', 'Obesity_Type_III', 'Overweight_Level_II', 'Obesity_Type_III', 'Normal_Weight', 'Overweight_Level_II', 'Obesity_Type_II', 'Obesity_Type_I', 'Overweight_Level_II', 'Obesity_Type_I', 'Obesity_Type_III', 'Normal_Weight', 'Overweight_Level_II', 'Obesity_Type_II', 'Obesity_Type_II', 'Obesity_Type_III', 'Obesity_Type_III', 'Overweight_Level_II', 'Overweight_Level_I', 'Normal_Weight', 'Obesity_Type_I', 'Obesity_Type_III', 'Obesity_Type_III', 'Obesity_Type_III', 'Obesity_Type_I', 'Obesity_Type_III', 'Overweight_Level_II', 'Normal_Weight', 'Obesity_Type_II', 'Obesity_Type_I', 'Obesity_Type_III', 'Overweight_Level_II', 'Obesity_Type_I', 'Obesity_Type_I', 'Overweight_Level_I', 'Obesity_Type_II', 'Obesity_Type_III', 'Obesity_Type_III', 'Overweight_Level_II', 'Insufficient_Weight', 'Normal_Weight', 'Obesity_Type_III', 'Obesity_Type_I', 'Obesity_Type_III', 'Obesity_Type_II', 'Obesity_Type_I', 'Insufficient_Weight', 'Overweight_Level_II', 'Overweight_Level_II', 'Insufficient_Weight', 'Overweight_Level_I', 'Obesity_Type_III', 'Overweight_Level_II', 'Obesity_Type_I', 'Obesity_Type_III', 'Obesity_Type_II', 'Overweight_Level_I', 'Obesity_Type_II', 'Normal_Weight', 'Obesity_Type_II', 'Insufficient_Weight', 'Normal_Weight', 'Obesity_Type_III', 'Obesity_Type_III', 'Obesity_Type_III', 'Normal_Weight', 'Obesity_Type_III', 'Overweight_Level_I', 'Obesity_Type_III', 'Obesity_Type_III', 'Overweight_Level_I', 'Obesity_Type_II', 'Obesity_Type_II', 'Obesity_Type_III', 'Obesity_Type_III', 'Overweight_Level_II', 'Normal_Weight', 'Overweight_Level_II', 'Obesity_Type_III', 'Normal_Weight', 'Obesity_Type_II', 'Normal_Weight', 'Obesity_Type_I', 'Insufficient_Weight', 'Obesity_Type_II', 'Normal_Weight', 'Obesity_Type_III', 'Insufficient_Weight', 'Normal_Weight', 'Normal_Weight', 'Obesity_Type_III', 'Obesity_Type_III', 'Obesity_Type_I', 'Normal_Weight', 'Overweight_Level_II', 'Insufficient_Weight', 'Insufficient_Weight', 'Overweight_Level_I', 'Insufficient_Weight', 'Obesity_Type_III', 'Overweight_Level_II', 'Normal_Weight', 'Insufficient_Weight', 'Normal_Weight', 'Overweight_Level_I', 'Overweight_Level_II', 'Insufficient_Weight', 'Insufficient_Weight', 'Obesity_Type_I', 'Obesity_Type_III', 'Normal_Weight', 'Normal_Weight', 'Insufficient_Weight', 'Overweight_Level_I', 'Obesity_Type_III', 'Overweight_Level_II', 'Normal_Weight', 'Normal_Weight', 'Obesity_Type_II', 'Normal_Weight', 'Obesity_Type_I', 'Obesity_Type_I', 'Overweight_Level_II', 'Overweight_Level_II', 'Obesity_Type_III', 'Normal_Weight', 'Insufficient_Weight', 'Obesity_Type_III', 'Overweight_Level_I', 'Overweight_Level_I', 'Overweight_Level_I', 'Obesity_Type_I', 'Overweight_Level_I', 'Overweight_Level_I', 'Obesity_Type_II', 'Obesity_Type_I', 'Normal_Weight', 'Obesity_Type_II', 'Obesity_Type_II', 'Overweight_Level_II', 'Insufficient_Weight', 'Insufficient_Weight', 'Insufficient_Weight', 'Insufficient_Weight', 'Obesity_Type_II', 'Overweight_Level_I', 'Obesity_Type_II', 'Obesity_Type_III', 'Normal_Weight', 'Insufficient_Weight', 'Obesity_Type_III', 'Insufficient_Weight', 'Obesity_Type_III', 'Insufficient_Weight', 'Obesity_Type_I', 'Insufficient_Weight', 'Insufficient_Weight', 'Obesity_Type_II', 'Overweight_Level_II', 'Overweight_Level_II', 'Overweight_Level_I', 'Overweight_Level_II', 'Overweight_Level_II', 'Obesity_Type_III', 'Obesity_Type_III', 'Obesity_Type_III', 'Obesity_Type_III', 'Obesity_Type_I', 'Overweight_Level_II', 'Overweight_Level_II', 'Normal_Weight', 'Insufficient_Weight', 'Overweight_Level_I', 'Overweight_Level_I', 'Obesity_Type_I', 'Obesity_Type_III', 'Obesity_Type_II', 'Insufficient_Weight', 'Obesity_Type_III', 'Insufficient_Weight', 'Obesity_Type_I', 'Obesity_Type_III', 'Obesity_Type_II', 'Normal_Weight', 'Normal_Weight', 'Overweight_Level_II', 'Obesity_Type_II', 'Overweight_Level_II', 'Obesity_Type_I', 'Overweight_Level_I', 'Insufficient_Weight', 'Normal_Weight', 'Overweight_Level_I', 'Insufficient_Weight', 'Insufficient_Weight', 'Normal_Weight', 'Insufficient_Weight', 'Obesity_Type_III', 'Obesity_Type_III', 'Overweight_Level_I', 'Normal_Weight', 'Overweight_Level_I', 'Insufficient_Weight', 'Obesity_Type_III', 'Overweight_Level_II', 'Normal_Weight', 'Obesity_Type_I', 'Obesity_Type_II', 'Overweight_Level_II', 'Obesity_Type_I', 'Obesity_Type_III', 'Obesity_Type_II', 'Obesity_Type_I', 'Obesity_Type_III', 'Overweight_Level_II', 'Obesity_Type_III', 'Obesity_Type_III', 'Insufficient_Weight', 'Overweight_Level_II', 'Overweight_Level_I', 'Obesity_Type_III', 'Overweight_Level_II', 'Obesity_Type_II', 'Obesity_Type_III', 'Obesity_Type_III', 'Overweight_Level_I', 'Obesity_Type_I', 'Normal_Weight', 'Normal_Weight', 'Obesity_Type_III', 'Obesity_Type_II', 'Obesity_Type_II', 'Overweight_Level_II', 'Obesity_Type_II', 'Overweight_Level_I', 'Overweight_Level_I', 'Normal_Weight', 'Obesity_Type_II', 'Obesity_Type_II', 'Overweight_Level_I', 'Obesity_Type_III', 'Normal_Weight', 'Obesity_Type_II', 'Overweight_Level_I', 'Obesity_Type_II', 'Obesity_Type_I', 'Overweight_Level_I', 'Obesity_Type_II', 'Obesity_Type_III', 'Obesity_Type_I', 'Obesity_Type_II', 'Overweight_Level_II', 'Overweight_Level_II', 'Obesity_Type_II', 'Normal_Weight', 'Obesity_Type_III', 'Obesity_Type_III', 'Normal_Weight', 'Overweight_Level_II', 'Overweight_Level_II', 'Obesity_Type_III', 'Normal_Weight', 'Obesity_Type_II', 'Obesity_Type_I', 'Overweight_Level_I', 'Obesity_Type_III', 'Overweight_Level_I', 'Obesity_Type_I', 'Obesity_Type_II', 'Obesity_Type_II', 'Obesity_Type_II', 'Obesity_Type_I', 'Overweight_Level_I', 'Obesity_Type_II', 'Overweight_Level_II', 'Overweight_Level_I', 'Obesity_Type_I', 'Obesity_Type_I', 'Obesity_Type_II', 'Obesity_Type_II', 'Normal_Weight', 'Obesity_Type_III', 'Overweight_Level_II', 'Normal_Weight', 'Overweight_Level_II', 'Normal_Weight', 'Insufficient_Weight', 'Normal_Weight', 'Overweight_Level_I', 'Normal_Weight', 'Normal_Weight', 'Obesity_Type_I', 'Obesity_Type_III', 'Overweight_Level_I', 'Overweight_Level_I', 'Obesity_Type_II', 'Overweight_Level_I', 'Obesity_Type_I', 'Overweight_Level_II', 'Obesity_Type_I', 'Normal_Weight', 'Overweight_Level_II', 'Overweight_Level_II', 'Overweight_Level_II', 'Obesity_Type_III', 'Normal_Weight', 'Obesity_Type_III', 'Obesity_Type_I', 'Obesity_Type_I', 'Obesity_Type_II', 'Obesity_Type_I', 'Obesity_Type_I', 'Obesity_Type_II', 'Overweight_Level_II', 'Insufficient_Weight', 'Obesity_Type_III', 'Insufficient_Weight', 'Normal_Weight', 'Obesity_Type_I', 'Obesity_Type_II', 'Obesity_Type_II', 'Overweight_Level_II', 'Obesity_Type_II', 'Overweight_Level_II', 'Overweight_Level_I', 'Obesity_Type_I', 'Insufficient_Weight', 'Obesity_Type_III', 'Insufficient_Weight', 'Insufficient_Weight', 'Insufficient_Weight', 'Obesity_Type_II', 'Insufficient_Weight', 'Obesity_Type_I', 'Normal_Weight', 'Overweight_Level_II', 'Obesity_Type_II', 'Normal_Weight', 'Overweight_Level_I', 'Obesity_Type_III', 'Obesity_Type_III', 'Overweight_Level_I', 'Obesity_Type_III', 'Overweight_Level_II', 'Obesity_Type_III', 'Overweight_Level_I', 'Obesity_Type_III', 'Obesity_Type_I', 'Overweight_Level_I', 'Overweight_Level_II', 'Normal_Weight', 'Normal_Weight', 'Obesity_Type_I', 'Normal_Weight', 'Overweight_Level_II', 'Overweight_Level_II', 'Obesity_Type_III', 'Overweight_Level_II', 'Obesity_Type_I', 'Obesity_Type_I', 'Normal_Weight', 'Obesity_Type_III', 'Normal_Weight', 'Normal_Weight', 'Overweight_Level_I', 'Obesity_Type_II', 'Normal_Weight', 'Obesity_Type_III', 'Obesity_Type_III', 'Normal_Weight', 'Obesity_Type_III', 'Obesity_Type_I', 'Obesity_Type_II', 'Obesity_Type_III', 'Obesity_Type_I', 'Insufficient_Weight', 'Normal_Weight', 'Normal_Weight', 'Normal_Weight', 'Obesity_Type_III', 'Obesity_Type_III', 'Obesity_Type_III', 'Insufficient_Weight', 'Normal_Weight', 'Obesity_Type_I', 'Obesity_Type_I', 'Normal_Weight', 'Obesity_Type_III', 'Obesity_Type_II', 'Insufficient_Weight', 'Obesity_Type_I', 'Overweight_Level_II', 'Obesity_Type_II', 'Overweight_Level_I', 'Obesity_Type_III', 'Obesity_Type_III', 'Insufficient_Weight', 'Obesity_Type_III', 'Overweight_Level_II', 'Overweight_Level_I', 'Insufficient_Weight', 'Obesity_Type_II', 'Overweight_Level_II', 'Normal_Weight', 'Obesity_Type_III', 'Obesity_Type_III', 'Insufficient_Weight', 'Obesity_Type_III', 'Overweight_Level_I', 'Obesity_Type_II', 'Obesity_Type_II', 'Obesity_Type_III', 'Normal_Weight', 'Obesity_Type_III', 'Overweight_Level_I', 'Insufficient_Weight', 'Obesity_Type_III', 'Overweight_Level_I', 'Overweight_Level_II', 'Overweight_Level_II', 'Insufficient_Weight', 'Obesity_Type_II', 'Overweight_Level_I', 'Overweight_Level_I', 'Obesity_Type_II', 'Insufficient_Weight', 'Obesity_Type_I', 'Overweight_Level_I', 'Obesity_Type_III', 'Obesity_Type_II', 'Obesity_Type_I', 'Normal_Weight', 'Obesity_Type_II', 'Overweight_Level_II', 'Normal_Weight', 'Obesity_Type_III', 'Obesity_Type_III', 'Overweight_Level_II', 'Obesity_Type_I', 'Obesity_Type_II', 'Normal_Weight', 'Obesity_Type_I', 'Insufficient_Weight', 'Obesity_Type_I', 'Obesity_Type_III', 'Overweight_Level_II', 'Obesity_Type_III', 'Obesity_Type_II', 'Obesity_Type_II', 'Obesity_Type_II', 'Insufficient_Weight', 'Obesity_Type_III', 'Normal_Weight', 'Normal_Weight', 'Insufficient_Weight', 'Obesity_Type_II', 'Overweight_Level_I', 'Overweight_Level_II', 'Overweight_Level_I', 'Overweight_Level_I', 'Obesity_Type_II', 'Normal_Weight', 'Obesity_Type_I', 'Normal_Weight', 'Overweight_Level_I', 'Obesity_Type_I', 'Insufficient_Weight', 'Obesity_Type_II', 'Obesity_Type_I', 'Overweight_Level_I', 'Obesity_Type_III', 'Normal_Weight', 'Normal_Weight', 'Obesity_Type_II', 'Normal_Weight', 'Obesity_Type_I', 'Overweight_Level_II', 'Obesity_Type_III', 'Overweight_Level_II', 'Overweight_Level_II', 'Obesity_Type_I', 'Obesity_Type_III', 'Normal_Weight', 'Obesity_Type_I', 'Obesity_Type_II', 'Obesity_Type_III', 'Obesity_Type_II', 'Normal_Weight', 'Overweight_Level_I', 'Normal_Weight', 'Overweight_Level_I', 'Normal_Weight', 'Obesity_Type_III', 'Obesity_Type_I', 'Normal_Weight', 'Overweight_Level_I', 'Obesity_Type_II', 'Obesity_Type_II', 'Obesity_Type_III', 'Overweight_Level_I', 'Obesity_Type_III', 'Overweight_Level_II', 'Insufficient_Weight', 'Obesity_Type_II', 'Overweight_Level_II', 'Normal_Weight', 'Normal_Weight', 'Obesity_Type_II', 'Obesity_Type_I', 'Obesity_Type_III', 'Obesity_Type_II', 'Normal_Weight', 'Overweight_Level_II', 'Obesity_Type_II', 'Obesity_Type_III', 'Obesity_Type_III', 'Overweight_Level_II', 'Obesity_Type_II', 'Overweight_Level_II', 'Obesity_Type_III', 'Insufficient_Weight', 'Normal_Weight', 'Insufficient_Weight', 'Insufficient_Weight', 'Insufficient_Weight', 'Normal_Weight', 'Insufficient_Weight', 'Obesity_Type_I', 'Overweight_Level_I', 'Obesity_Type_II', 'Obesity_Type_I', 'Obesity_Type_III', 'Normal_Weight', 'Obesity_Type_III', 'Overweight_Level_II', 'Obesity_Type_I', 'Overweight_Level_I', 'Obesity_Type_I', 'Obesity_Type_III', 'Obesity_Type_III', 'Overweight_Level_II', 'Obesity_Type_II', 'Overweight_Level_II', 'Obesity_Type_II', 'Normal_Weight', 'Insufficient_Weight', 'Overweight_Level_I', 'Overweight_Level_I', 'Obesity_Type_III', 'Obesity_Type_I', 'Normal_Weight', 'Normal_Weight', 'Obesity_Type_III', 'Obesity_Type_III', 'Insufficient_Weight', 'Normal_Weight', 'Obesity_Type_II', 'Obesity_Type_I', 'Obesity_Type_II', 'Insufficient_Weight', 'Overweight_Level_II', 'Insufficient_Weight', 'Normal_Weight', 'Overweight_Level_I', 'Normal_Weight', 'Overweight_Level_II', 'Overweight_Level_II', 'Obesity_Type_II', 'Insufficient_Weight', 'Normal_Weight', 'Obesity_Type_III', 'Obesity_Type_II', 'Obesity_Type_III', 'Obesity_Type_III', 'Obesity_Type_II', 'Overweight_Level_I', 'Obesity_Type_I', 'Obesity_Type_II', 'Obesity_Type_I', 'Obesity_Type_II', 'Obesity_Type_II', 'Overweight_Level_II', 'Obesity_Type_II', 'Obesity_Type_II', 'Obesity_Type_III', 'Normal_Weight', 'Obesity_Type_III', 'Obesity_Type_III', 'Insufficient_Weight', 'Insufficient_Weight', 'Normal_Weight', 'Overweight_Level_I', 'Overweight_Level_I', 'Obesity_Type_I', 'Overweight_Level_II', 'Insufficient_Weight', 'Overweight_Level_II', 'Obesity_Type_II', 'Overweight_Level_I', 'Obesity_Type_II', 'Normal_Weight', 'Overweight_Level_I', 'Normal_Weight', 'Overweight_Level_II', 'Obesity_Type_II', 'Obesity_Type_I', 'Overweight_Level_I', 'Overweight_Level_II', 'Obesity_Type_III', 'Obesity_Type_II', 'Obesity_Type_I', 'Obesity_Type_III', 'Obesity_Type_II', 'Obesity_Type_II', 'Overweight_Level_I', 'Obesity_Type_III', 'Insufficient_Weight', 'Overweight_Level_I', 'Overweight_Level_I', 'Obesity_Type_III', 'Normal_Weight', 'Obesity_Type_I', 'Obesity_Type_II', 'Insufficient_Weight', 'Overweight_Level_I', 'Obesity_Type_II', 'Overweight_Level_I', 'Obesity_Type_II', 'Overweight_Level_II', 'Overweight_Level_I', 'Obesity_Type_III', 'Obesity_Type_II', 'Normal_Weight', 'Obesity_Type_I', 'Obesity_Type_II', 'Insufficient_Weight', 'Obesity_Type_II', 'Insufficient_Weight', 'Normal_Weight', 'Overweight_Level_II', 'Obesity_Type_I', 'Obesity_Type_III', 'Normal_Weight', 'Insufficient_Weight', 'Obesity_Type_III', 'Overweight_Level_II', 'Normal_Weight', 'Obesity_Type_III', 'Overweight_Level_II', 'Overweight_Level_II', 'Normal_Weight', 'Obesity_Type_III', 'Obesity_Type_III', 'Overweight_Level_II', 'Normal_Weight', 'Overweight_Level_II', 'Normal_Weight', 'Insufficient_Weight', 'Insufficient_Weight', 'Obesity_Type_III', 'Obesity_Type_III', 'Obesity_Type_III', 'Normal_Weight', 'Overweight_Level_II', 'Overweight_Level_I', 'Obesity_Type_I', 'Overweight_Level_II', 'Insufficient_Weight', 'Insufficient_Weight', 'Obesity_Type_I', 'Obesity_Type_I', 'Obesity_Type_III', 'Obesity_Type_II', 'Normal_Weight', 'Obesity_Type_I', 'Overweight_Level_I', 'Obesity_Type_III', 'Overweight_Level_I', 'Obesity_Type_I', 'Insufficient_Weight', 'Obesity_Type_II', 'Obesity_Type_III', 'Normal_Weight', 'Obesity_Type_III', 'Obesity_Type_II', 'Normal_Weight', 'Overweight_Level_I', 'Obesity_Type_II', 'Overweight_Level_I', 'Obesity_Type_I', 'Overweight_Level_I', 'Overweight_Level_II', 'Normal_Weight', 'Insufficient_Weight', 'Obesity_Type_III', 'Obesity_Type_II', 'Insufficient_Weight', 'Insufficient_Weight', 'Insufficient_Weight', 'Obesity_Type_II', 'Obesity_Type_II', 'Insufficient_Weight', 'Overweight_Level_II', 'Obesity_Type_III', 'Obesity_Type_III', 'Obesity_Type_II', 'Obesity_Type_III', 'Normal_Weight', 'Obesity_Type_II', 'Obesity_Type_II', 'Insufficient_Weight', 'Overweight_Level_II', 'Obesity_Type_I', 'Obesity_Type_III', 'Obesity_Type_I', 'Overweight_Level_I', 'Obesity_Type_II', 'Overweight_Level_I', 'Normal_Weight', 'Normal_Weight', 'Obesity_Type_II', 'Obesity_Type_III', 'Normal_Weight', 'Obesity_Type_II', 'Obesity_Type_III', 'Obesity_Type_III', 'Normal_Weight', 'Normal_Weight', 'Obesity_Type_II', 'Overweight_Level_II', 'Overweight_Level_II', 'Normal_Weight', 'Obesity_Type_I', 'Obesity_Type_III', 'Obesity_Type_III', 'Obesity_Type_II', 'Obesity_Type_III', 'Insufficient_Weight', 'Normal_Weight', 'Normal_Weight', 'Overweight_Level_I', 'Obesity_Type_II', 'Normal_Weight', 'Overweight_Level_II', 'Obesity_Type_III', 'Insufficient_Weight', 'Overweight_Level_I', 'Obesity_Type_III', 'Overweight_Level_I', 'Normal_Weight', 'Overweight_Level_I', 'Overweight_Level_II', 'Obesity_Type_II', 'Normal_Weight', 'Obesity_Type_II', 'Normal_Weight', 'Obesity_Type_II', 'Normal_Weight', 'Obesity_Type_III', 'Overweight_Level_II', 'Normal_Weight', 'Obesity_Type_I', 'Normal_Weight', 'Obesity_Type_III', 'Normal_Weight', 'Overweight_Level_I', 'Obesity_Type_I', 'Obesity_Type_II', 'Obesity_Type_I', 'Overweight_Level_II', 'Obesity_Type_I', 'Obesity_Type_I', 'Obesity_Type_II', 'Obesity_Type_III', 'Overweight_Level_I', 'Obesity_Type_III', 'Insufficient_Weight', 'Obesity_Type_III', 'Obesity_Type_III', 'Normal_Weight', 'Overweight_Level_I', 'Normal_Weight', 'Obesity_Type_II', 'Insufficient_Weight', 'Insufficient_Weight', 'Overweight_Level_I', 'Obesity_Type_II', 'Insufficient_Weight', 'Normal_Weight', 'Obesity_Type_II', 'Overweight_Level_I', 'Overweight_Level_I', 'Obesity_Type_III', 'Obesity_Type_II', 'Obesity_Type_III', 'Obesity_Type_III', 'Normal_Weight', 'Normal_Weight', 'Obesity_Type_III', 'Overweight_Level_I', 'Normal_Weight', 'Insufficient_Weight', 'Overweight_Level_II', 'Obesity_Type_III', 'Obesity_Type_II', 'Overweight_Level_II', 'Obesity_Type_II', 'Insufficient_Weight', 'Obesity_Type_I', 'Obesity_Type_III', 'Obesity_Type_III', 'Overweight_Level_II', 'Normal_Weight', 'Insufficient_Weight', 'Obesity_Type_II', 'Insufficient_Weight', 'Obesity_Type_II', 'Normal_Weight', 'Insufficient_Weight', 'Obesity_Type_III', 'Obesity_Type_II', 'Normal_Weight', 'Obesity_Type_III', 'Obesity_Type_III', 'Overweight_Level_I', 'Obesity_Type_I', 'Obesity_Type_II', 'Obesity_Type_II', 'Normal_Weight', 'Obesity_Type_I', 'Normal_Weight', 'Obesity_Type_II', 'Overweight_Level_I', 'Normal_Weight', 'Normal_Weight', 'Overweight_Level_II', 'Obesity_Type_I', 'Overweight_Level_I', 'Overweight_Level_I', 'Insufficient_Weight', 'Obesity_Type_III', 'Overweight_Level_I', 'Obesity_Type_III', 'Obesity_Type_III', 'Obesity_Type_II', 'Overweight_Level_I', 'Overweight_Level_II', 'Obesity_Type_III', 'Obesity_Type_III', 'Normal_Weight', 'Obesity_Type_III', 'Obesity_Type_III', 'Normal_Weight', 'Obesity_Type_III', 'Obesity_Type_III', 'Obesity_Type_I', 'Normal_Weight', 'Overweight_Level_I', 'Obesity_Type_I', 'Obesity_Type_II', 'Obesity_Type_II', 'Obesity_Type_II', 'Obesity_Type_I', 'Obesity_Type_II', 'Normal_Weight', 'Overweight_Level_II', 'Obesity_Type_II', 'Obesity_Type_III', 'Obesity_Type_III', 'Overweight_Level_II', 'Normal_Weight', 'Obesity_Type_II', 'Insufficient_Weight', 'Obesity_Type_III', 'Obesity_Type_III', 'Insufficient_Weight', 'Obesity_Type_I', 'Normal_Weight', 'Obesity_Type_I', 'Normal_Weight', 'Obesity_Type_II', 'Normal_Weight', 'Insufficient_Weight', 'Overweight_Level_II', 'Normal_Weight', 'Obesity_Type_III', 'Insufficient_Weight', 'Insufficient_Weight', 'Obesity_Type_III', 'Obesity_Type_III', 'Obesity_Type_I', 'Obesity_Type_II', 'Overweight_Level_II', 'Overweight_Level_II', 'Obesity_Type_II', 'Overweight_Level_II', 'Normal_Weight', 'Insufficient_Weight', 'Overweight_Level_II', 'Overweight_Level_II', 'Normal_Weight', 'Normal_Weight', 'Overweight_Level_II', 'Overweight_Level_I', 'Obesity_Type_I', 'Insufficient_Weight', 'Insufficient_Weight', 'Obesity_Type_III', 'Obesity_Type_II', 'Insufficient_Weight', 'Obesity_Type_II', 'Overweight_Level_I', 'Obesity_Type_I', 'Obesity_Type_II', 'Obesity_Type_III', 'Obesity_Type_III', 'Obesity_Type_III', 'Obesity_Type_I', 'Overweight_Level_I', 'Overweight_Level_II', 'Obesity_Type_II', 'Normal_Weight', 'Insufficient_Weight', 'Overweight_Level_I', 'Overweight_Level_I', 'Obesity_Type_I', 'Obesity_Type_II', 'Obesity_Type_I', 'Obesity_Type_III', 'Normal_Weight', 'Obesity_Type_I', 'Obesity_Type_I', 'Obesity_Type_III', 'Obesity_Type_II', 'Overweight_Level_II', 'Overweight_Level_I', 'Obesity_Type_II', 'Normal_Weight', 'Obesity_Type_III', 'Obesity_Type_II', 'Obesity_Type_II', 'Insufficient_Weight', 'Obesity_Type_I', 'Obesity_Type_I', 'Overweight_Level_I', 'Obesity_Type_I', 'Normal_Weight', 'Obesity_Type_II', 'Obesity_Type_I', 'Overweight_Level_II', 'Normal_Weight', 'Normal_Weight', 'Obesity_Type_II', 'Obesity_Type_I', 'Overweight_Level_II', 'Overweight_Level_I', 'Obesity_Type_II', 'Normal_Weight', 'Obesity_Type_II', 'Normal_Weight', 'Obesity_Type_II', 'Obesity_Type_III', 'Normal_Weight', 'Overweight_Level_II', 'Obesity_Type_II', 'Normal_Weight', 'Obesity_Type_II', 'Normal_Weight', 'Overweight_Level_II', 'Overweight_Level_II', 'Overweight_Level_I', 'Insufficient_Weight', 'Obesity_Type_III', 'Obesity_Type_III', 'Normal_Weight', 'Obesity_Type_I', 'Overweight_Level_II', 'Obesity_Type_III', 'Overweight_Level_II', 'Obesity_Type_II', 'Overweight_Level_II', 'Insufficient_Weight', 'Normal_Weight', 'Obesity_Type_II', 'Obesity_Type_III', 'Obesity_Type_I', 'Obesity_Type_II', 'Obesity_Type_I', 'Obesity_Type_I', 'Normal_Weight', 'Normal_Weight', 'Obesity_Type_III', 'Obesity_Type_II', 'Insufficient_Weight', 'Obesity_Type_III', 'Insufficient_Weight', 'Obesity_Type_I', 'Normal_Weight', 'Normal_Weight', 'Obesity_Type_III', 'Overweight_Level_I', 'Obesity_Type_III', 'Overweight_Level_II', 'Insufficient_Weight', 'Normal_Weight', 'Normal_Weight', 'Obesity_Type_II', 'Overweight_Level_II', 'Obesity_Type_I', 'Normal_Weight', 'Overweight_Level_II', 'Insufficient_Weight', 'Obesity_Type_I', 'Normal_Weight', 'Insufficient_Weight', 'Insufficient_Weight', 'Overweight_Level_I', 'Normal_Weight', 'Normal_Weight', 'Normal_Weight', 'Obesity_Type_III', 'Obesity_Type_II', 'Obesity_Type_I', 'Normal_Weight', 'Insufficient_Weight', 'Obesity_Type_III', 'Overweight_Level_I', 'Overweight_Level_I', 'Obesity_Type_III', 'Insufficient_Weight', 'Overweight_Level_I', 'Insufficient_Weight', 'Overweight_Level_II', 'Obesity_Type_II', 'Overweight_Level_I', 'Obesity_Type_I', 'Obesity_Type_III', 'Overweight_Level_II', 'Normal_Weight', 'Obesity_Type_I', 'Obesity_Type_III', 'Obesity_Type_III', 'Obesity_Type_III', 'Overweight_Level_II', 'Overweight_Level_I', 'Normal_Weight', 'Overweight_Level_I', 'Normal_Weight', 'Obesity_Type_III', 'Normal_Weight', 'Overweight_Level_II', 'Normal_Weight', 'Overweight_Level_II', 'Insufficient_Weight', 'Obesity_Type_III', 'Overweight_Level_I', 'Insufficient_Weight', 'Obesity_Type_III', 'Overweight_Level_II', 'Insufficient_Weight', 'Overweight_Level_II', 'Obesity_Type_I', 'Obesity_Type_I', 'Insufficient_Weight', 'Normal_Weight', 'Obesity_Type_III', 'Obesity_Type_I', 'Insufficient_Weight', 'Overweight_Level_II', 'Normal_Weight', 'Overweight_Level_II', 'Obesity_Type_I', 'Overweight_Level_II', 'Obesity_Type_II', 'Normal_Weight', 'Normal_Weight', 'Obesity_Type_III', 'Normal_Weight', 'Normal_Weight', 'Obesity_Type_III', 'Normal_Weight', 'Obesity_Type_III', 'Insufficient_Weight', 'Normal_Weight', 'Obesity_Type_III', 'Insufficient_Weight', 'Overweight_Level_II', 'Obesity_Type_I', 'Obesity_Type_I', 'Obesity_Type_I', 'Obesity_Type_III', 'Obesity_Type_III', 'Obesity_Type_II', 'Overweight_Level_I', 'Insufficient_Weight', 'Normal_Weight', 'Obesity_Type_III', 'Normal_Weight', 'Insufficient_Weight', 'Obesity_Type_III', 'Insufficient_Weight', 'Overweight_Level_I', 'Normal_Weight', 'Overweight_Level_I', 'Overweight_Level_I', 'Overweight_Level_II', 'Obesity_Type_III', 'Normal_Weight', 'Insufficient_Weight', 'Insufficient_Weight', 'Obesity_Type_I', 'Overweight_Level_II', 'Normal_Weight', 'Obesity_Type_II', 'Obesity_Type_III', 'Obesity_Type_III', 'Obesity_Type_II', 'Obesity_Type_III', 'Insufficient_Weight', 'Obesity_Type_III', 'Normal_Weight', 'Obesity_Type_II', 'Overweight_Level_II', 'Overweight_Level_II', 'Obesity_Type_II', 'Normal_Weight', 'Obesity_Type_III', 'Overweight_Level_II', 'Overweight_Level_II', 'Obesity_Type_I', 'Overweight_Level_II', 'Overweight_Level_II', 'Normal_Weight', 'Overweight_Level_II', 'Obesity_Type_II', 'Obesity_Type_I', 'Normal_Weight', 'Insufficient_Weight', 'Obesity_Type_II', 'Overweight_Level_I', 'Obesity_Type_I', 'Overweight_Level_II', 'Normal_Weight', 'Overweight_Level_II', 'Obesity_Type_I', 'Obesity_Type_II', 'Obesity_Type_II', 'Overweight_Level_II', 'Obesity_Type_I', 'Overweight_Level_I', 'Overweight_Level_II', 'Obesity_Type_III', 'Obesity_Type_III', 'Normal_Weight', 'Normal_Weight', 'Obesity_Type_III', 'Overweight_Level_II', 'Obesity_Type_III', 'Normal_Weight', 'Obesity_Type_III', 'Normal_Weight', 'Obesity_Type_II', 'Overweight_Level_I', 'Obesity_Type_III', 'Insufficient_Weight', 'Obesity_Type_III', 'Obesity_Type_III', 'Overweight_Level_II', 'Overweight_Level_I', 'Obesity_Type_III', 'Obesity_Type_II', 'Insufficient_Weight', 'Normal_Weight', 'Obesity_Type_I', 'Overweight_Level_II', 'Overweight_Level_II', 'Obesity_Type_I', 'Obesity_Type_II', 'Obesity_Type_II', 'Obesity_Type_II', 'Obesity_Type_III', 'Overweight_Level_I', 'Obesity_Type_I', 'Obesity_Type_III', 'Insufficient_Weight', 'Obesity_Type_III', 'Obesity_Type_II', 'Insufficient_Weight', 'Normal_Weight', 'Overweight_Level_I', 'Normal_Weight', 'Obesity_Type_III', 'Overweight_Level_II', 'Overweight_Level_I', 'Normal_Weight', 'Overweight_Level_II', 'Obesity_Type_I', 'Obesity_Type_III', 'Obesity_Type_III', 'Insufficient_Weight', 'Obesity_Type_III', 'Normal_Weight', 'Insufficient_Weight', 'Normal_Weight', 'Overweight_Level_II', 'Obesity_Type_I', 'Obesity_Type_II', 'Obesity_Type_II', 'Normal_Weight', 'Obesity_Type_I', 'Obesity_Type_II', 'Overweight_Level_I', 'Obesity_Type_I', 'Obesity_Type_III', 'Overweight_Level_I', 'Obesity_Type_II', 'Overweight_Level_II', 'Obesity_Type_III', 'Normal_Weight', 'Obesity_Type_II', 'Obesity_Type_II', 'Obesity_Type_III', 'Obesity_Type_III', 'Overweight_Level_I', 'Obesity_Type_I', 'Overweight_Level_I', 'Obesity_Type_II', 'Overweight_Level_I', 'Overweight_Level_I', 'Obesity_Type_III', 'Normal_Weight', 'Insufficient_Weight', 'Overweight_Level_I', 'Obesity_Type_II', 'Overweight_Level_I', 'Obesity_Type_III', 'Overweight_Level_I', 'Obesity_Type_I', 'Obesity_Type_I', 'Overweight_Level_II', 'Normal_Weight', 'Obesity_Type_II', 'Obesity_Type_II', 'Obesity_Type_I', 'Insufficient_Weight', 'Normal_Weight', 'Normal_Weight', 'Obesity_Type_II', 'Normal_Weight', 'Obesity_Type_I', 'Obesity_Type_II', 'Insufficient_Weight', 'Overweight_Level_I', 'Obesity_Type_III', 'Obesity_Type_II', 'Insufficient_Weight', 'Obesity_Type_II', 'Obesity_Type_III', 'Obesity_Type_III', 'Overweight_Level_II', 'Obesity_Type_III', 'Normal_Weight', 'Overweight_Level_I', 'Normal_Weight', 'Obesity_Type_I', 'Obesity_Type_II', 'Normal_Weight', 'Normal_Weight', 'Overweight_Level_I', 'Insufficient_Weight', 'Overweight_Level_II', 'Obesity_Type_III', 'Obesity_Type_I', 'Overweight_Level_I', 'Obesity_Type_II', 'Obesity_Type_I', 'Insufficient_Weight', 'Insufficient_Weight', 'Obesity_Type_III', 'Obesity_Type_II', 'Obesity_Type_II', 'Normal_Weight', 'Overweight_Level_I', 'Insufficient_Weight', 'Normal_Weight', 'Obesity_Type_I', 'Overweight_Level_I', 'Overweight_Level_II', 'Normal_Weight', 'Overweight_Level_II', 'Obesity_Type_I', 'Normal_Weight', 'Obesity_Type_III', 'Obesity_Type_I', 'Insufficient_Weight', 'Obesity_Type_III', 'Insufficient_Weight', 'Normal_Weight', 'Obesity_Type_III', 'Obesity_Type_III', 'Obesity_Type_I', 'Overweight_Level_II', 'Obesity_Type_I', 'Obesity_Type_II', 'Overweight_Level_II', 'Insufficient_Weight', 'Obesity_Type_III', 'Obesity_Type_I', 'Obesity_Type_III', 'Overweight_Level_I', 'Obesity_Type_II', 'Obesity_Type_II', 'Obesity_Type_II', 'Obesity_Type_III', 'Obesity_Type_I', 'Obesity_Type_II', 'Obesity_Type_III', 'Normal_Weight', 'Obesity_Type_II', 'Obesity_Type_III', 'Obesity_Type_I', 'Overweight_Level_II', 'Obesity_Type_II', 'Obesity_Type_II', 'Obesity_Type_III', 'Overweight_Level_II', 'Insufficient_Weight', 'Insufficient_Weight', 'Obesity_Type_II', 'Overweight_Level_I', 'Overweight_Level_II', 'Normal_Weight', 'Insufficient_Weight', 'Normal_Weight', 'Normal_Weight', 'Normal_Weight', 'Overweight_Level_II', 'Overweight_Level_I', 'Overweight_Level_I', 'Obesity_Type_II', 'Obesity_Type_III', 'Obesity_Type_II', 'Overweight_Level_II', 'Overweight_Level_II', 'Obesity_Type_I', 'Overweight_Level_II', 'Overweight_Level_I', 'Obesity_Type_II', 'Obesity_Type_II', 'Insufficient_Weight', 'Obesity_Type_II', 'Overweight_Level_I', 'Obesity_Type_III', 'Obesity_Type_II', 'Normal_Weight', 'Obesity_Type_I', 'Insufficient_Weight', 'Normal_Weight', 'Obesity_Type_I', 'Obesity_Type_III', 'Normal_Weight', 'Obesity_Type_III', 'Overweight_Level_I', 'Normal_Weight', 'Obesity_Type_II', 'Obesity_Type_II', 'Overweight_Level_I', 'Normal_Weight', 'Insufficient_Weight', 'Obesity_Type_II', 'Insufficient_Weight', 'Overweight_Level_II', 'Overweight_Level_II', 'Normal_Weight', 'Obesity_Type_II', 'Insufficient_Weight', 'Overweight_Level_I', 'Normal_Weight', 'Overweight_Level_II', 'Obesity_Type_I', 'Overweight_Level_II', 'Obesity_Type_I', 'Normal_Weight', 'Overweight_Level_II', 'Obesity_Type_II', 'Obesity_Type_II', 'Overweight_Level_I', 'Normal_Weight', 'Obesity_Type_III', 'Overweight_Level_I', 'Overweight_Level_II', 'Overweight_Level_I', 'Overweight_Level_I', 'Normal_Weight', 'Obesity_Type_II', 'Insufficient_Weight', 'Normal_Weight', 'Overweight_Level_II', 'Obesity_Type_III', 'Obesity_Type_III', 'Insufficient_Weight', 'Obesity_Type_I', 'Overweight_Level_I', 'Obesity_Type_I', 'Obesity_Type_III', 'Overweight_Level_II', 'Obesity_Type_II', 'Normal_Weight', 'Obesity_Type_I', 'Insufficient_Weight', 'Obesity_Type_III', 'Overweight_Level_II', 'Overweight_Level_II', 'Normal_Weight', 'Obesity_Type_III', 'Normal_Weight', 'Obesity_Type_III', 'Overweight_Level_II', 'Obesity_Type_I', 'Obesity_Type_I', 'Obesity_Type_III', 'Overweight_Level_II', 'Obesity_Type_II', 'Obesity_Type_II', 'Obesity_Type_III', 'Normal_Weight', 'Insufficient_Weight', 'Obesity_Type_III', 'Obesity_Type_II', 'Overweight_Level_II', 'Normal_Weight', 'Obesity_Type_II', 'Obesity_Type_I', 'Obesity_Type_III', 'Normal_Weight', 'Normal_Weight', 'Obesity_Type_II', 'Obesity_Type_I', 'Obesity_Type_I', 'Obesity_Type_I', 'Overweight_Level_I', 'Normal_Weight', 'Normal_Weight', 'Overweight_Level_I', 'Obesity_Type_III', 'Obesity_Type_I', 'Obesity_Type_II', 'Overweight_Level_I', 'Obesity_Type_III', 'Overweight_Level_II', 'Overweight_Level_I', 'Obesity_Type_III', 'Obesity_Type_II', 'Obesity_Type_I', 'Obesity_Type_I', 'Obesity_Type_I', 'Obesity_Type_II', 'Obesity_Type_III', 'Insufficient_Weight', 'Obesity_Type_III', 'Obesity_Type_II', 'Obesity_Type_III', 'Obesity_Type_II', 'Overweight_Level_I', 'Insufficient_Weight', 'Overweight_Level_II', 'Obesity_Type_III', 'Obesity_Type_I', 'Insufficient_Weight', 'Overweight_Level_I', 'Obesity_Type_III', 'Obesity_Type_II', 'Obesity_Type_I', 'Obesity_Type_III', 'Obesity_Type_III', 'Overweight_Level_I', 'Obesity_Type_I', 'Insufficient_Weight', 'Overweight_Level_I', 'Obesity_Type_I', 'Obesity_Type_III', 'Obesity_Type_III', 'Obesity_Type_II', 'Normal_Weight', 'Obesity_Type_II', 'Normal_Weight', 'Obesity_Type_II', 'Obesity_Type_I', 'Overweight_Level_II', 'Obesity_Type_II', 'Obesity_Type_III', 'Insufficient_Weight', 'Overweight_Level_I', 'Overweight_Level_I', 'Overweight_Level_II', 'Obesity_Type_II', 'Insufficient_Weight', 'Obesity_Type_II', 'Obesity_Type_II', 'Obesity_Type_I', 'Obesity_Type_III', 'Insufficient_Weight', 'Insufficient_Weight', 'Normal_Weight', 'Obesity_Type_II', 'Overweight_Level_I', 'Insufficient_Weight', 'Obesity_Type_I', 'Obesity_Type_I', 'Obesity_Type_II', 'Obesity_Type_I', 'Obesity_Type_III', 'Obesity_Type_III', 'Obesity_Type_II', 'Overweight_Level_II', 'Overweight_Level_II', 'Overweight_Level_I', 'Obesity_Type_III', 'Obesity_Type_I', 'Obesity_Type_I', 'Normal_Weight', 'Insufficient_Weight', 'Obesity_Type_III', 'Obesity_Type_III', 'Insufficient_Weight', 'Obesity_Type_II', 'Obesity_Type_II', 'Obesity_Type_III', 'Obesity_Type_II', 'Obesity_Type_III', 'Obesity_Type_III', 'Overweight_Level_I', 'Obesity_Type_II', 'Obesity_Type_II', 'Overweight_Level_II', 'Obesity_Type_II', 'Normal_Weight', 'Normal_Weight', 'Obesity_Type_III', 'Insufficient_Weight', 'Overweight_Level_II', 'Overweight_Level_II', 'Normal_Weight', 'Normal_Weight', 'Obesity_Type_II', 'Overweight_Level_I', 'Overweight_Level_I', 'Insufficient_Weight', 'Obesity_Type_III', 'Obesity_Type_III', 'Insufficient_Weight', 'Overweight_Level_I', 'Normal_Weight', 'Normal_Weight', 'Normal_Weight', 'Overweight_Level_II', 'Obesity_Type_I', 'Insufficient_Weight', 'Obesity_Type_I', 'Insufficient_Weight', 'Normal_Weight', 'Normal_Weight', 'Insufficient_Weight', 'Normal_Weight', 'Obesity_Type_I', 'Overweight_Level_II', 'Overweight_Level_II', 'Obesity_Type_II', 'Insufficient_Weight', 'Obesity_Type_I', 'Obesity_Type_I', 'Obesity_Type_I', 'Overweight_Level_I', 'Obesity_Type_I', 'Obesity_Type_II', 'Obesity_Type_I', 'Obesity_Type_II', 'Overweight_Level_I', 'Obesity_Type_I', 'Obesity_Type_III', 'Normal_Weight', 'Overweight_Level_I', 'Overweight_Level_I', 'Overweight_Level_I', 'Obesity_Type_II', 'Overweight_Level_I', 'Overweight_Level_I', 'Overweight_Level_II', 'Normal_Weight', 'Obesity_Type_III', 'Obesity_Type_III', 'Obesity_Type_II', 'Overweight_Level_II', 'Obesity_Type_III', 'Normal_Weight', 'Normal_Weight', 'Overweight_Level_I', 'Overweight_Level_II', 'Obesity_Type_III', 'Obesity_Type_II', 'Obesity_Type_III', 'Overweight_Level_I', 'Overweight_Level_I', 'Overweight_Level_II', 'Overweight_Level_I', 'Overweight_Level_II', 'Normal_Weight', 'Overweight_Level_II', 'Overweight_Level_I', 'Obesity_Type_I', 'Overweight_Level_II', 'Obesity_Type_I', 'Overweight_Level_I', 'Obesity_Type_II', 'Insufficient_Weight', 'Overweight_Level_I', 'Overweight_Level_I', 'Normal_Weight', 'Obesity_Type_II', 'Overweight_Level_II', 'Obesity_Type_I', 'Obesity_Type_III', 'Normal_Weight', 'Obesity_Type_I', 'Overweight_Level_II', 'Normal_Weight', 'Insufficient_Weight', 'Overweight_Level_I', 'Overweight_Level_II', 'Overweight_Level_II', 'Obesity_Type_I', 'Overweight_Level_II', 'Obesity_Type_I', 'Obesity_Type_III', 'Insufficient_Weight', 'Obesity_Type_II', 'Overweight_Level_II', 'Obesity_Type_II', 'Overweight_Level_I', 'Overweight_Level_I', 'Obesity_Type_III', 'Normal_Weight', 'Obesity_Type_II', 'Obesity_Type_I', 'Overweight_Level_II', 'Obesity_Type_II', 'Obesity_Type_III', 'Overweight_Level_I', 'Overweight_Level_II', 'Normal_Weight', 'Normal_Weight', 'Insufficient_Weight', 'Insufficient_Weight', 'Obesity_Type_III', 'Obesity_Type_III', 'Obesity_Type_II', 'Overweight_Level_II', 'Obesity_Type_II', 'Insufficient_Weight', 'Obesity_Type_III', 'Insufficient_Weight', 'Overweight_Level_I', 'Insufficient_Weight', 'Normal_Weight', 'Overweight_Level_II', 'Overweight_Level_I', 'Insufficient_Weight', 'Overweight_Level_II', 'Insufficient_Weight', 'Obesity_Type_II', 'Overweight_Level_I', 'Insufficient_Weight', 'Overweight_Level_II', 'Normal_Weight', 'Obesity_Type_I', 'Obesity_Type_III', 'Obesity_Type_I', 'Overweight_Level_I', 'Obesity_Type_III', 'Obesity_Type_I', 'Obesity_Type_III', 'Obesity_Type_II', 'Normal_Weight', 'Overweight_Level_I', 'Obesity_Type_III', 'Overweight_Level_I', 'Insufficient_Weight', 'Insufficient_Weight', 'Normal_Weight', 'Obesity_Type_II', 'Overweight_Level_I', 'Normal_Weight', 'Insufficient_Weight', 'Overweight_Level_I', 'Obesity_Type_III', 'Insufficient_Weight', 'Overweight_Level_II', 'Insufficient_Weight', 'Overweight_Level_I', 'Obesity_Type_III', 'Obesity_Type_II', 'Overweight_Level_I', 'Obesity_Type_III', 'Overweight_Level_I', 'Obesity_Type_II', 'Obesity_Type_II', 'Insufficient_Weight', 'Overweight_Level_II', 'Overweight_Level_II', 'Insufficient_Weight', 'Obesity_Type_III', 'Obesity_Type_I', 'Overweight_Level_I', 'Obesity_Type_I', 'Normal_Weight', 'Obesity_Type_II', 'Obesity_Type_II', 'Obesity_Type_I', 'Obesity_Type_I', 'Overweight_Level_II', 'Overweight_Level_I', 'Obesity_Type_III', 'Obesity_Type_I', 'Obesity_Type_I', 'Obesity_Type_I', 'Insufficient_Weight', 'Overweight_Level_II', 'Normal_Weight', 'Obesity_Type_III', 'Obesity_Type_III', 'Obesity_Type_I', 'Insufficient_Weight', 'Insufficient_Weight', 'Obesity_Type_II', 'Obesity_Type_II', 'Obesity_Type_II', 'Normal_Weight', 'Normal_Weight', 'Overweight_Level_II', 'Normal_Weight', 'Obesity_Type_II', 'Insufficient_Weight', 'Normal_Weight', 'Overweight_Level_II', 'Insufficient_Weight', 'Normal_Weight', 'Overweight_Level_I', 'Normal_Weight', 'Overweight_Level_I', 'Overweight_Level_I', 'Obesity_Type_I', 'Normal_Weight', 'Obesity_Type_I', 'Obesity_Type_II', 'Overweight_Level_I', 'Obesity_Type_III', 'Obesity_Type_III', 'Overweight_Level_II', 'Normal_Weight', 'Obesity_Type_III', 'Overweight_Level_I', 'Overweight_Level_II', 'Overweight_Level_I', 'Normal_Weight', 'Obesity_Type_III', 'Overweight_Level_I', 'Obesity_Type_III', 'Normal_Weight', 'Overweight_Level_I', 'Overweight_Level_II', 'Obesity_Type_I', 'Overweight_Level_I', 'Obesity_Type_I', 'Obesity_Type_II', 'Obesity_Type_III', 'Normal_Weight', 'Obesity_Type_I', 'Overweight_Level_I', 'Overweight_Level_I', 'Insufficient_Weight', 'Overweight_Level_II', 'Obesity_Type_II', 'Obesity_Type_III', 'Obesity_Type_III', 'Obesity_Type_I', 'Overweight_Level_I', 'Obesity_Type_II', 'Obesity_Type_I', 'Normal_Weight', 'Normal_Weight', 'Obesity_Type_I', 'Obesity_Type_I', 'Normal_Weight', 'Overweight_Level_I', 'Insufficient_Weight', 'Normal_Weight', 'Overweight_Level_II', 'Overweight_Level_II', 'Obesity_Type_III', 'Obesity_Type_III', 'Obesity_Type_II', 'Normal_Weight', 'Obesity_Type_III', 'Overweight_Level_II', 'Obesity_Type_III', 'Insufficient_Weight', 'Normal_Weight', 'Normal_Weight', 'Obesity_Type_II', 'Obesity_Type_III', 'Normal_Weight', 'Obesity_Type_III', 'Overweight_Level_I', 'Insufficient_Weight', 'Overweight_Level_II', 'Overweight_Level_I', 'Overweight_Level_I', 'Normal_Weight', 'Insufficient_Weight', 'Obesity_Type_III', 'Obesity_Type_III', 'Insufficient_Weight', 'Insufficient_Weight', 'Obesity_Type_III', 'Obesity_Type_I', 'Obesity_Type_I', 'Obesity_Type_I', 'Normal_Weight', 'Insufficient_Weight', 'Overweight_Level_II', 'Insufficient_Weight', 'Insufficient_Weight', 'Obesity_Type_II', 'Obesity_Type_II', 'Obesity_Type_II', 'Overweight_Level_II', 'Obesity_Type_I', 'Obesity_Type_I', 'Obesity_Type_I', 'Obesity_Type_III', 'Normal_Weight', 'Obesity_Type_II', 'Insufficient_Weight', 'Obesity_Type_I', 'Obesity_Type_III', 'Obesity_Type_II', 'Insufficient_Weight', 'Insufficient_Weight', 'Obesity_Type_II', 'Normal_Weight', 'Normal_Weight', 'Obesity_Type_I', 'Normal_Weight', 'Insufficient_Weight', 'Obesity_Type_III', 'Obesity_Type_III', 'Insufficient_Weight', 'Overweight_Level_II', 'Obesity_Type_I', 'Insufficient_Weight', 'Insufficient_Weight', 'Insufficient_Weight', 'Overweight_Level_I', 'Obesity_Type_I', 'Obesity_Type_II', 'Normal_Weight', 'Obesity_Type_II', 'Overweight_Level_II', 'Obesity_Type_II', 'Overweight_Level_II', 'Obesity_Type_II', 'Obesity_Type_III', 'Overweight_Level_I', 'Obesity_Type_III', 'Overweight_Level_II', 'Normal_Weight', 'Obesity_Type_III', 'Normal_Weight', 'Obesity_Type_II', 'Overweight_Level_II', 'Overweight_Level_I', 'Obesity_Type_II', 'Obesity_Type_II', 'Normal_Weight', 'Obesity_Type_I', 'Insufficient_Weight', 'Overweight_Level_I', 'Insufficient_Weight', 'Normal_Weight', 'Obesity_Type_I', 'Obesity_Type_II', 'Overweight_Level_II', 'Obesity_Type_III', 'Obesity_Type_I', 'Overweight_Level_II', 'Obesity_Type_I', 'Normal_Weight', 'Overweight_Level_I', 'Obesity_Type_III', 'Obesity_Type_I', 'Obesity_Type_II', 'Insufficient_Weight', 'Overweight_Level_II', 'Obesity_Type_II', 'Insufficient_Weight', 'Obesity_Type_I', 'Normal_Weight', 'Overweight_Level_II', 'Overweight_Level_I', 'Obesity_Type_III', 'Obesity_Type_II', 'Obesity_Type_II', 'Overweight_Level_I', 'Obesity_Type_I', 'Insufficient_Weight', 'Overweight_Level_II', 'Obesity_Type_I', 'Insufficient_Weight', 'Overweight_Level_I', 'Obesity_Type_I', 'Normal_Weight', 'Obesity_Type_I', 'Obesity_Type_II', 'Overweight_Level_II', 'Obesity_Type_II', 'Overweight_Level_I', 'Overweight_Level_II', 'Obesity_Type_III', 'Obesity_Type_III', 'Obesity_Type_III', 'Obesity_Type_I', 'Overweight_Level_I', 'Obesity_Type_III', 'Obesity_Type_III', 'Normal_Weight', 'Obesity_Type_I', 'Normal_Weight', 'Overweight_Level_II', 'Obesity_Type_III', 'Obesity_Type_II', 'Obesity_Type_III', 'Obesity_Type_III', 'Overweight_Level_II', 'Insufficient_Weight', 'Normal_Weight', 'Overweight_Level_II', 'Normal_Weight', 'Insufficient_Weight', 'Obesity_Type_I', 'Obesity_Type_III', 'Insufficient_Weight', 'Overweight_Level_II', 'Obesity_Type_II', 'Overweight_Level_I', 'Insufficient_Weight', 'Overweight_Level_I', 'Overweight_Level_I', 'Obesity_Type_I', 'Obesity_Type_III', 'Overweight_Level_II', 'Normal_Weight', 'Normal_Weight', 'Insufficient_Weight', 'Overweight_Level_II', 'Obesity_Type_III', 'Overweight_Level_II', 'Overweight_Level_II', 'Normal_Weight', 'Obesity_Type_III', 'Normal_Weight', 'Obesity_Type_II', 'Obesity_Type_II', 'Insufficient_Weight', 'Normal_Weight', 'Obesity_Type_I', 'Overweight_Level_I', 'Obesity_Type_III', 'Overweight_Level_I', 'Obesity_Type_I', 'Obesity_Type_I', 'Overweight_Level_I', 'Overweight_Level_II', 'Overweight_Level_I', 'Normal_Weight', 'Insufficient_Weight', 'Obesity_Type_III', 'Obesity_Type_II', 'Obesity_Type_II', 'Insufficient_Weight', 'Obesity_Type_III', 'Overweight_Level_I', 'Obesity_Type_I', 'Normal_Weight', 'Obesity_Type_I', 'Overweight_Level_II', 'Obesity_Type_II', 'Normal_Weight', 'Obesity_Type_II', 'Obesity_Type_I', 'Overweight_Level_II', 'Overweight_Level_II', 'Obesity_Type_I', 'Overweight_Level_II', 'Overweight_Level_I', 'Overweight_Level_I', 'Overweight_Level_II', 'Obesity_Type_I', 'Obesity_Type_III', 'Overweight_Level_I', 'Obesity_Type_II', 'Obesity_Type_III', 'Normal_Weight', 'Overweight_Level_I', 'Obesity_Type_III', 'Obesity_Type_III', 'Obesity_Type_II', 'Obesity_Type_III', 'Normal_Weight', 'Normal_Weight', 'Obesity_Type_I', 'Obesity_Type_II', 'Obesity_Type_I', 'Obesity_Type_III', 'Insufficient_Weight', 'Overweight_Level_I', 'Obesity_Type_III', 'Obesity_Type_III', 'Obesity_Type_III', 'Obesity_Type_I', 'Normal_Weight', 'Obesity_Type_I', 'Overweight_Level_II', 'Obesity_Type_III', 'Overweight_Level_II', 'Insufficient_Weight', 'Overweight_Level_I', 'Obesity_Type_III', 'Normal_Weight', 'Obesity_Type_II', 'Obesity_Type_I', 'Obesity_Type_II', 'Overweight_Level_II', 'Obesity_Type_III', 'Obesity_Type_II', 'Obesity_Type_I', 'Obesity_Type_II', 'Obesity_Type_I', 'Normal_Weight', 'Insufficient_Weight', 'Obesity_Type_I', 'Insufficient_Weight', 'Obesity_Type_III', 'Normal_Weight', 'Overweight_Level_I', 'Overweight_Level_I', 'Overweight_Level_I', 'Obesity_Type_I', 'Obesity_Type_II', 'Obesity_Type_I', 'Normal_Weight', 'Insufficient_Weight', 'Obesity_Type_II', 'Obesity_Type_III', 'Obesity_Type_II', 'Obesity_Type_III', 'Obesity_Type_I', 'Overweight_Level_I', 'Normal_Weight', 'Obesity_Type_I', 'Insufficient_Weight', 'Obesity_Type_II', 'Overweight_Level_II', 'Obesity_Type_III', 'Obesity_Type_I', 'Obesity_Type_I', 'Normal_Weight', 'Overweight_Level_I', 'Overweight_Level_I', 'Insufficient_Weight', 'Obesity_Type_I', 'Obesity_Type_I', 'Obesity_Type_III', 'Overweight_Level_I', 'Obesity_Type_I', 'Normal_Weight', 'Normal_Weight', 'Obesity_Type_III', 'Obesity_Type_III', 'Obesity_Type_II', 'Obesity_Type_I', 'Obesity_Type_III', 'Obesity_Type_I', 'Normal_Weight', 'Obesity_Type_II', 'Insufficient_Weight', 'Normal_Weight', 'Insufficient_Weight', 'Insufficient_Weight', 'Overweight_Level_I', 'Obesity_Type_II', 'Overweight_Level_I', 'Overweight_Level_I', 'Overweight_Level_II', 'Overweight_Level_I', 'Normal_Weight', 'Normal_Weight', 'Overweight_Level_I', 'Obesity_Type_III', 'Obesity_Type_I', 'Insufficient_Weight', 'Insufficient_Weight', 'Normal_Weight', 'Obesity_Type_I', 'Overweight_Level_II', 'Overweight_Level_II', 'Normal_Weight', 'Overweight_Level_II', 'Overweight_Level_II', 'Insufficient_Weight', 'Overweight_Level_I', 'Overweight_Level_II', 'Obesity_Type_II', 'Insufficient_Weight', 'Normal_Weight', 'Obesity_Type_II', 'Obesity_Type_II', 'Obesity_Type_II', 'Normal_Weight', 'Normal_Weight', 'Obesity_Type_I', 'Overweight_Level_II', 'Obesity_Type_II', 'Insufficient_Weight', 'Overweight_Level_I', 'Insufficient_Weight', 'Obesity_Type_I', 'Obesity_Type_III', 'Insufficient_Weight', 'Obesity_Type_II', 'Obesity_Type_I', 'Normal_Weight', 'Obesity_Type_II', 'Overweight_Level_I', 'Overweight_Level_II', 'Obesity_Type_III', 'Obesity_Type_III', 'Obesity_Type_II', 'Obesity_Type_III', 'Normal_Weight', 'Obesity_Type_III', 'Overweight_Level_I', 'Obesity_Type_I', 'Obesity_Type_I', 'Obesity_Type_II', 'Overweight_Level_II', 'Normal_Weight', 'Obesity_Type_III', 'Obesity_Type_III', 'Obesity_Type_I', 'Obesity_Type_I', 'Overweight_Level_II', 'Normal_Weight', 'Normal_Weight', 'Overweight_Level_I', 'Obesity_Type_III', 'Obesity_Type_II', 'Insufficient_Weight', 'Insufficient_Weight', 'Insufficient_Weight', 'Overweight_Level_I', 'Overweight_Level_II', 'Overweight_Level_II', 'Obesity_Type_III', 'Obesity_Type_II', 'Obesity_Type_III', 'Obesity_Type_II', 'Obesity_Type_I', 'Overweight_Level_II', 'Normal_Weight', 'Overweight_Level_I', 'Overweight_Level_II', 'Normal_Weight', 'Insufficient_Weight', 'Obesity_Type_II', 'Obesity_Type_III', 'Obesity_Type_II', 'Overweight_Level_II', 'Obesity_Type_II', 'Obesity_Type_III', 'Overweight_Level_I', 'Insufficient_Weight', 'Obesity_Type_II', 'Obesity_Type_I', 'Obesity_Type_I', 'Obesity_Type_I', 'Overweight_Level_I', 'Insufficient_Weight', 'Obesity_Type_I', 'Insufficient_Weight', 'Overweight_Level_II', 'Obesity_Type_II', 'Obesity_Type_III', 'Obesity_Type_III', 'Obesity_Type_III', 'Overweight_Level_II', 'Overweight_Level_II', 'Obesity_Type_III', 'Overweight_Level_I', 'Normal_Weight', 'Insufficient_Weight', 'Normal_Weight', 'Obesity_Type_I', 'Obesity_Type_III', 'Obesity_Type_I', 'Normal_Weight', 'Normal_Weight', 'Normal_Weight', 'Overweight_Level_I', 'Overweight_Level_II', 'Obesity_Type_III', 'Obesity_Type_II', 'Normal_Weight', 'Overweight_Level_II', 'Obesity_Type_III', 'Normal_Weight', 'Insufficient_Weight', 'Obesity_Type_III', 'Insufficient_Weight', 'Obesity_Type_I', 'Obesity_Type_II', 'Obesity_Type_III', 'Obesity_Type_II', 'Obesity_Type_I', 'Insufficient_Weight', 'Obesity_Type_III', 'Obesity_Type_I', 'Overweight_Level_I', 'Obesity_Type_II', 'Obesity_Type_I', 'Obesity_Type_III', 'Overweight_Level_II', 'Obesity_Type_I', 'Overweight_Level_II', 'Insufficient_Weight', 'Obesity_Type_III', 'Overweight_Level_I', 'Obesity_Type_I', 'Obesity_Type_II', 'Overweight_Level_I', 'Overweight_Level_II', 'Overweight_Level_II', 'Normal_Weight', 'Obesity_Type_II', 'Overweight_Level_II', 'Obesity_Type_II', 'Obesity_Type_II', 'Insufficient_Weight', 'Insufficient_Weight', 'Obesity_Type_III', 'Normal_Weight', 'Obesity_Type_I', 'Obesity_Type_II', 'Overweight_Level_I', 'Obesity_Type_III', 'Obesity_Type_III', 'Overweight_Level_II', 'Obesity_Type_II', 'Normal_Weight', 'Obesity_Type_III', 'Obesity_Type_III', 'Insufficient_Weight', 'Overweight_Level_II', 'Overweight_Level_II', 'Overweight_Level_I', 'Obesity_Type_II', 'Insufficient_Weight', 'Obesity_Type_III', 'Obesity_Type_III', 'Insufficient_Weight', 'Obesity_Type_III', 'Obesity_Type_III', 'Obesity_Type_II', 'Normal_Weight', 'Obesity_Type_II', 'Normal_Weight', 'Insufficient_Weight', 'Obesity_Type_II', 'Obesity_Type_I', 'Overweight_Level_I', 'Obesity_Type_II', 'Normal_Weight', 'Obesity_Type_I', 'Obesity_Type_I', 'Normal_Weight', 'Normal_Weight', 'Overweight_Level_I', 'Insufficient_Weight', 'Obesity_Type_III', 'Obesity_Type_III', 'Obesity_Type_II', 'Obesity_Type_III', 'Overweight_Level_II', 'Obesity_Type_III', 'Obesity_Type_I', 'Obesity_Type_II', 'Normal_Weight', 'Overweight_Level_II', 'Obesity_Type_I', 'Obesity_Type_II', 'Obesity_Type_III', 'Obesity_Type_II', 'Obesity_Type_III', 'Obesity_Type_I', 'Obesity_Type_III', 'Overweight_Level_I', 'Obesity_Type_III', 'Obesity_Type_II', 'Obesity_Type_III', 'Obesity_Type_II', 'Overweight_Level_II', 'Obesity_Type_I', 'Obesity_Type_II', 'Overweight_Level_I', 'Obesity_Type_I', 'Overweight_Level_I', 'Obesity_Type_II', 'Obesity_Type_I', 'Overweight_Level_I', 'Obesity_Type_II', 'Overweight_Level_I', 'Normal_Weight', 'Obesity_Type_II', 'Normal_Weight', 'Overweight_Level_II', 'Obesity_Type_III', 'Overweight_Level_I', 'Obesity_Type_I', 'Obesity_Type_III', 'Obesity_Type_II', 'Obesity_Type_II', 'Obesity_Type_I', 'Insufficient_Weight', 'Obesity_Type_II', 'Overweight_Level_II', 'Overweight_Level_II', 'Insufficient_Weight', 'Obesity_Type_III', 'Obesity_Type_III', 'Overweight_Level_II', 'Overweight_Level_II', 'Normal_Weight', 'Obesity_Type_III', 'Obesity_Type_I', 'Overweight_Level_I', 'Overweight_Level_I', 'Insufficient_Weight', 'Obesity_Type_III', 'Obesity_Type_I', 'Insufficient_Weight', 'Obesity_Type_III', 'Insufficient_Weight', 'Obesity_Type_III', 'Normal_Weight', 'Overweight_Level_II', 'Obesity_Type_III', 'Obesity_Type_III', 'Obesity_Type_III', 'Insufficient_Weight', 'Overweight_Level_I', 'Obesity_Type_I', 'Obesity_Type_II', 'Overweight_Level_II', 'Obesity_Type_II', 'Obesity_Type_III', 'Obesity_Type_II', 'Normal_Weight', 'Obesity_Type_III', 'Obesity_Type_I', 'Overweight_Level_I', 'Overweight_Level_II', 'Overweight_Level_II', 'Insufficient_Weight', 'Obesity_Type_III', 'Normal_Weight', 'Obesity_Type_II', 'Obesity_Type_I', 'Obesity_Type_I', 'Obesity_Type_II', 'Normal_Weight', 'Normal_Weight', 'Normal_Weight', 'Normal_Weight', 'Normal_Weight', 'Overweight_Level_II', 'Obesity_Type_III', 'Obesity_Type_II', 'Obesity_Type_III', 'Obesity_Type_II', 'Obesity_Type_III', 'Insufficient_Weight', 'Obesity_Type_II', 'Normal_Weight', 'Normal_Weight', 'Overweight_Level_II', 'Normal_Weight', 'Obesity_Type_III', 'Obesity_Type_I', 'Normal_Weight', 'Obesity_Type_II', 'Insufficient_Weight', 'Normal_Weight', 'Overweight_Level_II', 'Overweight_Level_I', 'Insufficient_Weight', 'Insufficient_Weight', 'Insufficient_Weight', 'Insufficient_Weight', 'Overweight_Level_II', 'Obesity_Type_I', 'Obesity_Type_I', 'Overweight_Level_I', 'Obesity_Type_I', 'Overweight_Level_I', 'Overweight_Level_II', 'Obesity_Type_II', 'Obesity_Type_II', 'Obesity_Type_I', 'Obesity_Type_III', 'Overweight_Level_II', 'Obesity_Type_I', 'Normal_Weight', 'Overweight_Level_II', 'Normal_Weight', 'Overweight_Level_I', 'Obesity_Type_I', 'Normal_Weight', 'Obesity_Type_III', 'Overweight_Level_II', 'Obesity_Type_I', 'Obesity_Type_II', 'Obesity_Type_III', 'Obesity_Type_III', 'Overweight_Level_II', 'Obesity_Type_II', 'Normal_Weight', 'Overweight_Level_II', 'Overweight_Level_II', 'Normal_Weight', 'Obesity_Type_III', 'Normal_Weight', 'Obesity_Type_III', 'Insufficient_Weight', 'Obesity_Type_I', 'Insufficient_Weight', 'Obesity_Type_III', 'Overweight_Level_II', 'Normal_Weight', 'Obesity_Type_I', 'Obesity_Type_II', 'Obesity_Type_II', 'Normal_Weight', 'Obesity_Type_III', 'Insufficient_Weight', 'Overweight_Level_I', 'Obesity_Type_III', 'Obesity_Type_II', 'Overweight_Level_I', 'Overweight_Level_II', 'Insufficient_Weight', 'Obesity_Type_I', 'Obesity_Type_III', 'Obesity_Type_III', 'Normal_Weight', 'Overweight_Level_II', 'Obesity_Type_III', 'Obesity_Type_II', 'Normal_Weight', 'Obesity_Type_II', 'Obesity_Type_III', 'Insufficient_Weight', 'Insufficient_Weight', 'Obesity_Type_II', 'Overweight_Level_I', 'Obesity_Type_III', 'Overweight_Level_II', 'Insufficient_Weight', 'Obesity_Type_II', 'Overweight_Level_I', 'Normal_Weight', 'Insufficient_Weight', 'Insufficient_Weight', 'Obesity_Type_I', 'Obesity_Type_I', 'Normal_Weight', 'Obesity_Type_II', 'Obesity_Type_III', 'Normal_Weight', 'Obesity_Type_I', 'Obesity_Type_I', 'Obesity_Type_III', 'Obesity_Type_II', 'Obesity_Type_III', 'Insufficient_Weight', 'Obesity_Type_II', 'Overweight_Level_I', 'Obesity_Type_III', 'Normal_Weight', 'Overweight_Level_I', 'Normal_Weight', 'Obesity_Type_III', 'Obesity_Type_III', 'Obesity_Type_II', 'Obesity_Type_III', 'Obesity_Type_III', 'Obesity_Type_I', 'Overweight_Level_II', 'Obesity_Type_III', 'Normal_Weight', 'Obesity_Type_II', 'Obesity_Type_I', 'Obesity_Type_II', 'Obesity_Type_II', 'Normal_Weight', 'Obesity_Type_III', 'Normal_Weight', 'Overweight_Level_II', 'Obesity_Type_III', 'Overweight_Level_I', 'Obesity_Type_III', 'Obesity_Type_II', 'Obesity_Type_I', 'Overweight_Level_II', 'Obesity_Type_II', 'Obesity_Type_III', 'Normal_Weight', 'Obesity_Type_III', 'Insufficient_Weight', 'Overweight_Level_I', 'Normal_Weight', 'Overweight_Level_I', 'Obesity_Type_II', 'Obesity_Type_II', 'Overweight_Level_I', 'Normal_Weight', 'Overweight_Level_II', 'Normal_Weight', 'Obesity_Type_III', 'Normal_Weight', 'Overweight_Level_I', 'Obesity_Type_I', 'Obesity_Type_II', 'Obesity_Type_I', 'Obesity_Type_II', 'Obesity_Type_III', 'Normal_Weight', 'Obesity_Type_III', 'Obesity_Type_III', 'Normal_Weight', 'Obesity_Type_II', 'Obesity_Type_II', 'Insufficient_Weight', 'Obesity_Type_I', 'Overweight_Level_I', 'Overweight_Level_II', 'Obesity_Type_III', 'Obesity_Type_II', 'Obesity_Type_I', 'Overweight_Level_II', 'Obesity_Type_I', 'Insufficient_Weight', 'Normal_Weight', 'Obesity_Type_II', 'Insufficient_Weight', 'Obesity_Type_II', 'Overweight_Level_II', 'Obesity_Type_I', 'Obesity_Type_I', 'Obesity_Type_II', 'Obesity_Type_I', 'Obesity_Type_II', 'Obesity_Type_I', 'Normal_Weight', 'Obesity_Type_II', 'Normal_Weight', 'Obesity_Type_II', 'Obesity_Type_I', 'Overweight_Level_II', 'Insufficient_Weight', 'Insufficient_Weight', 'Obesity_Type_I', 'Obesity_Type_I', 'Overweight_Level_II', 'Obesity_Type_II', 'Overweight_Level_II', 'Obesity_Type_I', 'Obesity_Type_II', 'Insufficient_Weight', 'Obesity_Type_I', 'Normal_Weight', 'Obesity_Type_III', 'Obesity_Type_I', 'Obesity_Type_III', 'Obesity_Type_III', 'Obesity_Type_I', 'Obesity_Type_III', 'Obesity_Type_II', 'Obesity_Type_I', 'Normal_Weight', 'Obesity_Type_I', 'Obesity_Type_I', 'Obesity_Type_III', 'Overweight_Level_II', 'Obesity_Type_III', 'Obesity_Type_II', 'Normal_Weight', 'Overweight_Level_II', 'Obesity_Type_II', 'Overweight_Level_II', 'Insufficient_Weight', 'Overweight_Level_I', 'Overweight_Level_I', 'Obesity_Type_III', 'Obesity_Type_III', 'Normal_Weight', 'Normal_Weight', 'Overweight_Level_II', 'Overweight_Level_II', 'Normal_Weight', 'Obesity_Type_I', 'Obesity_Type_III', 'Obesity_Type_I', 'Obesity_Type_II', 'Normal_Weight', 'Overweight_Level_II', 'Insufficient_Weight', 'Overweight_Level_I', 'Obesity_Type_II', 'Obesity_Type_I', 'Obesity_Type_I', 'Overweight_Level_II', 'Overweight_Level_I', 'Obesity_Type_I', 'Overweight_Level_I', 'Obesity_Type_II', 'Overweight_Level_II', 'Obesity_Type_III', 'Obesity_Type_III', 'Overweight_Level_I', 'Obesity_Type_III', 'Normal_Weight', 'Obesity_Type_III', 'Obesity_Type_III', 'Overweight_Level_I', 'Insufficient_Weight', 'Overweight_Level_II', 'Overweight_Level_II', 'Overweight_Level_II', 'Obesity_Type_III', 'Normal_Weight', 'Overweight_Level_I', 'Overweight_Level_I', 'Insufficient_Weight', 'Obesity_Type_I', 'Overweight_Level_I', 'Overweight_Level_I', 'Overweight_Level_I', 'Obesity_Type_III', 'Obesity_Type_I', 'Obesity_Type_III', 'Overweight_Level_II', 'Overweight_Level_II', 'Obesity_Type_III', 'Obesity_Type_II', 'Overweight_Level_II', 'Obesity_Type_III', 'Obesity_Type_II', 'Overweight_Level_I', 'Overweight_Level_II', 'Obesity_Type_I', 'Insufficient_Weight', 'Obesity_Type_I', 'Obesity_Type_II', 'Insufficient_Weight', 'Normal_Weight', 'Insufficient_Weight', 'Obesity_Type_III', 'Obesity_Type_II', 'Normal_Weight', 'Obesity_Type_III', 'Insufficient_Weight', 'Obesity_Type_I', 'Overweight_Level_II', 'Obesity_Type_I', 'Obesity_Type_II', 'Obesity_Type_III', 'Obesity_Type_III', 'Obesity_Type_II', 'Insufficient_Weight', 'Normal_Weight', 'Insufficient_Weight', 'Obesity_Type_I', 'Overweight_Level_II', 'Obesity_Type_II', 'Obesity_Type_I', 'Obesity_Type_III', 'Overweight_Level_II', 'Normal_Weight', 'Obesity_Type_III', 'Insufficient_Weight', 'Obesity_Type_I', 'Overweight_Level_II', 'Obesity_Type_III', 'Obesity_Type_I', 'Normal_Weight', 'Normal_Weight', 'Obesity_Type_I', 'Obesity_Type_III', 'Obesity_Type_I', 'Overweight_Level_II', 'Normal_Weight', 'Obesity_Type_II', 'Obesity_Type_III', 'Normal_Weight', 'Obesity_Type_II', 'Obesity_Type_III', 'Normal_Weight', 'Overweight_Level_I', 'Overweight_Level_II', 'Overweight_Level_II', 'Obesity_Type_II', 'Overweight_Level_I', 'Obesity_Type_III', 'Insufficient_Weight', 'Obesity_Type_I', 'Insufficient_Weight', 'Overweight_Level_II', 'Normal_Weight', 'Insufficient_Weight', 'Overweight_Level_I', 'Obesity_Type_III', 'Overweight_Level_II', 'Obesity_Type_III', 'Obesity_Type_II', 'Obesity_Type_III', 'Overweight_Level_I', 'Obesity_Type_III', 'Insufficient_Weight', 'Insufficient_Weight', 'Obesity_Type_III', 'Normal_Weight', 'Obesity_Type_II', 'Overweight_Level_II', 'Overweight_Level_II', 'Normal_Weight', 'Obesity_Type_II', 'Obesity_Type_I', 'Insufficient_Weight', 'Overweight_Level_II', 'Normal_Weight', 'Obesity_Type_I', 'Obesity_Type_II', 'Overweight_Level_II', 'Normal_Weight', 'Obesity_Type_II', 'Normal_Weight', 'Obesity_Type_II', 'Overweight_Level_I', 'Obesity_Type_III', 'Normal_Weight', 'Obesity_Type_III', 'Insufficient_Weight', 'Obesity_Type_I', 'Overweight_Level_II', 'Overweight_Level_I', 'Normal_Weight', 'Overweight_Level_II', 'Obesity_Type_III', 'Obesity_Type_III', 'Obesity_Type_II', 'Obesity_Type_II', 'Obesity_Type_II', 'Obesity_Type_II', 'Obesity_Type_II', 'Normal_Weight', 'Obesity_Type_I', 'Obesity_Type_III', 'Obesity_Type_I', 'Overweight_Level_I', 'Normal_Weight', 'Obesity_Type_II', 'Obesity_Type_III', 'Overweight_Level_II', 'Obesity_Type_I', 'Obesity_Type_III', 'Obesity_Type_III', 'Obesity_Type_III', 'Insufficient_Weight', 'Obesity_Type_III', 'Obesity_Type_II', 'Overweight_Level_I', 'Obesity_Type_I', 'Obesity_Type_III', 'Obesity_Type_I', 'Overweight_Level_I', 'Overweight_Level_II', 'Overweight_Level_II', 'Obesity_Type_II', 'Insufficient_Weight', 'Obesity_Type_III', 'Normal_Weight', 'Obesity_Type_I', 'Obesity_Type_III', 'Normal_Weight', 'Obesity_Type_I', 'Obesity_Type_III', 'Obesity_Type_I', 'Obesity_Type_I', 'Obesity_Type_I', 'Obesity_Type_I', 'Obesity_Type_III', 'Obesity_Type_III', 'Obesity_Type_I', 'Obesity_Type_II', 'Insufficient_Weight', 'Normal_Weight', 'Obesity_Type_III', 'Obesity_Type_I', 'Normal_Weight', 'Insufficient_Weight', 'Overweight_Level_I', 'Normal_Weight', 'Insufficient_Weight', 'Obesity_Type_I', 'Insufficient_Weight', 'Overweight_Level_II', 'Normal_Weight', 'Obesity_Type_II', 'Overweight_Level_I', 'Normal_Weight', 'Obesity_Type_III', 'Obesity_Type_I', 'Normal_Weight', 'Obesity_Type_I', 'Overweight_Level_II', 'Normal_Weight', 'Normal_Weight', 'Insufficient_Weight', 'Overweight_Level_II', 'Normal_Weight', 'Obesity_Type_II', 'Overweight_Level_II', 'Obesity_Type_II', 'Obesity_Type_I', 'Obesity_Type_II', 'Overweight_Level_II', 'Obesity_Type_I', 'Obesity_Type_II', 'Overweight_Level_II', 'Obesity_Type_III', 'Obesity_Type_II', 'Obesity_Type_II', 'Overweight_Level_II', 'Normal_Weight', 'Insufficient_Weight', 'Obesity_Type_II', 'Overweight_Level_II', 'Insufficient_Weight', 'Obesity_Type_II', 'Overweight_Level_II', 'Insufficient_Weight', 'Obesity_Type_III', 'Obesity_Type_III', 'Normal_Weight', 'Obesity_Type_I', 'Obesity_Type_III', 'Obesity_Type_III', 'Obesity_Type_III', 'Overweight_Level_II', 'Overweight_Level_II', 'Insufficient_Weight', 'Insufficient_Weight', 'Normal_Weight', 'Obesity_Type_III', 'Insufficient_Weight', 'Insufficient_Weight', 'Insufficient_Weight', 'Obesity_Type_II', 'Obesity_Type_III', 'Obesity_Type_III', 'Obesity_Type_III', 'Obesity_Type_II', 'Obesity_Type_II', 'Obesity_Type_I', 'Overweight_Level_II', 'Normal_Weight', 'Insufficient_Weight', 'Normal_Weight', 'Normal_Weight', 'Obesity_Type_II', 'Overweight_Level_I', 'Obesity_Type_II', 'Overweight_Level_II', 'Normal_Weight', 'Obesity_Type_II', 'Normal_Weight', 'Overweight_Level_II', 'Normal_Weight', 'Obesity_Type_II', 'Normal_Weight', 'Overweight_Level_II', 'Overweight_Level_I', 'Obesity_Type_III', 'Obesity_Type_III', 'Normal_Weight', 'Obesity_Type_II', 'Obesity_Type_I', 'Overweight_Level_I', 'Normal_Weight', 'Obesity_Type_III', 'Obesity_Type_II', 'Obesity_Type_I', 'Overweight_Level_II', 'Overweight_Level_II', 'Obesity_Type_III', 'Obesity_Type_III', 'Obesity_Type_II', 'Obesity_Type_III', 'Obesity_Type_II', 'Obesity_Type_I', 'Obesity_Type_III', 'Insufficient_Weight', 'Obesity_Type_I', 'Normal_Weight', 'Overweight_Level_II', 'Obesity_Type_III', 'Normal_Weight', 'Overweight_Level_II', 'Obesity_Type_III', 'Obesity_Type_II', 'Overweight_Level_I', 'Obesity_Type_II', 'Overweight_Level_II', 'Insufficient_Weight', 'Obesity_Type_I', 'Obesity_Type_III', 'Normal_Weight', 'Insufficient_Weight', 'Normal_Weight', 'Normal_Weight', 'Overweight_Level_I', 'Obesity_Type_II', 'Insufficient_Weight', 'Obesity_Type_II', 'Normal_Weight', 'Overweight_Level_II', 'Overweight_Level_II', 'Overweight_Level_I', 'Overweight_Level_II', 'Obesity_Type_II', 'Normal_Weight', 'Obesity_Type_III', 'Obesity_Type_II', 'Insufficient_Weight', 'Insufficient_Weight', 'Obesity_Type_II', 'Obesity_Type_III', 'Overweight_Level_II', 'Normal_Weight', 'Obesity_Type_II', 'Overweight_Level_I', 'Obesity_Type_III', 'Insufficient_Weight', 'Obesity_Type_III', 'Overweight_Level_II', 'Normal_Weight', 'Overweight_Level_I', 'Normal_Weight', 'Obesity_Type_I', 'Obesity_Type_III', 'Obesity_Type_I', 'Obesity_Type_III', 'Overweight_Level_II', 'Overweight_Level_I', 'Obesity_Type_II', 'Obesity_Type_I', 'Overweight_Level_II', 'Obesity_Type_III', 'Overweight_Level_I', 'Normal_Weight', 'Obesity_Type_III', 'Insufficient_Weight', 'Obesity_Type_II', 'Insufficient_Weight', 'Obesity_Type_I', 'Overweight_Level_I', 'Overweight_Level_II', 'Insufficient_Weight', 'Insufficient_Weight', 'Obesity_Type_III', 'Overweight_Level_II', 'Insufficient_Weight', 'Overweight_Level_II', 'Normal_Weight', 'Obesity_Type_I', 'Obesity_Type_I', 'Insufficient_Weight', 'Obesity_Type_I', 'Obesity_Type_III', 'Overweight_Level_II', 'Insufficient_Weight', 'Overweight_Level_II', 'Overweight_Level_I', 'Overweight_Level_I', 'Obesity_Type_II', 'Overweight_Level_II', 'Overweight_Level_II', 'Overweight_Level_I', 'Insufficient_Weight', 'Obesity_Type_III', 'Obesity_Type_III', 'Insufficient_Weight', 'Obesity_Type_III', 'Obesity_Type_II', 'Normal_Weight', 'Obesity_Type_I', 'Overweight_Level_II', 'Insufficient_Weight', 'Obesity_Type_II', 'Normal_Weight', 'Overweight_Level_II', 'Obesity_Type_III', 'Insufficient_Weight', 'Obesity_Type_I', 'Overweight_Level_I', 'Obesity_Type_I', 'Normal_Weight', 'Overweight_Level_II', 'Obesity_Type_III', 'Obesity_Type_III', 'Overweight_Level_I', 'Overweight_Level_II', 'Obesity_Type_II', 'Obesity_Type_I', 'Insufficient_Weight', 'Obesity_Type_I', 'Overweight_Level_I', 'Obesity_Type_I', 'Obesity_Type_III', 'Overweight_Level_I', 'Obesity_Type_II', 'Obesity_Type_II', 'Obesity_Type_I', 'Overweight_Level_II', 'Overweight_Level_I', 'Obesity_Type_III', 'Overweight_Level_I', 'Obesity_Type_II', 'Obesity_Type_I', 'Overweight_Level_II', 'Overweight_Level_I', 'Obesity_Type_III', 'Obesity_Type_I', 'Overweight_Level_II', 'Overweight_Level_II', 'Overweight_Level_II', 'Normal_Weight', 'Normal_Weight', 'Obesity_Type_I', 'Insufficient_Weight', 'Obesity_Type_II', 'Obesity_Type_III', 'Obesity_Type_I', 'Insufficient_Weight', 'Obesity_Type_III', 'Overweight_Level_I', 'Obesity_Type_III', 'Overweight_Level_I', 'Overweight_Level_I', 'Overweight_Level_II', 'Overweight_Level_II', 'Obesity_Type_II', 'Obesity_Type_II', 'Obesity_Type_I', 'Obesity_Type_II', 'Insufficient_Weight', 'Insufficient_Weight', 'Obesity_Type_II', 'Overweight_Level_II', 'Obesity_Type_I', 'Obesity_Type_I', 'Obesity_Type_II', 'Overweight_Level_I', 'Obesity_Type_II', 'Obesity_Type_II', 'Overweight_Level_II', 'Normal_Weight', 'Overweight_Level_I', 'Overweight_Level_I', 'Normal_Weight', 'Insufficient_Weight', 'Obesity_Type_I', 'Obesity_Type_I', 'Obesity_Type_III', 'Obesity_Type_II', 'Normal_Weight', 'Obesity_Type_I', 'Insufficient_Weight', 'Obesity_Type_II', 'Insufficient_Weight', 'Obesity_Type_I', 'Overweight_Level_I', 'Insufficient_Weight', 'Obesity_Type_II', 'Obesity_Type_II', 'Obesity_Type_I', 'Overweight_Level_II', 'Overweight_Level_II', 'Insufficient_Weight', 'Insufficient_Weight', 'Insufficient_Weight', 'Obesity_Type_II', 'Obesity_Type_II', 'Overweight_Level_II', 'Obesity_Type_III', 'Insufficient_Weight', 'Obesity_Type_I', 'Obesity_Type_I', 'Overweight_Level_II', 'Obesity_Type_III', 'Obesity_Type_III', 'Obesity_Type_III', 'Overweight_Level_II', 'Obesity_Type_III', 'Overweight_Level_II', 'Obesity_Type_II', 'Normal_Weight', 'Normal_Weight', 'Overweight_Level_I', 'Overweight_Level_II', 'Normal_Weight', 'Insufficient_Weight', 'Obesity_Type_I', 'Obesity_Type_II', 'Insufficient_Weight', 'Normal_Weight', 'Insufficient_Weight', 'Obesity_Type_I', 'Normal_Weight', 'Obesity_Type_III', 'Overweight_Level_II', 'Overweight_Level_II', 'Obesity_Type_I', 'Obesity_Type_I', 'Obesity_Type_III', 'Obesity_Type_III', 'Obesity_Type_III', 'Obesity_Type_III', 'Normal_Weight', 'Overweight_Level_II', 'Obesity_Type_I', 'Obesity_Type_III', 'Obesity_Type_III', 'Normal_Weight', 'Normal_Weight', 'Obesity_Type_I', 'Normal_Weight', 'Obesity_Type_III', 'Obesity_Type_II', 'Insufficient_Weight', 'Overweight_Level_II', 'Normal_Weight', 'Insufficient_Weight', 'Obesity_Type_I', 'Insufficient_Weight', 'Obesity_Type_II', 'Normal_Weight', 'Obesity_Type_I', 'Obesity_Type_II', 'Obesity_Type_II', 'Obesity_Type_III', 'Normal_Weight', 'Insufficient_Weight', 'Normal_Weight', 'Normal_Weight', 'Overweight_Level_I', 'Obesity_Type_III', 'Obesity_Type_III', 'Insufficient_Weight', 'Obesity_Type_II', 'Overweight_Level_I', 'Overweight_Level_I', 'Obesity_Type_III', 'Obesity_Type_I', 'Overweight_Level_II', 'Insufficient_Weight', 'Insufficient_Weight', 'Overweight_Level_I', 'Obesity_Type_III', 'Obesity_Type_III', 'Obesity_Type_III', 'Obesity_Type_III', 'Insufficient_Weight', 'Insufficient_Weight', 'Obesity_Type_III', 'Obesity_Type_II', 'Obesity_Type_I', 'Obesity_Type_II', 'Obesity_Type_III', 'Obesity_Type_II', 'Overweight_Level_II', 'Obesity_Type_II', 'Obesity_Type_III', 'Overweight_Level_I', 'Obesity_Type_III', 'Overweight_Level_I', 'Obesity_Type_III', 'Obesity_Type_I', 'Obesity_Type_III', 'Obesity_Type_III', 'Overweight_Level_II', 'Obesity_Type_II', 'Overweight_Level_II', 'Overweight_Level_II', 'Obesity_Type_I', 'Obesity_Type_III', 'Insufficient_Weight', 'Obesity_Type_III', 'Obesity_Type_III', 'Obesity_Type_I', 'Insufficient_Weight', 'Overweight_Level_I', 'Obesity_Type_I', 'Obesity_Type_III', 'Normal_Weight', 'Obesity_Type_II', 'Obesity_Type_I', 'Obesity_Type_I', 'Obesity_Type_III', 'Obesity_Type_III', 'Obesity_Type_I', 'Obesity_Type_III', 'Normal_Weight', 'Obesity_Type_III', 'Overweight_Level_I', 'Obesity_Type_I', 'Overweight_Level_I', 'Obesity_Type_I', 'Obesity_Type_I', 'Obesity_Type_III', 'Obesity_Type_III', 'Overweight_Level_II', 'Insufficient_Weight', 'Obesity_Type_II', 'Normal_Weight', 'Obesity_Type_I', 'Obesity_Type_II', 'Normal_Weight', 'Insufficient_Weight', 'Overweight_Level_I', 'Obesity_Type_III', 'Obesity_Type_III', 'Overweight_Level_I', 'Obesity_Type_III', 'Obesity_Type_II', 'Normal_Weight', 'Obesity_Type_III', 'Insufficient_Weight', 'Obesity_Type_III', 'Overweight_Level_II', 'Overweight_Level_II', 'Overweight_Level_II', 'Obesity_Type_III', 'Obesity_Type_I', 'Obesity_Type_III', 'Obesity_Type_I', 'Obesity_Type_I', 'Normal_Weight', 'Overweight_Level_I', 'Overweight_Level_I', 'Obesity_Type_II', 'Obesity_Type_II', 'Overweight_Level_II', 'Obesity_Type_II', 'Obesity_Type_I', 'Obesity_Type_II', 'Overweight_Level_I', 'Insufficient_Weight', 'Obesity_Type_II', 'Obesity_Type_II', 'Overweight_Level_II', 'Obesity_Type_II', 'Overweight_Level_I', 'Obesity_Type_III', 'Overweight_Level_II', 'Obesity_Type_III', 'Insufficient_Weight', 'Overweight_Level_II', 'Overweight_Level_II', 'Obesity_Type_I', 'Overweight_Level_I', 'Overweight_Level_II', 'Normal_Weight', 'Obesity_Type_I', 'Overweight_Level_I', 'Overweight_Level_II', 'Obesity_Type_I', 'Normal_Weight', 'Obesity_Type_III', 'Obesity_Type_I', 'Obesity_Type_III', 'Obesity_Type_II', 'Overweight_Level_I', 'Obesity_Type_II', 'Obesity_Type_III', 'Obesity_Type_III', 'Obesity_Type_II', 'Overweight_Level_II', 'Obesity_Type_II', 'Obesity_Type_II', 'Obesity_Type_III', 'Obesity_Type_II', 'Obesity_Type_III', 'Insufficient_Weight', 'Insufficient_Weight', 'Insufficient_Weight', 'Obesity_Type_II', 'Obesity_Type_I', 'Overweight_Level_I', 'Obesity_Type_I', 'Insufficient_Weight', 'Obesity_Type_I', 'Obesity_Type_III', 'Normal_Weight', 'Insufficient_Weight', 'Overweight_Level_II', 'Overweight_Level_I', 'Insufficient_Weight', 'Obesity_Type_II', 'Insufficient_Weight', 'Obesity_Type_II', 'Obesity_Type_III', 'Normal_Weight', 'Normal_Weight', 'Overweight_Level_II', 'Overweight_Level_I', 'Obesity_Type_III', 'Insufficient_Weight', 'Normal_Weight', 'Obesity_Type_I', 'Overweight_Level_II', 'Overweight_Level_II', 'Obesity_Type_I', 'Overweight_Level_I', 'Obesity_Type_III', 'Overweight_Level_II', 'Obesity_Type_II', 'Obesity_Type_II', 'Obesity_Type_I', 'Overweight_Level_I', 'Normal_Weight', 'Overweight_Level_I', 'Overweight_Level_I', 'Overweight_Level_I', 'Obesity_Type_I', 'Obesity_Type_III', 'Insufficient_Weight', 'Obesity_Type_III', 'Insufficient_Weight', 'Obesity_Type_III', 'Normal_Weight', 'Overweight_Level_I', 'Obesity_Type_I', 'Overweight_Level_II', 'Obesity_Type_III', 'Overweight_Level_II', 'Overweight_Level_II', 'Obesity_Type_I', 'Obesity_Type_III', 'Overweight_Level_II', 'Insufficient_Weight', 'Insufficient_Weight', 'Obesity_Type_I', 'Insufficient_Weight', 'Obesity_Type_I', 'Obesity_Type_III', 'Obesity_Type_II', 'Obesity_Type_II', 'Normal_Weight', 'Overweight_Level_I', 'Insufficient_Weight', 'Normal_Weight', 'Overweight_Level_I', 'Insufficient_Weight', 'Obesity_Type_III', 'Overweight_Level_I', 'Obesity_Type_III', 'Obesity_Type_III', 'Normal_Weight', 'Obesity_Type_I', 'Obesity_Type_II', 'Overweight_Level_I', 'Overweight_Level_II', 'Obesity_Type_III', 'Obesity_Type_II', 'Normal_Weight', 'Insufficient_Weight', 'Normal_Weight', 'Obesity_Type_II', 'Overweight_Level_I', 'Normal_Weight', 'Insufficient_Weight', 'Obesity_Type_I', 'Obesity_Type_III', 'Overweight_Level_II', 'Obesity_Type_I', 'Obesity_Type_III', 'Normal_Weight', 'Obesity_Type_I', 'Obesity_Type_III', 'Obesity_Type_I', 'Obesity_Type_III', 'Obesity_Type_III', 'Obesity_Type_I', 'Obesity_Type_II', 'Obesity_Type_I', 'Obesity_Type_I', 'Overweight_Level_I', 'Obesity_Type_I', 'Insufficient_Weight', 'Obesity_Type_III', 'Obesity_Type_III', 'Normal_Weight', 'Insufficient_Weight', 'Overweight_Level_I', 'Normal_Weight', 'Obesity_Type_III', 'Obesity_Type_III', 'Insufficient_Weight', 'Obesity_Type_III', 'Normal_Weight', 'Obesity_Type_II', 'Obesity_Type_III', 'Obesity_Type_II', 'Overweight_Level_II', 'Normal_Weight', 'Overweight_Level_II', 'Obesity_Type_I', 'Insufficient_Weight', 'Overweight_Level_I', 'Normal_Weight', 'Normal_Weight', 'Overweight_Level_I', 'Insufficient_Weight', 'Obesity_Type_II', 'Overweight_Level_II', 'Overweight_Level_II', 'Insufficient_Weight', 'Insufficient_Weight', 'Normal_Weight', 'Insufficient_Weight', 'Obesity_Type_I', 'Obesity_Type_II', 'Obesity_Type_III', 'Obesity_Type_II', 'Obesity_Type_I', 'Obesity_Type_III', 'Obesity_Type_III', 'Obesity_Type_I', 'Obesity_Type_III', 'Obesity_Type_I', 'Insufficient_Weight', 'Overweight_Level_I', 'Overweight_Level_I', 'Insufficient_Weight', 'Insufficient_Weight', 'Obesity_Type_I', 'Obesity_Type_III', 'Overweight_Level_I', 'Obesity_Type_I', 'Insufficient_Weight', 'Obesity_Type_II', 'Obesity_Type_I', 'Obesity_Type_III', 'Obesity_Type_III', 'Obesity_Type_II', 'Overweight_Level_II', 'Obesity_Type_III', 'Overweight_Level_II', 'Overweight_Level_I', 'Overweight_Level_II', 'Normal_Weight', 'Obesity_Type_III', 'Normal_Weight', 'Obesity_Type_II', 'Obesity_Type_III', 'Obesity_Type_II', 'Insufficient_Weight', 'Insufficient_Weight', 'Normal_Weight', 'Obesity_Type_I', 'Obesity_Type_II', 'Obesity_Type_II', 'Obesity_Type_II', 'Obesity_Type_I', 'Obesity_Type_III', 'Overweight_Level_II', 'Overweight_Level_II', 'Obesity_Type_II', 'Obesity_Type_III', 'Obesity_Type_III', 'Obesity_Type_III', 'Obesity_Type_II', 'Overweight_Level_II', 'Obesity_Type_II', 'Obesity_Type_III', 'Obesity_Type_III', 'Obesity_Type_III', 'Obesity_Type_II', 'Normal_Weight', 'Obesity_Type_I', 'Overweight_Level_II', 'Obesity_Type_I', 'Obesity_Type_I', 'Obesity_Type_III', 'Obesity_Type_III', 'Overweight_Level_II', 'Obesity_Type_II', 'Obesity_Type_III', 'Obesity_Type_III', 'Overweight_Level_I', 'Obesity_Type_III', 'Normal_Weight', 'Insufficient_Weight', 'Insufficient_Weight', 'Normal_Weight', 'Insufficient_Weight', 'Obesity_Type_III', 'Normal_Weight', 'Overweight_Level_I', 'Obesity_Type_II', 'Insufficient_Weight', 'Overweight_Level_I', 'Insufficient_Weight', 'Overweight_Level_I', 'Obesity_Type_III', 'Insufficient_Weight', 'Insufficient_Weight', 'Insufficient_Weight', 'Insufficient_Weight', 'Overweight_Level_I', 'Overweight_Level_I', 'Obesity_Type_III', 'Obesity_Type_II', 'Normal_Weight', 'Normal_Weight', 'Normal_Weight', 'Overweight_Level_II', 'Obesity_Type_II', 'Insufficient_Weight', 'Overweight_Level_II', 'Obesity_Type_I', 'Obesity_Type_II', 'Obesity_Type_III', 'Overweight_Level_I', 'Overweight_Level_I', 'Obesity_Type_II', 'Obesity_Type_I', 'Obesity_Type_II', 'Insufficient_Weight', 'Obesity_Type_I', 'Normal_Weight', 'Insufficient_Weight', 'Overweight_Level_I', 'Obesity_Type_II', 'Overweight_Level_II', 'Overweight_Level_I', 'Overweight_Level_I', 'Obesity_Type_III', 'Overweight_Level_I', 'Obesity_Type_I', 'Normal_Weight', 'Normal_Weight', 'Obesity_Type_III', 'Obesity_Type_III', 'Obesity_Type_I', 'Overweight_Level_I', 'Normal_Weight', 'Obesity_Type_III', 'Overweight_Level_II', 'Overweight_Level_II', 'Obesity_Type_II', 'Insufficient_Weight', 'Insufficient_Weight', 'Obesity_Type_I', 'Normal_Weight', 'Obesity_Type_III', 'Insufficient_Weight', 'Overweight_Level_II', 'Obesity_Type_III', 'Overweight_Level_II', 'Overweight_Level_I', 'Overweight_Level_I', 'Insufficient_Weight', 'Obesity_Type_III', 'Obesity_Type_I', 'Insufficient_Weight', 'Obesity_Type_III', 'Overweight_Level_II', 'Overweight_Level_I', 'Normal_Weight', 'Obesity_Type_I', 'Normal_Weight', 'Obesity_Type_III', 'Overweight_Level_I', 'Obesity_Type_III', 'Overweight_Level_I', 'Normal_Weight', 'Insufficient_Weight', 'Obesity_Type_I', 'Overweight_Level_II', 'Overweight_Level_II', 'Obesity_Type_III', 'Normal_Weight', 'Obesity_Type_III', 'Obesity_Type_I', 'Overweight_Level_I', 'Normal_Weight', 'Overweight_Level_II', 'Insufficient_Weight', 'Overweight_Level_II', 'Insufficient_Weight', 'Normal_Weight', 'Overweight_Level_I', 'Obesity_Type_I', 'Insufficient_Weight', 'Insufficient_Weight', 'Obesity_Type_III', 'Obesity_Type_III', 'Normal_Weight', 'Obesity_Type_III', 'Obesity_Type_I', 'Obesity_Type_II', 'Overweight_Level_I', 'Obesity_Type_II', 'Overweight_Level_I', 'Overweight_Level_I', 'Obesity_Type_II', 'Insufficient_Weight', 'Obesity_Type_II', 'Normal_Weight', 'Normal_Weight', 'Obesity_Type_II', 'Obesity_Type_I', 'Insufficient_Weight', 'Insufficient_Weight', 'Overweight_Level_II', 'Obesity_Type_III', 'Normal_Weight', 'Normal_Weight', 'Obesity_Type_I', 'Overweight_Level_I', 'Overweight_Level_I', 'Obesity_Type_II', 'Overweight_Level_II', 'Obesity_Type_I', 'Overweight_Level_I', 'Overweight_Level_II', 'Obesity_Type_III', 'Obesity_Type_II', 'Overweight_Level_I', 'Obesity_Type_I', 'Obesity_Type_II', 'Obesity_Type_III', 'Obesity_Type_III', 'Insufficient_Weight', 'Overweight_Level_I', 'Normal_Weight', 'Insufficient_Weight', 'Obesity_Type_II', 'Obesity_Type_III', 'Normal_Weight', 'Overweight_Level_I', 'Obesity_Type_I', 'Insufficient_Weight', 'Normal_Weight', 'Obesity_Type_I', 'Obesity_Type_I', 'Insufficient_Weight', 'Normal_Weight', 'Insufficient_Weight', 'Overweight_Level_II', 'Insufficient_Weight', 'Obesity_Type_III', 'Normal_Weight', 'Obesity_Type_II', 'Obesity_Type_II', 'Insufficient_Weight', 'Overweight_Level_I', 'Obesity_Type_III', 'Obesity_Type_III', 'Obesity_Type_II', 'Normal_Weight', 'Normal_Weight', 'Overweight_Level_II', 'Overweight_Level_I', 'Overweight_Level_II', 'Insufficient_Weight', 'Overweight_Level_II', 'Overweight_Level_II', 'Insufficient_Weight', 'Normal_Weight', 'Obesity_Type_III', 'Insufficient_Weight', 'Normal_Weight', 'Overweight_Level_I', 'Obesity_Type_II', 'Overweight_Level_II', 'Obesity_Type_I', 'Obesity_Type_II', 'Overweight_Level_II', 'Normal_Weight', 'Obesity_Type_III', 'Normal_Weight', 'Obesity_Type_III', 'Insufficient_Weight', 'Normal_Weight', 'Normal_Weight', 'Overweight_Level_I', 'Obesity_Type_II', 'Overweight_Level_II', 'Overweight_Level_II', 'Overweight_Level_I', 'Obesity_Type_III', 'Obesity_Type_II', 'Overweight_Level_II', 'Obesity_Type_II', 'Obesity_Type_III', 'Obesity_Type_III', 'Overweight_Level_I', 'Obesity_Type_II', 'Obesity_Type_II', 'Overweight_Level_II', 'Obesity_Type_III', 'Overweight_Level_I', 'Insufficient_Weight', 'Normal_Weight', 'Obesity_Type_II', 'Overweight_Level_II', 'Obesity_Type_III', 'Overweight_Level_II', 'Obesity_Type_III', 'Normal_Weight', 'Obesity_Type_III', 'Normal_Weight', 'Normal_Weight', 'Obesity_Type_II', 'Obesity_Type_II', 'Obesity_Type_III', 'Insufficient_Weight', 'Obesity_Type_I', 'Insufficient_Weight', 'Obesity_Type_I', 'Obesity_Type_II', 'Obesity_Type_III', 'Obesity_Type_III', 'Overweight_Level_II', 'Overweight_Level_I', 'Insufficient_Weight', 'Insufficient_Weight', 'Normal_Weight', 'Obesity_Type_I', 'Normal_Weight', 'Normal_Weight', 'Obesity_Type_I', 'Obesity_Type_I', 'Obesity_Type_I', 'Overweight_Level_II', 'Obesity_Type_I', 'Normal_Weight', 'Overweight_Level_I', 'Overweight_Level_II', 'Insufficient_Weight', 'Obesity_Type_II', 'Overweight_Level_I', 'Insufficient_Weight', 'Obesity_Type_III', 'Overweight_Level_II', 'Obesity_Type_III', 'Obesity_Type_I', 'Obesity_Type_II', 'Obesity_Type_III', 'Obesity_Type_III', 'Obesity_Type_I', 'Normal_Weight', 'Obesity_Type_I', 'Obesity_Type_II', 'Obesity_Type_II', 'Overweight_Level_I', 'Obesity_Type_II', 'Overweight_Level_II', 'Obesity_Type_I', 'Normal_Weight', 'Obesity_Type_I', 'Obesity_Type_I', 'Normal_Weight', 'Obesity_Type_I', 'Insufficient_Weight', 'Normal_Weight', 'Obesity_Type_II', 'Overweight_Level_II', 'Insufficient_Weight', 'Obesity_Type_III', 'Obesity_Type_III', 'Insufficient_Weight', 'Overweight_Level_I', 'Overweight_Level_II', 'Obesity_Type_III', 'Obesity_Type_I', 'Insufficient_Weight', 'Obesity_Type_III', 'Obesity_Type_II', 'Overweight_Level_I', 'Overweight_Level_I', 'Obesity_Type_I', 'Normal_Weight', 'Normal_Weight', 'Obesity_Type_III', 'Obesity_Type_I', 'Obesity_Type_II', 'Obesity_Type_I', 'Overweight_Level_I', 'Overweight_Level_I', 'Obesity_Type_III', 'Overweight_Level_II', 'Normal_Weight', 'Obesity_Type_III', 'Obesity_Type_II', 'Obesity_Type_III', 'Overweight_Level_II', 'Obesity_Type_III', 'Normal_Weight', 'Obesity_Type_II', 'Normal_Weight', 'Insufficient_Weight', 'Overweight_Level_II', 'Normal_Weight', 'Obesity_Type_II', 'Normal_Weight', 'Overweight_Level_I', 'Obesity_Type_III', 'Overweight_Level_I', 'Overweight_Level_II', 'Normal_Weight', 'Overweight_Level_I', 'Obesity_Type_III', 'Insufficient_Weight', 'Overweight_Level_I', 'Overweight_Level_II', 'Overweight_Level_I', 'Overweight_Level_I', 'Overweight_Level_II', 'Obesity_Type_III', 'Obesity_Type_III', 'Obesity_Type_III', 'Obesity_Type_III', 'Obesity_Type_III', 'Obesity_Type_I', 'Obesity_Type_III', 'Obesity_Type_II', 'Insufficient_Weight', 'Obesity_Type_III', 'Obesity_Type_I', 'Overweight_Level_II', 'Obesity_Type_III', 'Normal_Weight', 'Normal_Weight', 'Obesity_Type_III', 'Insufficient_Weight', 'Obesity_Type_II', 'Insufficient_Weight', 'Overweight_Level_II', 'Overweight_Level_I', 'Normal_Weight', 'Obesity_Type_III', 'Obesity_Type_I', 'Obesity_Type_II', 'Obesity_Type_III', 'Overweight_Level_II', 'Obesity_Type_III', 'Insufficient_Weight', 'Obesity_Type_II', 'Obesity_Type_III', 'Obesity_Type_III', 'Overweight_Level_I', 'Obesity_Type_III', 'Normal_Weight', 'Overweight_Level_I', 'Obesity_Type_III', 'Overweight_Level_II', 'Overweight_Level_II', 'Overweight_Level_II', 'Overweight_Level_I', 'Obesity_Type_II', 'Obesity_Type_III', 'Overweight_Level_II', 'Insufficient_Weight', 'Overweight_Level_II', 'Obesity_Type_II', 'Obesity_Type_II', 'Insufficient_Weight', 'Obesity_Type_I', 'Overweight_Level_II', 'Insufficient_Weight', 'Overweight_Level_II', 'Obesity_Type_II', 'Obesity_Type_III', 'Overweight_Level_II', 'Obesity_Type_I', 'Insufficient_Weight', 'Overweight_Level_I', 'Obesity_Type_II', 'Insufficient_Weight', 'Obesity_Type_III', 'Insufficient_Weight', 'Normal_Weight', 'Obesity_Type_III', 'Obesity_Type_II', 'Obesity_Type_I', 'Obesity_Type_III', 'Obesity_Type_II', 'Obesity_Type_II', 'Normal_Weight', 'Insufficient_Weight', 'Insufficient_Weight', 'Obesity_Type_II', 'Obesity_Type_I', 'Insufficient_Weight', 'Obesity_Type_I', 'Normal_Weight', 'Normal_Weight', 'Normal_Weight', 'Obesity_Type_II', 'Obesity_Type_III', 'Overweight_Level_I', 'Overweight_Level_I', 'Obesity_Type_II', 'Normal_Weight', 'Normal_Weight', 'Overweight_Level_II', 'Overweight_Level_II', 'Normal_Weight', 'Overweight_Level_II', 'Overweight_Level_II', 'Overweight_Level_I', 'Insufficient_Weight', 'Obesity_Type_II', 'Obesity_Type_III', 'Normal_Weight', 'Overweight_Level_I', 'Normal_Weight', 'Normal_Weight', 'Normal_Weight', 'Obesity_Type_II', 'Obesity_Type_II', 'Obesity_Type_III', 'Overweight_Level_II', 'Overweight_Level_II', 'Obesity_Type_II', 'Normal_Weight', 'Obesity_Type_I', 'Overweight_Level_I', 'Overweight_Level_II', 'Normal_Weight', 'Normal_Weight', 'Normal_Weight', 'Obesity_Type_III', 'Overweight_Level_I', 'Obesity_Type_III', 'Insufficient_Weight', 'Obesity_Type_II', 'Overweight_Level_I', 'Overweight_Level_I', 'Overweight_Level_I', 'Obesity_Type_III', 'Obesity_Type_II', 'Obesity_Type_I', 'Obesity_Type_III', 'Normal_Weight', 'Obesity_Type_III', 'Normal_Weight', 'Obesity_Type_I', 'Obesity_Type_III', 'Obesity_Type_I', 'Overweight_Level_II', 'Obesity_Type_II', 'Obesity_Type_II', 'Obesity_Type_III', 'Insufficient_Weight', 'Overweight_Level_I', 'Normal_Weight', 'Obesity_Type_I', 'Normal_Weight', 'Insufficient_Weight', 'Overweight_Level_II', 'Normal_Weight', 'Obesity_Type_II', 'Obesity_Type_I', 'Normal_Weight', 'Insufficient_Weight', 'Obesity_Type_III', 'Normal_Weight', 'Obesity_Type_I', 'Obesity_Type_I', 'Insufficient_Weight', 'Obesity_Type_III', 'Obesity_Type_II', 'Insufficient_Weight', 'Obesity_Type_III', 'Obesity_Type_II', 'Insufficient_Weight', 'Obesity_Type_III', 'Overweight_Level_I', 'Normal_Weight', 'Normal_Weight', 'Obesity_Type_III', 'Overweight_Level_II', 'Obesity_Type_III', 'Obesity_Type_III', 'Normal_Weight', 'Overweight_Level_I', 'Obesity_Type_I', 'Obesity_Type_I', 'Overweight_Level_II', 'Obesity_Type_III', 'Overweight_Level_II', 'Normal_Weight', 'Normal_Weight', 'Obesity_Type_II', 'Obesity_Type_III', 'Obesity_Type_II', 'Obesity_Type_II', 'Insufficient_Weight', 'Normal_Weight', 'Insufficient_Weight', 'Obesity_Type_I', 'Obesity_Type_I', 'Insufficient_Weight', 'Overweight_Level_I', 'Normal_Weight', 'Normal_Weight', 'Overweight_Level_II', 'Normal_Weight', 'Obesity_Type_II', 'Normal_Weight', 'Overweight_Level_I', 'Obesity_Type_III', 'Normal_Weight', 'Obesity_Type_I', 'Obesity_Type_III', 'Obesity_Type_III', 'Normal_Weight', 'Overweight_Level_I', 'Normal_Weight', 'Obesity_Type_II', 'Overweight_Level_II', 'Normal_Weight', 'Obesity_Type_I', 'Overweight_Level_I', 'Obesity_Type_I', 'Obesity_Type_III', 'Insufficient_Weight', 'Overweight_Level_I', 'Overweight_Level_II', 'Insufficient_Weight', 'Overweight_Level_I', 'Obesity_Type_I', 'Obesity_Type_I', 'Normal_Weight', 'Normal_Weight', 'Obesity_Type_III', 'Normal_Weight', 'Normal_Weight', 'Overweight_Level_II', 'Insufficient_Weight', 'Overweight_Level_II', 'Overweight_Level_I', 'Obesity_Type_II', 'Obesity_Type_I', 'Obesity_Type_II', 'Overweight_Level_I', 'Obesity_Type_III', 'Obesity_Type_I', 'Obesity_Type_III', 'Obesity_Type_III', 'Normal_Weight', 'Obesity_Type_I', 'Overweight_Level_I', 'Overweight_Level_II', 'Obesity_Type_III', 'Obesity_Type_I', 'Obesity_Type_III', 'Obesity_Type_I', 'Overweight_Level_I', 'Normal_Weight', 'Overweight_Level_I', 'Obesity_Type_III', 'Obesity_Type_I', 'Overweight_Level_II', 'Normal_Weight', 'Overweight_Level_II', 'Obesity_Type_II', 'Insufficient_Weight', 'Obesity_Type_I', 'Obesity_Type_I', 'Overweight_Level_I', 'Overweight_Level_II', 'Obesity_Type_III', 'Normal_Weight', 'Obesity_Type_III', 'Obesity_Type_I', 'Overweight_Level_II', 'Overweight_Level_II', 'Obesity_Type_II', 'Obesity_Type_III', 'Normal_Weight', 'Obesity_Type_III', 'Insufficient_Weight', 'Obesity_Type_II', 'Overweight_Level_I', 'Normal_Weight', 'Normal_Weight', 'Normal_Weight', 'Obesity_Type_III', 'Obesity_Type_II', 'Obesity_Type_I', 'Insufficient_Weight', 'Overweight_Level_I', 'Obesity_Type_I', 'Overweight_Level_I', 'Insufficient_Weight', 'Normal_Weight', 'Obesity_Type_III', 'Normal_Weight', 'Overweight_Level_I', 'Obesity_Type_III', 'Overweight_Level_I', 'Overweight_Level_II', 'Obesity_Type_II', 'Insufficient_Weight', 'Obesity_Type_III', 'Obesity_Type_III', 'Obesity_Type_II', 'Obesity_Type_III', 'Obesity_Type_II', 'Obesity_Type_III', 'Obesity_Type_III', 'Obesity_Type_III', 'Normal_Weight', 'Normal_Weight', 'Normal_Weight', 'Overweight_Level_I', 'Obesity_Type_I', 'Normal_Weight', 'Overweight_Level_II', 'Obesity_Type_II', 'Overweight_Level_I', 'Obesity_Type_II', 'Obesity_Type_III', 'Overweight_Level_II', 'Obesity_Type_I', 'Normal_Weight', 'Obesity_Type_II', 'Overweight_Level_II', 'Obesity_Type_II', 'Obesity_Type_II', 'Obesity_Type_II', 'Overweight_Level_II', 'Overweight_Level_II', 'Obesity_Type_II', 'Insufficient_Weight', 'Normal_Weight', 'Obesity_Type_II', 'Insufficient_Weight', 'Obesity_Type_II', 'Normal_Weight', 'Obesity_Type_I', 'Normal_Weight', 'Normal_Weight', 'Obesity_Type_I', 'Overweight_Level_I', 'Obesity_Type_III', 'Overweight_Level_I', 'Obesity_Type_II', 'Obesity_Type_II', 'Normal_Weight', 'Overweight_Level_I', 'Obesity_Type_I', 'Normal_Weight', 'Obesity_Type_II', 'Overweight_Level_I', 'Normal_Weight', 'Overweight_Level_I', 'Overweight_Level_I', 'Obesity_Type_II', 'Insufficient_Weight', 'Obesity_Type_III', 'Overweight_Level_I', 'Normal_Weight', 'Normal_Weight', 'Obesity_Type_I', 'Overweight_Level_I', 'Obesity_Type_II', 'Normal_Weight', 'Obesity_Type_II', 'Overweight_Level_II', 'Normal_Weight', 'Obesity_Type_I', 'Normal_Weight', 'Obesity_Type_III', 'Obesity_Type_II', 'Insufficient_Weight', 'Obesity_Type_II', 'Overweight_Level_I', 'Overweight_Level_II', 'Obesity_Type_III', 'Obesity_Type_III', 'Insufficient_Weight', 'Obesity_Type_II', 'Overweight_Level_I', 'Overweight_Level_II', 'Obesity_Type_III', 'Overweight_Level_II', 'Insufficient_Weight', 'Obesity_Type_I', 'Obesity_Type_II', 'Obesity_Type_I', 'Obesity_Type_I', 'Normal_Weight', 'Normal_Weight', 'Obesity_Type_I', 'Obesity_Type_II', 'Obesity_Type_II', 'Obesity_Type_II', 'Overweight_Level_I', 'Obesity_Type_III', 'Overweight_Level_I', 'Obesity_Type_III', 'Normal_Weight', 'Obesity_Type_II', 'Overweight_Level_II', 'Obesity_Type_III', 'Obesity_Type_I', 'Overweight_Level_I', 'Obesity_Type_II', 'Normal_Weight', 'Overweight_Level_II', 'Normal_Weight', 'Insufficient_Weight', 'Obesity_Type_II', 'Obesity_Type_I', 'Obesity_Type_III', 'Insufficient_Weight', 'Overweight_Level_II', 'Obesity_Type_III', 'Overweight_Level_II', 'Normal_Weight', 'Obesity_Type_II', 'Insufficient_Weight', 'Obesity_Type_I', 'Insufficient_Weight', 'Obesity_Type_II', 'Obesity_Type_III', 'Overweight_Level_I', 'Overweight_Level_II', 'Obesity_Type_I', 'Insufficient_Weight', 'Insufficient_Weight', 'Obesity_Type_I', 'Overweight_Level_II', 'Obesity_Type_II', 'Overweight_Level_II', 'Obesity_Type_III', 'Overweight_Level_II', 'Overweight_Level_II', 'Obesity_Type_II', 'Normal_Weight', 'Obesity_Type_III', 'Obesity_Type_I', 'Overweight_Level_II', 'Overweight_Level_II', 'Overweight_Level_I', 'Insufficient_Weight', 'Obesity_Type_I', 'Overweight_Level_II', 'Overweight_Level_II', 'Obesity_Type_I', 'Insufficient_Weight', 'Normal_Weight', 'Insufficient_Weight', 'Overweight_Level_II', 'Normal_Weight', 'Obesity_Type_II', 'Overweight_Level_I', 'Overweight_Level_II', 'Overweight_Level_I', 'Obesity_Type_II', 'Overweight_Level_I', 'Insufficient_Weight', 'Obesity_Type_II', 'Normal_Weight', 'Normal_Weight', 'Insufficient_Weight', 'Normal_Weight', 'Insufficient_Weight', 'Obesity_Type_III', 'Obesity_Type_I', 'Insufficient_Weight', 'Obesity_Type_III', 'Overweight_Level_I', 'Normal_Weight', 'Obesity_Type_II', 'Obesity_Type_II', 'Normal_Weight', 'Insufficient_Weight', 'Overweight_Level_II', 'Normal_Weight', 'Obesity_Type_II', 'Obesity_Type_III', 'Overweight_Level_II', 'Obesity_Type_III', 'Obesity_Type_III', 'Overweight_Level_II', 'Obesity_Type_III', 'Obesity_Type_II', 'Obesity_Type_III', 'Overweight_Level_I', 'Obesity_Type_I', 'Obesity_Type_I', 'Normal_Weight', 'Obesity_Type_III', 'Insufficient_Weight', 'Normal_Weight', 'Obesity_Type_II', 'Normal_Weight', 'Obesity_Type_I', 'Obesity_Type_II', 'Insufficient_Weight', 'Obesity_Type_II', 'Obesity_Type_I', 'Overweight_Level_I', 'Obesity_Type_III', 'Obesity_Type_I', 'Obesity_Type_III', 'Normal_Weight', 'Obesity_Type_II', 'Normal_Weight', 'Obesity_Type_II', 'Obesity_Type_III', 'Obesity_Type_III', 'Obesity_Type_II', 'Obesity_Type_I', 'Normal_Weight', 'Insufficient_Weight', 'Overweight_Level_II', 'Obesity_Type_III', 'Obesity_Type_II', 'Overweight_Level_II', 'Overweight_Level_I', 'Overweight_Level_I', 'Obesity_Type_II', 'Obesity_Type_I', 'Insufficient_Weight', 'Obesity_Type_III', 'Obesity_Type_II', 'Obesity_Type_II', 'Obesity_Type_I', 'Overweight_Level_I', 'Insufficient_Weight', 'Obesity_Type_II', 'Overweight_Level_I', 'Obesity_Type_III', 'Insufficient_Weight', 'Insufficient_Weight', 'Overweight_Level_II', 'Normal_Weight', 'Insufficient_Weight', 'Obesity_Type_I', 'Insufficient_Weight', 'Overweight_Level_I', 'Normal_Weight', 'Obesity_Type_III', 'Obesity_Type_III', 'Obesity_Type_II', 'Obesity_Type_I', 'Insufficient_Weight', 'Obesity_Type_III', 'Obesity_Type_II', 'Overweight_Level_I', 'Normal_Weight', 'Obesity_Type_II', 'Normal_Weight', 'Obesity_Type_III', 'Overweight_Level_I', 'Overweight_Level_II', 'Overweight_Level_I', 'Overweight_Level_I', 'Obesity_Type_II', 'Obesity_Type_II', 'Obesity_Type_I', 'Overweight_Level_I', 'Overweight_Level_I', 'Overweight_Level_II', 'Normal_Weight', 'Obesity_Type_III', 'Insufficient_Weight', 'Obesity_Type_II', 'Obesity_Type_III', 'Normal_Weight', 'Obesity_Type_II', 'Normal_Weight', 'Obesity_Type_III', 'Overweight_Level_I', 'Overweight_Level_II', 'Overweight_Level_II', 'Insufficient_Weight', 'Obesity_Type_I', 'Obesity_Type_III', 'Overweight_Level_II', 'Obesity_Type_I', 'Obesity_Type_III', 'Obesity_Type_I', 'Obesity_Type_II', 'Overweight_Level_II', 'Overweight_Level_II', 'Obesity_Type_II', 'Normal_Weight', 'Obesity_Type_II', 'Obesity_Type_III', 'Obesity_Type_II', 'Obesity_Type_II', 'Overweight_Level_II', 'Overweight_Level_I', 'Obesity_Type_III', 'Obesity_Type_II', 'Insufficient_Weight', 'Overweight_Level_II', 'Obesity_Type_II', 'Obesity_Type_II', 'Insufficient_Weight', 'Obesity_Type_II', 'Overweight_Level_II', 'Obesity_Type_III', 'Obesity_Type_I', 'Insufficient_Weight', 'Normal_Weight', 'Overweight_Level_II', 'Insufficient_Weight', 'Overweight_Level_I', 'Overweight_Level_I', 'Insufficient_Weight', 'Obesity_Type_I', 'Insufficient_Weight', 'Normal_Weight', 'Overweight_Level_II', 'Obesity_Type_I', 'Obesity_Type_II', 'Obesity_Type_III', 'Obesity_Type_II', 'Obesity_Type_III', 'Obesity_Type_III', 'Overweight_Level_I', 'Overweight_Level_I', 'Overweight_Level_I', 'Obesity_Type_II', 'Overweight_Level_II', 'Overweight_Level_I', 'Overweight_Level_II', 'Overweight_Level_I', 'Normal_Weight', 'Overweight_Level_I', 'Obesity_Type_I', 'Insufficient_Weight', 'Obesity_Type_III', 'Obesity_Type_I', 'Obesity_Type_II', 'Overweight_Level_II', 'Obesity_Type_I', 'Normal_Weight', 'Obesity_Type_I', 'Obesity_Type_I', 'Obesity_Type_II', 'Normal_Weight', 'Obesity_Type_II', 'Obesity_Type_I', 'Insufficient_Weight', 'Normal_Weight', 'Overweight_Level_II', 'Obesity_Type_III', 'Obesity_Type_III', 'Overweight_Level_II', 'Overweight_Level_I', 'Insufficient_Weight', 'Normal_Weight', 'Obesity_Type_III', 'Overweight_Level_II', 'Obesity_Type_III', 'Overweight_Level_I', 'Normal_Weight', 'Obesity_Type_III', 'Obesity_Type_II', 'Normal_Weight', 'Normal_Weight', 'Obesity_Type_I', 'Overweight_Level_I', 'Normal_Weight', 'Normal_Weight', 'Obesity_Type_III', 'Obesity_Type_III', 'Obesity_Type_II', 'Obesity_Type_II', 'Obesity_Type_II', 'Obesity_Type_II', 'Overweight_Level_I', 'Obesity_Type_III', 'Overweight_Level_I', 'Obesity_Type_II', 'Overweight_Level_II', 'Normal_Weight', 'Overweight_Level_I', 'Overweight_Level_I', 'Normal_Weight', 'Obesity_Type_III', 'Normal_Weight', 'Obesity_Type_I', 'Normal_Weight', 'Normal_Weight', 'Normal_Weight', 'Obesity_Type_III', 'Overweight_Level_I', 'Obesity_Type_III', 'Obesity_Type_I', 'Obesity_Type_III', 'Obesity_Type_III', 'Overweight_Level_II', 'Overweight_Level_I', 'Obesity_Type_I', 'Obesity_Type_II', 'Normal_Weight', 'Overweight_Level_II', 'Obesity_Type_II', 'Obesity_Type_III', 'Overweight_Level_II', 'Obesity_Type_III', 'Obesity_Type_III', 'Overweight_Level_I', 'Overweight_Level_I', 'Normal_Weight', 'Insufficient_Weight', 'Overweight_Level_I', 'Obesity_Type_II', 'Obesity_Type_III', 'Overweight_Level_II', 'Obesity_Type_II', 'Obesity_Type_III', 'Insufficient_Weight', 'Normal_Weight', 'Normal_Weight', 'Obesity_Type_II', 'Overweight_Level_I', 'Obesity_Type_I', 'Obesity_Type_II', 'Overweight_Level_I', 'Overweight_Level_II', 'Obesity_Type_II', 'Obesity_Type_III', 'Normal_Weight', 'Overweight_Level_II', 'Obesity_Type_I', 'Obesity_Type_I', 'Overweight_Level_I', 'Obesity_Type_III', 'Obesity_Type_II', 'Obesity_Type_I', 'Obesity_Type_I', 'Obesity_Type_I', 'Overweight_Level_I', 'Obesity_Type_III', 'Overweight_Level_II', 'Normal_Weight', 'Obesity_Type_II', 'Obesity_Type_III', 'Overweight_Level_II', 'Obesity_Type_II', 'Normal_Weight', 'Normal_Weight', 'Overweight_Level_II', 'Insufficient_Weight', 'Obesity_Type_III', 'Normal_Weight', 'Insufficient_Weight', 'Obesity_Type_II', 'Overweight_Level_I', 'Insufficient_Weight', 'Overweight_Level_I', 'Obesity_Type_I', 'Overweight_Level_II', 'Obesity_Type_I', 'Obesity_Type_III', 'Obesity_Type_II', 'Insufficient_Weight', 'Obesity_Type_III', 'Obesity_Type_III', 'Overweight_Level_I', 'Overweight_Level_I', 'Obesity_Type_I', 'Normal_Weight', 'Normal_Weight', 'Overweight_Level_II', 'Overweight_Level_I', 'Insufficient_Weight', 'Obesity_Type_I', 'Obesity_Type_II', 'Obesity_Type_II', 'Obesity_Type_III', 'Normal_Weight', 'Obesity_Type_III', 'Overweight_Level_II', 'Obesity_Type_I', 'Obesity_Type_III', 'Overweight_Level_I', 'Obesity_Type_III', 'Overweight_Level_II', 'Obesity_Type_III', 'Overweight_Level_II', 'Obesity_Type_III', 'Insufficient_Weight', 'Obesity_Type_III', 'Normal_Weight', 'Overweight_Level_I', 'Obesity_Type_III', 'Obesity_Type_I', 'Insufficient_Weight', 'Insufficient_Weight', 'Overweight_Level_II', 'Insufficient_Weight', 'Insufficient_Weight', 'Obesity_Type_II', 'Insufficient_Weight', 'Obesity_Type_III', 'Obesity_Type_I', 'Normal_Weight', 'Obesity_Type_III', 'Overweight_Level_II', 'Obesity_Type_I', 'Overweight_Level_II', 'Obesity_Type_I', 'Normal_Weight', 'Normal_Weight', 'Obesity_Type_III', 'Obesity_Type_III', 'Overweight_Level_I', 'Obesity_Type_III', 'Insufficient_Weight', 'Insufficient_Weight', 'Obesity_Type_I', 'Obesity_Type_I', 'Obesity_Type_II', 'Obesity_Type_I', 'Obesity_Type_I', 'Normal_Weight', 'Overweight_Level_I', 'Normal_Weight', 'Overweight_Level_II', 'Insufficient_Weight', 'Obesity_Type_II', 'Overweight_Level_I', 'Obesity_Type_III', 'Normal_Weight', 'Normal_Weight', 'Obesity_Type_II', 'Insufficient_Weight', 'Obesity_Type_III', 'Obesity_Type_II', 'Obesity_Type_I', 'Insufficient_Weight', 'Insufficient_Weight', 'Obesity_Type_III', 'Overweight_Level_II', 'Obesity_Type_II', 'Obesity_Type_III', 'Overweight_Level_I', 'Obesity_Type_II', 'Normal_Weight', 'Obesity_Type_III', 'Obesity_Type_III', 'Obesity_Type_I', 'Normal_Weight', 'Obesity_Type_II', 'Obesity_Type_III', 'Overweight_Level_II', 'Obesity_Type_I', 'Insufficient_Weight', 'Obesity_Type_III', 'Insufficient_Weight', 'Insufficient_Weight', 'Obesity_Type_I', 'Obesity_Type_III', 'Overweight_Level_II', 'Overweight_Level_II', 'Obesity_Type_III', 'Obesity_Type_II', 'Insufficient_Weight', 'Obesity_Type_III', 'Obesity_Type_II', 'Obesity_Type_I', 'Overweight_Level_II', 'Obesity_Type_II', 'Obesity_Type_I', 'Obesity_Type_II', 'Obesity_Type_I', 'Normal_Weight', 'Insufficient_Weight', 'Normal_Weight', 'Overweight_Level_I', 'Obesity_Type_III', 'Overweight_Level_I', 'Normal_Weight', 'Overweight_Level_I', 'Overweight_Level_II', 'Overweight_Level_I', 'Insufficient_Weight', 'Insufficient_Weight', 'Insufficient_Weight', 'Overweight_Level_II', 'Normal_Weight', 'Overweight_Level_I', 'Normal_Weight', 'Overweight_Level_II', 'Insufficient_Weight', 'Obesity_Type_III', 'Normal_Weight', 'Obesity_Type_I', 'Overweight_Level_II', 'Obesity_Type_I', 'Normal_Weight', 'Obesity_Type_III', 'Insufficient_Weight', 'Normal_Weight', 'Obesity_Type_III', 'Overweight_Level_I', 'Insufficient_Weight', 'Overweight_Level_II', 'Obesity_Type_I', 'Overweight_Level_II', 'Overweight_Level_II', 'Obesity_Type_III', 'Normal_Weight', 'Obesity_Type_II', 'Normal_Weight', 'Normal_Weight', 'Normal_Weight', 'Overweight_Level_I', 'Obesity_Type_III', 'Overweight_Level_I', 'Obesity_Type_III', 'Obesity_Type_III', 'Normal_Weight', 'Obesity_Type_III', 'Obesity_Type_III', 'Obesity_Type_II', 'Overweight_Level_II', 'Obesity_Type_III', 'Overweight_Level_I', 'Obesity_Type_III', 'Obesity_Type_II', 'Normal_Weight', 'Insufficient_Weight', 'Obesity_Type_III', 'Normal_Weight', 'Overweight_Level_II', 'Obesity_Type_I', 'Obesity_Type_II', 'Overweight_Level_II', 'Obesity_Type_III', 'Insufficient_Weight', 'Overweight_Level_II', 'Overweight_Level_II', 'Obesity_Type_I', 'Obesity_Type_II', 'Insufficient_Weight', 'Normal_Weight', 'Overweight_Level_II', 'Normal_Weight', 'Normal_Weight', 'Overweight_Level_I', 'Insufficient_Weight', 'Obesity_Type_II', 'Obesity_Type_III', 'Obesity_Type_II', 'Normal_Weight', 'Overweight_Level_II', 'Obesity_Type_III', 'Obesity_Type_III', 'Insufficient_Weight', 'Overweight_Level_I', 'Normal_Weight', 'Obesity_Type_I', 'Obesity_Type_III', 'Insufficient_Weight', 'Overweight_Level_I', 'Obesity_Type_II', 'Obesity_Type_I', 'Obesity_Type_I', 'Normal_Weight', 'Overweight_Level_I', 'Obesity_Type_III', 'Overweight_Level_I', 'Overweight_Level_II', 'Obesity_Type_III', 'Obesity_Type_II', 'Obesity_Type_II', 'Overweight_Level_I', 'Obesity_Type_III', 'Insufficient_Weight', 'Obesity_Type_III', 'Obesity_Type_III', 'Obesity_Type_III', 'Overweight_Level_II', 'Obesity_Type_III', 'Obesity_Type_I', 'Obesity_Type_III', 'Insufficient_Weight', 'Overweight_Level_II', 'Overweight_Level_II', 'Normal_Weight', 'Normal_Weight', 'Insufficient_Weight', 'Insufficient_Weight', 'Overweight_Level_II', 'Normal_Weight', 'Overweight_Level_II', 'Overweight_Level_I', 'Insufficient_Weight', 'Obesity_Type_I', 'Normal_Weight', 'Obesity_Type_III', 'Obesity_Type_III', 'Normal_Weight', 'Normal_Weight', 'Normal_Weight', 'Obesity_Type_I', 'Obesity_Type_III', 'Overweight_Level_I', 'Normal_Weight', 'Overweight_Level_II', 'Overweight_Level_II', 'Normal_Weight', 'Obesity_Type_III', 'Obesity_Type_III', 'Obesity_Type_I', 'Obesity_Type_III', 'Obesity_Type_II', 'Obesity_Type_II', 'Overweight_Level_II', 'Overweight_Level_I', 'Obesity_Type_II', 'Obesity_Type_III', 'Overweight_Level_I', 'Obesity_Type_I', 'Obesity_Type_II', 'Obesity_Type_I', 'Obesity_Type_I', 'Obesity_Type_II', 'Obesity_Type_II', 'Obesity_Type_I', 'Overweight_Level_I', 'Insufficient_Weight', 'Obesity_Type_I', 'Obesity_Type_II', 'Normal_Weight', 'Normal_Weight', 'Normal_Weight', 'Normal_Weight', 'Insufficient_Weight', 'Normal_Weight', 'Overweight_Level_II', 'Insufficient_Weight', 'Obesity_Type_III', 'Obesity_Type_II', 'Overweight_Level_I', 'Obesity_Type_II', 'Overweight_Level_I', 'Insufficient_Weight', 'Overweight_Level_II', 'Obesity_Type_II', 'Insufficient_Weight', 'Obesity_Type_II', 'Obesity_Type_III', 'Insufficient_Weight', 'Obesity_Type_I', 'Overweight_Level_II', 'Obesity_Type_II', 'Normal_Weight', 'Obesity_Type_I', 'Overweight_Level_I', 'Obesity_Type_I', 'Obesity_Type_I', 'Obesity_Type_III', 'Obesity_Type_I', 'Normal_Weight', 'Overweight_Level_II', 'Obesity_Type_II', 'Overweight_Level_II', 'Obesity_Type_I', 'Normal_Weight', 'Normal_Weight', 'Obesity_Type_II', 'Normal_Weight', 'Obesity_Type_III', 'Obesity_Type_II', 'Obesity_Type_I', 'Normal_Weight', 'Normal_Weight', 'Overweight_Level_II', 'Normal_Weight', 'Normal_Weight', 'Obesity_Type_I', 'Overweight_Level_I', 'Obesity_Type_III', 'Obesity_Type_II', 'Obesity_Type_III', 'Normal_Weight', 'Obesity_Type_III', 'Obesity_Type_III', 'Insufficient_Weight', 'Normal_Weight', 'Overweight_Level_I', 'Obesity_Type_II', 'Normal_Weight', 'Obesity_Type_I', 'Obesity_Type_I', 'Normal_Weight', 'Obesity_Type_I', 'Overweight_Level_II', 'Obesity_Type_II', 'Obesity_Type_I', 'Obesity_Type_III', 'Obesity_Type_II', 'Normal_Weight', 'Obesity_Type_I', 'Overweight_Level_I', 'Normal_Weight', 'Insufficient_Weight', 'Overweight_Level_I', 'Obesity_Type_II', 'Obesity_Type_II', 'Overweight_Level_I', 'Overweight_Level_II', 'Obesity_Type_III', 'Obesity_Type_III', 'Insufficient_Weight', 'Obesity_Type_III', 'Insufficient_Weight', 'Insufficient_Weight', 'Obesity_Type_I', 'Normal_Weight', 'Insufficient_Weight', 'Obesity_Type_I', 'Obesity_Type_I', 'Obesity_Type_II', 'Obesity_Type_III', 'Insufficient_Weight', 'Obesity_Type_I', 'Overweight_Level_II', 'Obesity_Type_I', 'Insufficient_Weight', 'Obesity_Type_II', 'Obesity_Type_I', 'Overweight_Level_II', 'Obesity_Type_I', 'Overweight_Level_II', 'Obesity_Type_I', 'Obesity_Type_III', 'Overweight_Level_I', 'Overweight_Level_II', 'Overweight_Level_I', 'Obesity_Type_III', 'Obesity_Type_III', 'Obesity_Type_I', 'Overweight_Level_I', 'Obesity_Type_II', 'Insufficient_Weight', 'Overweight_Level_I', 'Insufficient_Weight', 'Obesity_Type_III', 'Obesity_Type_I', 'Overweight_Level_I', 'Obesity_Type_III', 'Normal_Weight', 'Overweight_Level_II', 'Overweight_Level_II', 'Overweight_Level_I', 'Obesity_Type_II', 'Normal_Weight', 'Normal_Weight', 'Insufficient_Weight', 'Obesity_Type_III', 'Overweight_Level_II', 'Overweight_Level_II', 'Obesity_Type_III', 'Normal_Weight', 'Obesity_Type_III', 'Obesity_Type_II', 'Normal_Weight', 'Obesity_Type_I', 'Normal_Weight', 'Obesity_Type_I', 'Overweight_Level_I', 'Obesity_Type_III', 'Obesity_Type_III', 'Obesity_Type_III', 'Obesity_Type_III', 'Obesity_Type_II', 'Normal_Weight', 'Obesity_Type_I', 'Normal_Weight', 'Overweight_Level_II', 'Obesity_Type_II', 'Obesity_Type_III', 'Overweight_Level_I', 'Obesity_Type_III', 'Normal_Weight', 'Obesity_Type_II', 'Normal_Weight', 'Overweight_Level_II', 'Obesity_Type_II', 'Overweight_Level_II', 'Overweight_Level_I', 'Obesity_Type_III', 'Obesity_Type_II', 'Normal_Weight', 'Obesity_Type_III', 'Insufficient_Weight', 'Overweight_Level_II', 'Obesity_Type_III', 'Overweight_Level_II', 'Obesity_Type_III', 'Insufficient_Weight', 'Obesity_Type_I', 'Overweight_Level_I', 'Obesity_Type_III', 'Normal_Weight', 'Normal_Weight', 'Insufficient_Weight', 'Obesity_Type_II', 'Obesity_Type_III', 'Overweight_Level_I', 'Obesity_Type_III', 'Insufficient_Weight', 'Overweight_Level_II', 'Normal_Weight', 'Obesity_Type_III', 'Obesity_Type_II', 'Overweight_Level_II', 'Obesity_Type_I', 'Insufficient_Weight', 'Insufficient_Weight', 'Obesity_Type_II', 'Obesity_Type_III', 'Obesity_Type_I', 'Obesity_Type_II', 'Obesity_Type_III', 'Overweight_Level_II', 'Overweight_Level_I', 'Obesity_Type_I', 'Insufficient_Weight', 'Insufficient_Weight', 'Normal_Weight', 'Normal_Weight', 'Obesity_Type_II', 'Obesity_Type_I', 'Obesity_Type_I', 'Overweight_Level_II', 'Obesity_Type_II', 'Obesity_Type_II', 'Normal_Weight', 'Obesity_Type_III', 'Obesity_Type_III', 'Overweight_Level_II', 'Insufficient_Weight', 'Overweight_Level_II', 'Overweight_Level_I', 'Insufficient_Weight', 'Obesity_Type_I', 'Obesity_Type_III', 'Obesity_Type_III', 'Normal_Weight', 'Obesity_Type_I', 'Insufficient_Weight', 'Obesity_Type_III', 'Obesity_Type_III', 'Normal_Weight', 'Normal_Weight', 'Obesity_Type_III', 'Obesity_Type_III', 'Obesity_Type_I', 'Overweight_Level_I', 'Obesity_Type_I', 'Obesity_Type_II', 'Obesity_Type_III', 'Overweight_Level_I', 'Obesity_Type_III', 'Obesity_Type_III', 'Obesity_Type_I', 'Normal_Weight', 'Obesity_Type_I', 'Normal_Weight', 'Overweight_Level_I', 'Obesity_Type_III', 'Insufficient_Weight', 'Normal_Weight', 'Overweight_Level_I', 'Overweight_Level_II', 'Normal_Weight', 'Normal_Weight', 'Insufficient_Weight', 'Obesity_Type_III', 'Normal_Weight', 'Overweight_Level_I', 'Normal_Weight', 'Normal_Weight', 'Insufficient_Weight', 'Insufficient_Weight', 'Obesity_Type_II', 'Normal_Weight', 'Overweight_Level_II', 'Normal_Weight', 'Normal_Weight', 'Obesity_Type_III', 'Obesity_Type_III', 'Overweight_Level_I', 'Insufficient_Weight', 'Overweight_Level_II', 'Normal_Weight', 'Overweight_Level_II', 'Obesity_Type_III', 'Normal_Weight', 'Overweight_Level_II', 'Normal_Weight', 'Obesity_Type_III', 'Obesity_Type_III', 'Obesity_Type_I', 'Obesity_Type_I', 'Overweight_Level_II', 'Obesity_Type_II', 'Obesity_Type_I', 'Obesity_Type_III', 'Overweight_Level_I', 'Obesity_Type_II', 'Overweight_Level_I', 'Obesity_Type_II', 'Obesity_Type_I', 'Obesity_Type_II', 'Obesity_Type_II', 'Normal_Weight', 'Obesity_Type_III', 'Obesity_Type_III', 'Normal_Weight', 'Normal_Weight', 'Overweight_Level_I', 'Normal_Weight', 'Overweight_Level_I', 'Obesity_Type_II', 'Obesity_Type_II', 'Overweight_Level_II', 'Obesity_Type_I', 'Obesity_Type_III', 'Obesity_Type_III', 'Obesity_Type_III', 'Normal_Weight', 'Insufficient_Weight', 'Overweight_Level_II', 'Insufficient_Weight', 'Obesity_Type_I', 'Obesity_Type_II', 'Normal_Weight', 'Obesity_Type_III', 'Insufficient_Weight', 'Obesity_Type_III', 'Obesity_Type_III', 'Obesity_Type_III', 'Obesity_Type_I', 'Obesity_Type_III', 'Insufficient_Weight', 'Obesity_Type_III', 'Overweight_Level_II', 'Insufficient_Weight', 'Overweight_Level_I', 'Overweight_Level_I', 'Overweight_Level_I', 'Overweight_Level_II', 'Obesity_Type_I', 'Normal_Weight', 'Obesity_Type_III', 'Normal_Weight', 'Normal_Weight', 'Obesity_Type_III', 'Overweight_Level_II', 'Obesity_Type_I', 'Obesity_Type_III', 'Insufficient_Weight', 'Obesity_Type_II', 'Overweight_Level_I', 'Obesity_Type_III', 'Insufficient_Weight', 'Insufficient_Weight', 'Obesity_Type_III', 'Obesity_Type_II', 'Overweight_Level_I', 'Overweight_Level_I', 'Overweight_Level_I', 'Obesity_Type_I', 'Obesity_Type_III', 'Obesity_Type_I', 'Obesity_Type_III', 'Insufficient_Weight', 'Obesity_Type_I', 'Obesity_Type_I', 'Normal_Weight', 'Obesity_Type_II', 'Insufficient_Weight', 'Obesity_Type_III', 'Overweight_Level_I', 'Obesity_Type_II', 'Insufficient_Weight', 'Normal_Weight', 'Overweight_Level_I', 'Obesity_Type_III', 'Normal_Weight', 'Overweight_Level_I', 'Obesity_Type_II', 'Normal_Weight', 'Overweight_Level_I', 'Obesity_Type_I', 'Overweight_Level_I', 'Obesity_Type_II', 'Obesity_Type_II', 'Overweight_Level_II', 'Normal_Weight', 'Obesity_Type_III', 'Normal_Weight', 'Overweight_Level_II', 'Obesity_Type_III', 'Overweight_Level_I', 'Overweight_Level_I', 'Normal_Weight', 'Overweight_Level_I', 'Overweight_Level_II', 'Obesity_Type_III', 'Obesity_Type_III', 'Obesity_Type_III', 'Obesity_Type_III', 'Overweight_Level_II', 'Obesity_Type_I', 'Obesity_Type_III', 'Overweight_Level_II', 'Overweight_Level_II', 'Obesity_Type_I', 'Obesity_Type_II', 'Overweight_Level_I', 'Normal_Weight', 'Obesity_Type_II', 'Normal_Weight', 'Obesity_Type_I', 'Obesity_Type_II', 'Obesity_Type_II', 'Obesity_Type_II', 'Obesity_Type_III', 'Obesity_Type_I', 'Obesity_Type_II', 'Obesity_Type_III', 'Obesity_Type_II', 'Obesity_Type_III', 'Insufficient_Weight', 'Obesity_Type_II', 'Obesity_Type_III', 'Overweight_Level_II', 'Obesity_Type_I', 'Normal_Weight', 'Obesity_Type_III', 'Obesity_Type_II', 'Insufficient_Weight', 'Obesity_Type_III', 'Obesity_Type_I', 'Obesity_Type_II', 'Normal_Weight', 'Insufficient_Weight', 'Obesity_Type_III', 'Overweight_Level_II', 'Obesity_Type_I', 'Overweight_Level_I', 'Obesity_Type_II', 'Obesity_Type_III', 'Insufficient_Weight', 'Obesity_Type_I', 'Obesity_Type_II', 'Overweight_Level_I', 'Obesity_Type_III', 'Obesity_Type_III', 'Overweight_Level_I', 'Overweight_Level_II', 'Overweight_Level_II', 'Normal_Weight', 'Obesity_Type_I', 'Overweight_Level_II', 'Insufficient_Weight', 'Obesity_Type_III', 'Normal_Weight', 'Obesity_Type_I', 'Obesity_Type_III', 'Insufficient_Weight', 'Insufficient_Weight', 'Overweight_Level_I', 'Normal_Weight', 'Obesity_Type_III', 'Overweight_Level_II', 'Overweight_Level_I', 'Obesity_Type_I', 'Insufficient_Weight', 'Obesity_Type_I', 'Overweight_Level_II', 'Obesity_Type_I', 'Obesity_Type_I', 'Obesity_Type_III', 'Obesity_Type_III', 'Normal_Weight', 'Overweight_Level_II', 'Obesity_Type_I', 'Obesity_Type_II', 'Insufficient_Weight', 'Obesity_Type_I', 'Normal_Weight', 'Obesity_Type_III', 'Obesity_Type_II', 'Obesity_Type_II', 'Overweight_Level_I', 'Normal_Weight', 'Obesity_Type_I', 'Obesity_Type_III', 'Obesity_Type_II', 'Overweight_Level_II', 'Insufficient_Weight', 'Overweight_Level_II', 'Insufficient_Weight', 'Obesity_Type_II', 'Obesity_Type_I', 'Obesity_Type_III', 'Obesity_Type_I', 'Obesity_Type_I', 'Obesity_Type_II', 'Obesity_Type_III', 'Obesity_Type_II', 'Obesity_Type_II', 'Normal_Weight', 'Overweight_Level_II', 'Normal_Weight', 'Overweight_Level_I', 'Obesity_Type_III', 'Obesity_Type_III', 'Overweight_Level_II', 'Obesity_Type_III', 'Overweight_Level_I', 'Obesity_Type_II', 'Insufficient_Weight', 'Obesity_Type_I', 'Obesity_Type_I', 'Normal_Weight', 'Obesity_Type_III', 'Overweight_Level_I', 'Insufficient_Weight', 'Insufficient_Weight', 'Obesity_Type_III', 'Obesity_Type_III', 'Obesity_Type_II', 'Overweight_Level_I', 'Obesity_Type_I', 'Normal_Weight', 'Overweight_Level_II', 'Overweight_Level_I', 'Obesity_Type_II', 'Overweight_Level_II', 'Overweight_Level_II', 'Overweight_Level_I', 'Obesity_Type_I', 'Insufficient_Weight', 'Obesity_Type_II', 'Obesity_Type_III', 'Overweight_Level_II', 'Overweight_Level_II', 'Obesity_Type_II', 'Obesity_Type_III', 'Overweight_Level_II', 'Obesity_Type_II', 'Overweight_Level_II', 'Obesity_Type_II', 'Normal_Weight', 'Obesity_Type_II', 'Overweight_Level_II', 'Obesity_Type_II', 'Insufficient_Weight', 'Insufficient_Weight', 'Obesity_Type_I', 'Obesity_Type_III', 'Normal_Weight', 'Overweight_Level_II', 'Obesity_Type_III', 'Obesity_Type_II', 'Overweight_Level_I', 'Overweight_Level_I', 'Insufficient_Weight', 'Normal_Weight', 'Obesity_Type_II', 'Insufficient_Weight', 'Overweight_Level_II', 'Obesity_Type_II', 'Overweight_Level_II', 'Overweight_Level_I', 'Overweight_Level_II', 'Overweight_Level_II', 'Obesity_Type_II', 'Overweight_Level_I', 'Overweight_Level_I', 'Obesity_Type_III', 'Obesity_Type_I', 'Normal_Weight', 'Obesity_Type_II', 'Obesity_Type_II', 'Obesity_Type_II', 'Insufficient_Weight', 'Normal_Weight', 'Obesity_Type_III', 'Obesity_Type_II', 'Insufficient_Weight', 'Obesity_Type_III', 'Obesity_Type_I', 'Obesity_Type_III', 'Overweight_Level_I', 'Insufficient_Weight', 'Overweight_Level_II', 'Obesity_Type_III', 'Overweight_Level_II', 'Overweight_Level_II', 'Obesity_Type_II', 'Obesity_Type_II', 'Overweight_Level_I', 'Overweight_Level_II', 'Obesity_Type_III', 'Obesity_Type_III', 'Obesity_Type_II', 'Insufficient_Weight', 'Overweight_Level_II', 'Overweight_Level_II', 'Obesity_Type_III', 'Obesity_Type_III', 'Overweight_Level_II', 'Obesity_Type_I', 'Normal_Weight', 'Obesity_Type_I', 'Insufficient_Weight', 'Obesity_Type_I', 'Obesity_Type_III', 'Obesity_Type_III', 'Normal_Weight', 'Obesity_Type_III', 'Overweight_Level_I', 'Insufficient_Weight', 'Obesity_Type_I', 'Normal_Weight', 'Normal_Weight', 'Obesity_Type_III', 'Insufficient_Weight', 'Obesity_Type_II', 'Obesity_Type_II', 'Obesity_Type_III', 'Overweight_Level_I', 'Normal_Weight', 'Obesity_Type_I', 'Overweight_Level_I', 'Overweight_Level_I', 'Obesity_Type_I', 'Overweight_Level_II', 'Obesity_Type_II', 'Insufficient_Weight', 'Obesity_Type_I', 'Obesity_Type_II', 'Normal_Weight', 'Overweight_Level_I', 'Insufficient_Weight', 'Overweight_Level_II', 'Normal_Weight', 'Obesity_Type_III', 'Overweight_Level_II', 'Normal_Weight', 'Insufficient_Weight', 'Overweight_Level_II', 'Normal_Weight', 'Insufficient_Weight', 'Overweight_Level_II', 'Normal_Weight', 'Obesity_Type_II', 'Obesity_Type_III', 'Obesity_Type_I', 'Overweight_Level_I', 'Normal_Weight', 'Normal_Weight', 'Overweight_Level_I', 'Normal_Weight', 'Obesity_Type_III', 'Insufficient_Weight', 'Insufficient_Weight', 'Normal_Weight', 'Obesity_Type_II', 'Obesity_Type_II', 'Normal_Weight', 'Obesity_Type_III', 'Obesity_Type_III', 'Obesity_Type_II', 'Insufficient_Weight', 'Insufficient_Weight', 'Obesity_Type_II', 'Obesity_Type_II', 'Obesity_Type_III', 'Obesity_Type_III', 'Obesity_Type_II', 'Obesity_Type_III', 'Insufficient_Weight', 'Obesity_Type_III', 'Obesity_Type_I', 'Obesity_Type_III', 'Insufficient_Weight', 'Insufficient_Weight', 'Normal_Weight', 'Overweight_Level_I', 'Overweight_Level_II', 'Overweight_Level_I', 'Obesity_Type_II', 'Obesity_Type_III', 'Obesity_Type_III', 'Overweight_Level_I', 'Obesity_Type_I', 'Insufficient_Weight', 'Obesity_Type_II', 'Obesity_Type_II', 'Normal_Weight', 'Overweight_Level_I', 'Insufficient_Weight', 'Obesity_Type_II', 'Overweight_Level_I', 'Obesity_Type_III', 'Normal_Weight', 'Overweight_Level_II', 'Insufficient_Weight', 'Obesity_Type_I', 'Obesity_Type_III', 'Obesity_Type_I', 'Overweight_Level_II', 'Normal_Weight', 'Obesity_Type_II', 'Obesity_Type_III', 'Obesity_Type_I', 'Overweight_Level_I', 'Obesity_Type_III', 'Obesity_Type_II', 'Obesity_Type_III', 'Obesity_Type_I', 'Normal_Weight', 'Overweight_Level_II', 'Normal_Weight', 'Normal_Weight', 'Obesity_Type_III', 'Overweight_Level_II', 'Obesity_Type_II', 'Obesity_Type_I', 'Normal_Weight', 'Overweight_Level_II', 'Normal_Weight', 'Overweight_Level_I', 'Overweight_Level_II', 'Insufficient_Weight', 'Obesity_Type_III', 'Obesity_Type_II', 'Overweight_Level_I', 'Obesity_Type_III', 'Obesity_Type_II', 'Obesity_Type_II', 'Overweight_Level_I', 'Overweight_Level_II', 'Normal_Weight', 'Obesity_Type_I', 'Insufficient_Weight', 'Insufficient_Weight', 'Obesity_Type_II', 'Obesity_Type_I', 'Obesity_Type_III', 'Insufficient_Weight', 'Normal_Weight', 'Obesity_Type_II', 'Overweight_Level_I', 'Obesity_Type_III', 'Obesity_Type_III', 'Normal_Weight', 'Obesity_Type_I', 'Overweight_Level_II', 'Normal_Weight', 'Obesity_Type_II', 'Obesity_Type_II', 'Overweight_Level_I', 'Obesity_Type_III', 'Insufficient_Weight', 'Normal_Weight', 'Insufficient_Weight', 'Normal_Weight', 'Insufficient_Weight', 'Normal_Weight', 'Normal_Weight', 'Obesity_Type_III', 'Obesity_Type_II', 'Obesity_Type_I', 'Normal_Weight', 'Obesity_Type_III', 'Obesity_Type_II', 'Obesity_Type_II', 'Obesity_Type_I', 'Normal_Weight', 'Obesity_Type_III', 'Overweight_Level_II', 'Insufficient_Weight', 'Overweight_Level_I', 'Normal_Weight', 'Overweight_Level_I', 'Insufficient_Weight', 'Obesity_Type_III', 'Obesity_Type_III', 'Obesity_Type_III', 'Obesity_Type_III', 'Obesity_Type_I', 'Insufficient_Weight', 'Insufficient_Weight', 'Insufficient_Weight', 'Obesity_Type_III', 'Normal_Weight', 'Obesity_Type_III', 'Overweight_Level_I', 'Normal_Weight', 'Normal_Weight', 'Insufficient_Weight', 'Overweight_Level_I', 'Insufficient_Weight', 'Obesity_Type_I', 'Obesity_Type_II', 'Obesity_Type_III', 'Normal_Weight', 'Normal_Weight', 'Obesity_Type_III', 'Obesity_Type_I', 'Overweight_Level_II', 'Obesity_Type_I', 'Obesity_Type_II', 'Insufficient_Weight', 'Obesity_Type_III', 'Obesity_Type_II', 'Obesity_Type_III', 'Overweight_Level_II', 'Overweight_Level_I', 'Obesity_Type_III', 'Normal_Weight', 'Insufficient_Weight', 'Normal_Weight', 'Overweight_Level_II', 'Obesity_Type_I', 'Insufficient_Weight', 'Obesity_Type_III', 'Obesity_Type_III', 'Obesity_Type_III', 'Obesity_Type_I', 'Obesity_Type_II', 'Overweight_Level_I', 'Overweight_Level_I', 'Insufficient_Weight', 'Obesity_Type_II', 'Obesity_Type_III', 'Obesity_Type_I', 'Normal_Weight', 'Obesity_Type_I', 'Normal_Weight', 'Obesity_Type_III', 'Obesity_Type_III', 'Insufficient_Weight', 'Obesity_Type_III', 'Overweight_Level_I', 'Normal_Weight', 'Normal_Weight', 'Obesity_Type_I', 'Obesity_Type_I', 'Obesity_Type_III', 'Obesity_Type_I', 'Obesity_Type_III', 'Obesity_Type_I', 'Normal_Weight', 'Obesity_Type_III', 'Obesity_Type_III', 'Overweight_Level_I', 'Overweight_Level_II', 'Obesity_Type_III', 'Normal_Weight', 'Insufficient_Weight', 'Obesity_Type_III', 'Insufficient_Weight', 'Obesity_Type_III', 'Insufficient_Weight', 'Overweight_Level_II', 'Obesity_Type_I', 'Obesity_Type_III', 'Insufficient_Weight', 'Obesity_Type_I', 'Overweight_Level_I', 'Insufficient_Weight', 'Obesity_Type_I', 'Obesity_Type_II', 'Insufficient_Weight', 'Obesity_Type_III', 'Obesity_Type_I', 'Overweight_Level_I', 'Obesity_Type_II', 'Overweight_Level_I', 'Overweight_Level_II', 'Overweight_Level_II', 'Overweight_Level_I', 'Normal_Weight', 'Obesity_Type_III', 'Obesity_Type_II', 'Obesity_Type_I', 'Normal_Weight', 'Obesity_Type_II', 'Insufficient_Weight', 'Obesity_Type_I', 'Insufficient_Weight', 'Obesity_Type_I', 'Obesity_Type_III', 'Obesity_Type_I', 'Normal_Weight', 'Normal_Weight', 'Overweight_Level_I', 'Overweight_Level_II', 'Obesity_Type_III', 'Obesity_Type_II', 'Obesity_Type_II', 'Insufficient_Weight', 'Obesity_Type_II', 'Obesity_Type_III', 'Obesity_Type_I', 'Obesity_Type_III', 'Obesity_Type_II', 'Overweight_Level_II', 'Normal_Weight', 'Overweight_Level_II', 'Normal_Weight', 'Obesity_Type_III', 'Obesity_Type_III', 'Overweight_Level_I', 'Overweight_Level_I', 'Overweight_Level_I', 'Normal_Weight', 'Obesity_Type_II', 'Normal_Weight', 'Overweight_Level_II', 'Normal_Weight', 'Insufficient_Weight', 'Obesity_Type_I', 'Obesity_Type_I', 'Insufficient_Weight', 'Insufficient_Weight', 'Obesity_Type_III', 'Obesity_Type_I', 'Obesity_Type_II', 'Obesity_Type_I', 'Normal_Weight', 'Overweight_Level_I', 'Overweight_Level_I', 'Insufficient_Weight', 'Overweight_Level_I', 'Overweight_Level_II', 'Obesity_Type_I', 'Obesity_Type_III', 'Obesity_Type_II', 'Overweight_Level_II', 'Normal_Weight', 'Overweight_Level_I', 'Overweight_Level_II', 'Obesity_Type_II', 'Overweight_Level_I', 'Obesity_Type_II', 'Obesity_Type_III', 'Obesity_Type_III', 'Overweight_Level_II', 'Overweight_Level_I', 'Normal_Weight', 'Overweight_Level_I', 'Obesity_Type_III', 'Obesity_Type_I', 'Obesity_Type_III', 'Obesity_Type_II', 'Overweight_Level_I', 'Overweight_Level_II', 'Normal_Weight', 'Obesity_Type_II', 'Obesity_Type_III', 'Overweight_Level_I', 'Overweight_Level_II', 'Obesity_Type_III', 'Normal_Weight', 'Overweight_Level_II', 'Obesity_Type_II', 'Obesity_Type_III', 'Obesity_Type_II', 'Overweight_Level_I', 'Overweight_Level_II', 'Obesity_Type_II', 'Overweight_Level_I', 'Obesity_Type_II', 'Insufficient_Weight', 'Normal_Weight', 'Normal_Weight', 'Normal_Weight', 'Insufficient_Weight', 'Obesity_Type_III', 'Insufficient_Weight', 'Overweight_Level_I', 'Insufficient_Weight', 'Overweight_Level_II', 'Obesity_Type_II', 'Overweight_Level_I', 'Obesity_Type_II', 'Obesity_Type_II', 'Insufficient_Weight', 'Insufficient_Weight', 'Normal_Weight', 'Overweight_Level_I', 'Obesity_Type_II', 'Overweight_Level_II', 'Obesity_Type_I', 'Overweight_Level_I', 'Obesity_Type_II', 'Obesity_Type_II', 'Obesity_Type_II', 'Obesity_Type_I', 'Obesity_Type_II', 'Normal_Weight', 'Obesity_Type_III', 'Obesity_Type_I', 'Obesity_Type_III', 'Obesity_Type_III', 'Obesity_Type_II', 'Obesity_Type_II', 'Obesity_Type_III', 'Overweight_Level_II', 'Overweight_Level_II', 'Obesity_Type_II', 'Obesity_Type_III', 'Obesity_Type_I', 'Insufficient_Weight', 'Obesity_Type_III', 'Insufficient_Weight', 'Obesity_Type_III', 'Obesity_Type_III', 'Obesity_Type_I', 'Obesity_Type_II', 'Obesity_Type_III', 'Insufficient_Weight', 'Obesity_Type_III', 'Obesity_Type_II', 'Obesity_Type_III', 'Overweight_Level_I', 'Normal_Weight', 'Obesity_Type_II', 'Normal_Weight', 'Obesity_Type_II', 'Obesity_Type_II', 'Obesity_Type_III', 'Obesity_Type_I', 'Obesity_Type_I', 'Obesity_Type_III', 'Overweight_Level_I', 'Insufficient_Weight', 'Obesity_Type_I', 'Insufficient_Weight', 'Normal_Weight', 'Obesity_Type_II', 'Obesity_Type_III', 'Obesity_Type_I', 'Obesity_Type_II', 'Obesity_Type_III', 'Overweight_Level_I', 'Overweight_Level_I', 'Overweight_Level_II', 'Overweight_Level_II', 'Overweight_Level_II', 'Overweight_Level_I', 'Overweight_Level_II', 'Normal_Weight', 'Obesity_Type_II', 'Obesity_Type_III', 'Obesity_Type_III', 'Obesity_Type_III', 'Insufficient_Weight', 'Obesity_Type_II', 'Obesity_Type_I', 'Normal_Weight', 'Insufficient_Weight', 'Overweight_Level_I', 'Obesity_Type_II', 'Obesity_Type_III', 'Insufficient_Weight', 'Normal_Weight', 'Obesity_Type_III', 'Normal_Weight', 'Overweight_Level_II', 'Obesity_Type_I', 'Obesity_Type_II', 'Overweight_Level_I', 'Overweight_Level_I', 'Normal_Weight', 'Insufficient_Weight', 'Overweight_Level_II', 'Obesity_Type_II', 'Obesity_Type_II', 'Obesity_Type_I', 'Obesity_Type_III', 'Overweight_Level_I', 'Obesity_Type_I', 'Overweight_Level_II', 'Obesity_Type_II', 'Obesity_Type_III', 'Obesity_Type_III', 'Normal_Weight', 'Obesity_Type_I', 'Overweight_Level_I', 'Obesity_Type_III', 'Normal_Weight', 'Insufficient_Weight', 'Obesity_Type_III', 'Obesity_Type_I', 'Obesity_Type_III', 'Overweight_Level_II', 'Obesity_Type_III', 'Obesity_Type_I', 'Obesity_Type_III', 'Obesity_Type_I', 'Normal_Weight', 'Normal_Weight', 'Obesity_Type_III', 'Overweight_Level_II', 'Obesity_Type_I', 'Obesity_Type_III', 'Normal_Weight', 'Overweight_Level_I', 'Obesity_Type_III', 'Overweight_Level_I', 'Obesity_Type_I', 'Obesity_Type_I', 'Insufficient_Weight', 'Normal_Weight', 'Obesity_Type_III', 'Normal_Weight', 'Obesity_Type_I', 'Obesity_Type_III', 'Obesity_Type_III', 'Obesity_Type_II', 'Obesity_Type_III', 'Obesity_Type_II', 'Overweight_Level_II', 'Normal_Weight', 'Obesity_Type_I', 'Obesity_Type_I', 'Overweight_Level_I', 'Obesity_Type_III', 'Overweight_Level_I', 'Obesity_Type_III', 'Insufficient_Weight', 'Obesity_Type_I', 'Normal_Weight', 'Obesity_Type_III', 'Normal_Weight', 'Insufficient_Weight', 'Obesity_Type_III', 'Insufficient_Weight', 'Obesity_Type_I', 'Obesity_Type_II', 'Obesity_Type_III', 'Normal_Weight', 'Obesity_Type_I', 'Obesity_Type_III', 'Insufficient_Weight', 'Obesity_Type_II', 'Obesity_Type_III', 'Obesity_Type_I', 'Overweight_Level_II', 'Obesity_Type_III', 'Obesity_Type_III', 'Obesity_Type_I', 'Normal_Weight', 'Overweight_Level_II', 'Obesity_Type_III', 'Obesity_Type_III', 'Normal_Weight', 'Obesity_Type_II', 'Obesity_Type_III', 'Obesity_Type_III', 'Overweight_Level_II', 'Obesity_Type_III', 'Obesity_Type_III', 'Obesity_Type_III', 'Obesity_Type_II', 'Normal_Weight', 'Normal_Weight', 'Obesity_Type_III', 'Insufficient_Weight', 'Obesity_Type_II', 'Normal_Weight', 'Insufficient_Weight', 'Obesity_Type_I', 'Obesity_Type_III', 'Obesity_Type_II', 'Obesity_Type_III', 'Obesity_Type_I', 'Obesity_Type_III', 'Overweight_Level_II', 'Obesity_Type_III', 'Obesity_Type_III', 'Insufficient_Weight', 'Overweight_Level_I', 'Overweight_Level_II', 'Obesity_Type_II', 'Normal_Weight', 'Insufficient_Weight', 'Normal_Weight', 'Overweight_Level_II', 'Overweight_Level_II', 'Obesity_Type_II', 'Obesity_Type_II', 'Obesity_Type_III', 'Normal_Weight', 'Insufficient_Weight', 'Obesity_Type_III', 'Obesity_Type_I', 'Obesity_Type_I', 'Obesity_Type_II', 'Insufficient_Weight', 'Overweight_Level_II', 'Overweight_Level_I', 'Normal_Weight', 'Obesity_Type_III', 'Overweight_Level_II', 'Overweight_Level_I', 'Obesity_Type_III', 'Obesity_Type_I', 'Obesity_Type_III', 'Overweight_Level_I', 'Obesity_Type_I', 'Overweight_Level_I', 'Obesity_Type_I', 'Obesity_Type_I', 'Obesity_Type_I', 'Insufficient_Weight', 'Obesity_Type_I', 'Obesity_Type_III', 'Overweight_Level_II', 'Insufficient_Weight', 'Insufficient_Weight', 'Obesity_Type_I', 'Obesity_Type_III', 'Obesity_Type_III', 'Normal_Weight', 'Normal_Weight', 'Insufficient_Weight', 'Obesity_Type_I', 'Obesity_Type_I', 'Overweight_Level_II', 'Obesity_Type_III', 'Overweight_Level_II', 'Obesity_Type_III', 'Obesity_Type_III', 'Obesity_Type_II', 'Normal_Weight', 'Obesity_Type_III', 'Obesity_Type_I', 'Obesity_Type_I', 'Insufficient_Weight', 'Insufficient_Weight', 'Overweight_Level_I', 'Normal_Weight', 'Obesity_Type_III', 'Overweight_Level_II', 'Insufficient_Weight', 'Obesity_Type_III', 'Normal_Weight', 'Obesity_Type_II', 'Overweight_Level_I', 'Overweight_Level_II', 'Normal_Weight', 'Normal_Weight', 'Obesity_Type_II', 'Obesity_Type_II', 'Obesity_Type_II', 'Normal_Weight', 'Obesity_Type_II', 'Overweight_Level_I', 'Obesity_Type_III', 'Normal_Weight', 'Obesity_Type_III', 'Obesity_Type_I', 'Overweight_Level_II', 'Obesity_Type_I', 'Obesity_Type_II', 'Normal_Weight', 'Insufficient_Weight', 'Obesity_Type_II', 'Overweight_Level_II', 'Obesity_Type_I', 'Obesity_Type_III', 'Obesity_Type_III', 'Insufficient_Weight', 'Obesity_Type_II', 'Obesity_Type_II', 'Overweight_Level_II', 'Obesity_Type_II', 'Obesity_Type_II', 'Insufficient_Weight', 'Normal_Weight', 'Obesity_Type_III', 'Obesity_Type_II', 'Insufficient_Weight', 'Obesity_Type_I', 'Normal_Weight', 'Overweight_Level_I', 'Obesity_Type_II', 'Overweight_Level_I', 'Obesity_Type_I', 'Obesity_Type_I', 'Overweight_Level_I', 'Obesity_Type_I', 'Obesity_Type_III', 'Obesity_Type_III', 'Insufficient_Weight', 'Obesity_Type_II', 'Normal_Weight', 'Obesity_Type_I', 'Normal_Weight', 'Obesity_Type_III', 'Obesity_Type_III', 'Obesity_Type_II', 'Obesity_Type_I', 'Overweight_Level_II', 'Normal_Weight', 'Overweight_Level_I', 'Insufficient_Weight', 'Obesity_Type_II', 'Obesity_Type_II', 'Normal_Weight', 'Obesity_Type_II', 'Normal_Weight', 'Overweight_Level_II', 'Obesity_Type_III', 'Insufficient_Weight', 'Obesity_Type_III', 'Normal_Weight', 'Insufficient_Weight', 'Insufficient_Weight', 'Obesity_Type_I', 'Obesity_Type_I', 'Obesity_Type_III', 'Insufficient_Weight', 'Obesity_Type_II', 'Overweight_Level_II', 'Obesity_Type_III', 'Overweight_Level_II', 'Normal_Weight', 'Insufficient_Weight', 'Obesity_Type_III', 'Insufficient_Weight', 'Normal_Weight', 'Obesity_Type_II', 'Obesity_Type_III', 'Obesity_Type_II', 'Obesity_Type_III', 'Obesity_Type_II', 'Normal_Weight', 'Obesity_Type_II', 'Overweight_Level_II', 'Overweight_Level_II', 'Overweight_Level_II', 'Normal_Weight', 'Overweight_Level_II', 'Obesity_Type_III', 'Normal_Weight', 'Insufficient_Weight', 'Obesity_Type_II', 'Obesity_Type_III', 'Insufficient_Weight', 'Insufficient_Weight', 'Insufficient_Weight', 'Normal_Weight', 'Normal_Weight', 'Obesity_Type_III', 'Insufficient_Weight', 'Normal_Weight', 'Obesity_Type_I', 'Overweight_Level_II', 'Overweight_Level_II', 'Obesity_Type_II', 'Obesity_Type_II', 'Overweight_Level_II', 'Overweight_Level_II', 'Obesity_Type_I', 'Obesity_Type_II', 'Insufficient_Weight', 'Overweight_Level_II', 'Insufficient_Weight', 'Obesity_Type_I', 'Normal_Weight', 'Obesity_Type_III', 'Overweight_Level_I', 'Obesity_Type_I', 'Obesity_Type_III', 'Overweight_Level_I', 'Obesity_Type_II', 'Overweight_Level_II', 'Insufficient_Weight', 'Overweight_Level_II', 'Obesity_Type_I', 'Obesity_Type_III', 'Obesity_Type_I', 'Insufficient_Weight', 'Obesity_Type_III', 'Obesity_Type_II', 'Normal_Weight', 'Obesity_Type_II', 'Overweight_Level_II', 'Obesity_Type_I', 'Insufficient_Weight', 'Obesity_Type_III', 'Obesity_Type_III', 'Obesity_Type_II', 'Overweight_Level_II', 'Obesity_Type_II', 'Obesity_Type_I', 'Obesity_Type_II', 'Obesity_Type_II', 'Obesity_Type_III', 'Overweight_Level_I', 'Normal_Weight', 'Overweight_Level_II', 'Obesity_Type_II', 'Overweight_Level_I', 'Obesity_Type_II', 'Obesity_Type_III', 'Normal_Weight', 'Insufficient_Weight', 'Normal_Weight', 'Insufficient_Weight', 'Insufficient_Weight', 'Overweight_Level_I', 'Normal_Weight', 'Overweight_Level_II', 'Overweight_Level_I', 'Normal_Weight', 'Overweight_Level_I', 'Obesity_Type_I', 'Obesity_Type_III', 'Insufficient_Weight', 'Obesity_Type_I', 'Insufficient_Weight', 'Obesity_Type_I', 'Obesity_Type_II', 'Insufficient_Weight', 'Obesity_Type_I', 'Overweight_Level_II', 'Overweight_Level_II', 'Obesity_Type_III', 'Overweight_Level_II', 'Normal_Weight', 'Obesity_Type_II', 'Obesity_Type_II', 'Obesity_Type_I', 'Overweight_Level_I', 'Obesity_Type_I', 'Normal_Weight', 'Obesity_Type_III', 'Obesity_Type_II', 'Obesity_Type_II', 'Normal_Weight', 'Obesity_Type_I', 'Obesity_Type_I', 'Overweight_Level_II', 'Normal_Weight', 'Obesity_Type_I', 'Normal_Weight', 'Insufficient_Weight', 'Insufficient_Weight', 'Overweight_Level_I', 'Obesity_Type_III', 'Obesity_Type_III', 'Obesity_Type_II', 'Insufficient_Weight', 'Obesity_Type_III', 'Obesity_Type_I', 'Obesity_Type_II', 'Obesity_Type_III', 'Obesity_Type_II', 'Obesity_Type_III', 'Overweight_Level_I', 'Obesity_Type_I', 'Overweight_Level_II', 'Obesity_Type_I', 'Obesity_Type_II', 'Obesity_Type_III', 'Overweight_Level_I', 'Normal_Weight', 'Obesity_Type_II', 'Normal_Weight', 'Insufficient_Weight', 'Obesity_Type_I', 'Normal_Weight', 'Obesity_Type_III', 'Obesity_Type_III', 'Obesity_Type_III', 'Obesity_Type_III', 'Normal_Weight', 'Obesity_Type_I', 'Obesity_Type_II', 'Obesity_Type_II', 'Overweight_Level_II', 'Overweight_Level_II', 'Obesity_Type_I', 'Obesity_Type_II', 'Obesity_Type_II', 'Obesity_Type_III', 'Obesity_Type_I', 'Overweight_Level_I', 'Overweight_Level_II', 'Obesity_Type_II', 'Normal_Weight', 'Obesity_Type_II', 'Overweight_Level_II', 'Obesity_Type_I', 'Obesity_Type_II', 'Overweight_Level_I', 'Overweight_Level_II', 'Obesity_Type_II', 'Obesity_Type_III', 'Obesity_Type_III', 'Overweight_Level_I', 'Overweight_Level_I', 'Obesity_Type_I', 'Obesity_Type_II', 'Obesity_Type_I', 'Overweight_Level_II', 'Normal_Weight', 'Obesity_Type_II', 'Overweight_Level_I', 'Normal_Weight', 'Insufficient_Weight', 'Obesity_Type_III', 'Obesity_Type_III', 'Normal_Weight', 'Insufficient_Weight', 'Obesity_Type_III', 'Normal_Weight', 'Overweight_Level_I', 'Overweight_Level_I', 'Obesity_Type_II', 'Overweight_Level_II', 'Normal_Weight', 'Overweight_Level_I', 'Obesity_Type_II', 'Obesity_Type_I', 'Normal_Weight', 'Obesity_Type_I', 'Obesity_Type_I', 'Obesity_Type_III', 'Obesity_Type_I', 'Overweight_Level_I', 'Overweight_Level_II', 'Obesity_Type_I', 'Obesity_Type_III', 'Obesity_Type_I', 'Obesity_Type_II', 'Normal_Weight', 'Insufficient_Weight', 'Normal_Weight', 'Obesity_Type_I', 'Overweight_Level_II', 'Normal_Weight', 'Overweight_Level_II', 'Obesity_Type_I', 'Insufficient_Weight', 'Normal_Weight', 'Obesity_Type_III', 'Obesity_Type_II', 'Obesity_Type_II', 'Obesity_Type_II', 'Obesity_Type_II', 'Normal_Weight', 'Obesity_Type_II', 'Insufficient_Weight', 'Normal_Weight', 'Obesity_Type_I', 'Overweight_Level_I', 'Obesity_Type_III', 'Obesity_Type_II', 'Overweight_Level_I', 'Obesity_Type_I', 'Obesity_Type_II', 'Obesity_Type_I', 'Obesity_Type_III', 'Overweight_Level_I', 'Overweight_Level_I', 'Obesity_Type_III', 'Obesity_Type_II', 'Overweight_Level_I', 'Obesity_Type_II', 'Obesity_Type_II', 'Insufficient_Weight', 'Obesity_Type_III', 'Overweight_Level_II', 'Normal_Weight', 'Obesity_Type_III', 'Obesity_Type_III', 'Obesity_Type_III', 'Normal_Weight', 'Obesity_Type_III', 'Obesity_Type_III', 'Obesity_Type_I', 'Obesity_Type_III', 'Obesity_Type_I', 'Obesity_Type_II', 'Overweight_Level_II', 'Normal_Weight', 'Obesity_Type_I', 'Obesity_Type_II', 'Obesity_Type_II', 'Insufficient_Weight', 'Overweight_Level_II', 'Obesity_Type_II', 'Obesity_Type_I', 'Obesity_Type_III', 'Overweight_Level_II', 'Overweight_Level_I', 'Obesity_Type_I', 'Normal_Weight', 'Normal_Weight', 'Obesity_Type_III', 'Normal_Weight', 'Obesity_Type_I', 'Obesity_Type_I', 'Obesity_Type_III', 'Insufficient_Weight', 'Overweight_Level_I', 'Normal_Weight', 'Obesity_Type_III', 'Obesity_Type_I', 'Obesity_Type_III', 'Normal_Weight', 'Overweight_Level_II', 'Obesity_Type_I', 'Obesity_Type_I', 'Insufficient_Weight', 'Normal_Weight', 'Overweight_Level_I', 'Normal_Weight', 'Overweight_Level_I', 'Overweight_Level_II', 'Obesity_Type_III', 'Obesity_Type_III', 'Insufficient_Weight', 'Insufficient_Weight', 'Insufficient_Weight', 'Overweight_Level_II', 'Normal_Weight', 'Overweight_Level_II', 'Obesity_Type_III', 'Insufficient_Weight', 'Overweight_Level_II', 'Overweight_Level_II', 'Insufficient_Weight', 'Obesity_Type_I', 'Insufficient_Weight', 'Obesity_Type_III', 'Insufficient_Weight', 'Obesity_Type_I', 'Obesity_Type_II', 'Obesity_Type_II', 'Overweight_Level_II', 'Insufficient_Weight', 'Overweight_Level_I', 'Overweight_Level_II', 'Overweight_Level_II', 'Overweight_Level_II', 'Obesity_Type_III', 'Normal_Weight', 'Obesity_Type_III', 'Normal_Weight', 'Obesity_Type_III', 'Normal_Weight', 'Obesity_Type_I', 'Obesity_Type_I', 'Obesity_Type_III', 'Overweight_Level_II', 'Obesity_Type_III', 'Overweight_Level_I', 'Overweight_Level_II', 'Obesity_Type_III', 'Obesity_Type_III', 'Obesity_Type_I', 'Overweight_Level_II', 'Obesity_Type_II', 'Normal_Weight', 'Overweight_Level_I', 'Insufficient_Weight', 'Obesity_Type_III', 'Overweight_Level_I', 'Obesity_Type_III', 'Obesity_Type_I', 'Obesity_Type_III', 'Overweight_Level_II', 'Overweight_Level_II', 'Overweight_Level_II', 'Overweight_Level_II', 'Obesity_Type_II', 'Normal_Weight', 'Obesity_Type_III', 'Obesity_Type_III', 'Obesity_Type_II', 'Obesity_Type_I', 'Obesity_Type_I', 'Obesity_Type_II', 'Insufficient_Weight', 'Normal_Weight', 'Obesity_Type_II', 'Overweight_Level_I', 'Obesity_Type_III', 'Obesity_Type_II', 'Obesity_Type_II', 'Obesity_Type_II', 'Obesity_Type_II', 'Insufficient_Weight', 'Insufficient_Weight', 'Obesity_Type_II', 'Obesity_Type_III', 'Normal_Weight', 'Obesity_Type_III', 'Obesity_Type_I', 'Obesity_Type_II', 'Obesity_Type_I', 'Obesity_Type_III', 'Insufficient_Weight', 'Obesity_Type_III', 'Normal_Weight', 'Normal_Weight', 'Normal_Weight', 'Obesity_Type_I', 'Obesity_Type_II', 'Overweight_Level_I', 'Overweight_Level_I', 'Obesity_Type_I', 'Obesity_Type_II', 'Obesity_Type_I', 'Obesity_Type_III', 'Obesity_Type_II', 'Obesity_Type_III', 'Obesity_Type_I', 'Overweight_Level_II', 'Overweight_Level_I', 'Overweight_Level_I', 'Insufficient_Weight', 'Obesity_Type_III', 'Obesity_Type_I', 'Overweight_Level_I', 'Overweight_Level_I', 'Obesity_Type_II', 'Insufficient_Weight', 'Normal_Weight', 'Obesity_Type_I', 'Obesity_Type_I', 'Overweight_Level_I', 'Obesity_Type_III', 'Overweight_Level_II', 'Normal_Weight', 'Obesity_Type_III', 'Insufficient_Weight', 'Normal_Weight', 'Overweight_Level_II', 'Obesity_Type_III', 'Obesity_Type_I', 'Obesity_Type_I', 'Obesity_Type_II', 'Obesity_Type_II', 'Normal_Weight', 'Obesity_Type_III', 'Normal_Weight', 'Overweight_Level_I', 'Overweight_Level_I', 'Normal_Weight', 'Insufficient_Weight', 'Obesity_Type_II', 'Insufficient_Weight', 'Obesity_Type_I', 'Obesity_Type_III', 'Overweight_Level_I', 'Obesity_Type_II', 'Normal_Weight', 'Normal_Weight', 'Obesity_Type_III', 'Insufficient_Weight', 'Obesity_Type_I', 'Obesity_Type_III', 'Overweight_Level_II', 'Obesity_Type_I', 'Obesity_Type_III', 'Normal_Weight', 'Obesity_Type_III', 'Obesity_Type_III', 'Obesity_Type_III', 'Obesity_Type_II', 'Overweight_Level_I', 'Overweight_Level_II', 'Obesity_Type_III', 'Overweight_Level_II', 'Insufficient_Weight', 'Overweight_Level_II', 'Obesity_Type_III', 'Insufficient_Weight', 'Insufficient_Weight', 'Overweight_Level_II', 'Obesity_Type_II', 'Insufficient_Weight', 'Normal_Weight', 'Obesity_Type_III', 'Overweight_Level_II', 'Obesity_Type_II', 'Obesity_Type_II', 'Normal_Weight', 'Obesity_Type_II', 'Insufficient_Weight', 'Overweight_Level_I', 'Normal_Weight', 'Overweight_Level_II', 'Overweight_Level_I', 'Insufficient_Weight', 'Overweight_Level_I', 'Obesity_Type_I', 'Normal_Weight', 'Normal_Weight', 'Normal_Weight', 'Obesity_Type_III', 'Obesity_Type_III', 'Normal_Weight', 'Insufficient_Weight', 'Obesity_Type_III', 'Obesity_Type_II', 'Normal_Weight', 'Overweight_Level_I', 'Obesity_Type_I', 'Obesity_Type_III', 'Obesity_Type_II', 'Normal_Weight', 'Normal_Weight', 'Obesity_Type_III', 'Obesity_Type_II', 'Overweight_Level_II', 'Obesity_Type_II', 'Insufficient_Weight', 'Obesity_Type_II', 'Obesity_Type_II', 'Overweight_Level_II', 'Obesity_Type_I', 'Insufficient_Weight', 'Normal_Weight', 'Normal_Weight', 'Obesity_Type_II', 'Obesity_Type_II', 'Obesity_Type_II', 'Normal_Weight', 'Overweight_Level_I', 'Obesity_Type_III', 'Normal_Weight', 'Normal_Weight', 'Overweight_Level_II', 'Obesity_Type_II', 'Obesity_Type_I', 'Obesity_Type_I', 'Overweight_Level_II', 'Normal_Weight', 'Overweight_Level_II', 'Obesity_Type_III', 'Obesity_Type_III', 'Obesity_Type_III', 'Obesity_Type_III', 'Obesity_Type_III', 'Obesity_Type_II', 'Obesity_Type_III', 'Obesity_Type_III', 'Obesity_Type_I', 'Obesity_Type_III', 'Obesity_Type_II', 'Normal_Weight', 'Obesity_Type_I', 'Overweight_Level_I', 'Obesity_Type_II', 'Overweight_Level_I', 'Obesity_Type_III', 'Obesity_Type_I', 'Obesity_Type_III', 'Normal_Weight', 'Normal_Weight', 'Obesity_Type_I', 'Obesity_Type_I', 'Normal_Weight', 'Obesity_Type_III', 'Overweight_Level_I', 'Obesity_Type_II', 'Normal_Weight', 'Overweight_Level_I', 'Obesity_Type_III', 'Normal_Weight', 'Obesity_Type_III', 'Obesity_Type_II', 'Obesity_Type_II', 'Obesity_Type_II', 'Normal_Weight', 'Obesity_Type_I', 'Overweight_Level_II', 'Obesity_Type_II', 'Normal_Weight', 'Obesity_Type_III', 'Obesity_Type_III', 'Obesity_Type_II', 'Overweight_Level_II', 'Normal_Weight', 'Obesity_Type_III', 'Normal_Weight', 'Obesity_Type_II', 'Normal_Weight', 'Obesity_Type_I', 'Insufficient_Weight', 'Obesity_Type_III', 'Obesity_Type_II', 'Insufficient_Weight', 'Obesity_Type_I', 'Overweight_Level_I', 'Overweight_Level_II', 'Obesity_Type_I', 'Overweight_Level_I', 'Obesity_Type_III', 'Obesity_Type_III', 'Normal_Weight', 'Obesity_Type_III', 'Overweight_Level_II', 'Overweight_Level_I', 'Overweight_Level_I', 'Obesity_Type_II', 'Overweight_Level_I', 'Obesity_Type_II', 'Insufficient_Weight', 'Obesity_Type_II', 'Normal_Weight', 'Insufficient_Weight', 'Overweight_Level_I', 'Overweight_Level_I', 'Insufficient_Weight', 'Obesity_Type_III', 'Normal_Weight', 'Overweight_Level_I', 'Obesity_Type_III', 'Obesity_Type_III', 'Insufficient_Weight', 'Obesity_Type_I', 'Obesity_Type_I', 'Obesity_Type_III', 'Obesity_Type_I', 'Normal_Weight', 'Obesity_Type_II', 'Normal_Weight', 'Obesity_Type_III', 'Obesity_Type_III', 'Obesity_Type_III', 'Obesity_Type_III', 'Normal_Weight', 'Obesity_Type_I', 'Normal_Weight', 'Overweight_Level_I', 'Overweight_Level_II', 'Obesity_Type_III', 'Obesity_Type_I', 'Obesity_Type_I', 'Insufficient_Weight', 'Overweight_Level_II', 'Normal_Weight', 'Overweight_Level_I', 'Obesity_Type_III', 'Normal_Weight', 'Obesity_Type_I', 'Obesity_Type_III', 'Obesity_Type_I', 'Obesity_Type_I', 'Insufficient_Weight', 'Overweight_Level_I', 'Insufficient_Weight', 'Obesity_Type_I', 'Overweight_Level_II', 'Obesity_Type_II', 'Normal_Weight', 'Overweight_Level_I', 'Normal_Weight', 'Overweight_Level_I', 'Obesity_Type_III', 'Overweight_Level_I', 'Obesity_Type_III', 'Normal_Weight', 'Normal_Weight', 'Obesity_Type_I', 'Insufficient_Weight', 'Obesity_Type_II', 'Overweight_Level_II', 'Obesity_Type_III', 'Insufficient_Weight', 'Obesity_Type_III', 'Normal_Weight', 'Obesity_Type_III', 'Obesity_Type_II', 'Obesity_Type_III', 'Obesity_Type_III', 'Obesity_Type_I', 'Insufficient_Weight', 'Normal_Weight', 'Obesity_Type_II', 'Obesity_Type_III', 'Insufficient_Weight', 'Obesity_Type_III', 'Obesity_Type_II', 'Insufficient_Weight', 'Obesity_Type_II', 'Obesity_Type_III', 'Normal_Weight', 'Obesity_Type_III', 'Obesity_Type_I', 'Normal_Weight', 'Obesity_Type_I', 'Overweight_Level_II', 'Insufficient_Weight', 'Insufficient_Weight', 'Overweight_Level_I', 'Obesity_Type_III', 'Obesity_Type_III', 'Obesity_Type_I', 'Overweight_Level_II', 'Insufficient_Weight', 'Obesity_Type_II', 'Obesity_Type_II', 'Obesity_Type_II', 'Obesity_Type_II', 'Obesity_Type_III', 'Obesity_Type_I', 'Obesity_Type_I', 'Obesity_Type_II', 'Obesity_Type_III', 'Overweight_Level_II', 'Overweight_Level_I', 'Overweight_Level_II', 'Obesity_Type_I', 'Overweight_Level_II', 'Overweight_Level_I', 'Overweight_Level_I', 'Overweight_Level_I', 'Obesity_Type_III', 'Insufficient_Weight', 'Obesity_Type_II', 'Overweight_Level_I', 'Obesity_Type_III', 'Normal_Weight', 'Obesity_Type_II', 'Insufficient_Weight', 'Obesity_Type_III', 'Obesity_Type_I', 'Obesity_Type_II', 'Obesity_Type_III', 'Normal_Weight', 'Obesity_Type_III', 'Obesity_Type_III', 'Obesity_Type_I', 'Obesity_Type_III', 'Normal_Weight', 'Obesity_Type_III', 'Obesity_Type_I', 'Obesity_Type_II', 'Insufficient_Weight', 'Obesity_Type_I', 'Obesity_Type_I', 'Normal_Weight', 'Overweight_Level_I', 'Obesity_Type_II', 'Obesity_Type_I', 'Obesity_Type_III', 'Overweight_Level_II', 'Overweight_Level_II', 'Obesity_Type_I', 'Obesity_Type_III', 'Obesity_Type_III', 'Overweight_Level_I', 'Insufficient_Weight', 'Insufficient_Weight', 'Obesity_Type_III', 'Obesity_Type_II', 'Normal_Weight', 'Overweight_Level_II', 'Obesity_Type_III', 'Normal_Weight', 'Obesity_Type_II', 'Normal_Weight', 'Insufficient_Weight', 'Obesity_Type_II', 'Overweight_Level_I', 'Obesity_Type_II', 'Obesity_Type_I', 'Obesity_Type_II', 'Insufficient_Weight', 'Obesity_Type_II', 'Normal_Weight', 'Overweight_Level_I', 'Overweight_Level_II', 'Obesity_Type_III', 'Obesity_Type_II', 'Obesity_Type_III', 'Overweight_Level_II', 'Overweight_Level_I', 'Insufficient_Weight', 'Obesity_Type_III', 'Obesity_Type_I', 'Normal_Weight', 'Overweight_Level_II', 'Overweight_Level_I', 'Normal_Weight', 'Obesity_Type_III', 'Obesity_Type_III', 'Obesity_Type_I', 'Insufficient_Weight', 'Obesity_Type_II', 'Overweight_Level_I', 'Overweight_Level_II', 'Obesity_Type_II', 'Overweight_Level_I', 'Obesity_Type_I', 'Obesity_Type_III', 'Obesity_Type_I', 'Overweight_Level_II', 'Normal_Weight', 'Obesity_Type_III', 'Obesity_Type_I', 'Obesity_Type_III', 'Obesity_Type_III', 'Normal_Weight', 'Obesity_Type_II', 'Normal_Weight', 'Insufficient_Weight', 'Obesity_Type_III', 'Insufficient_Weight', 'Obesity_Type_I', 'Obesity_Type_I', 'Overweight_Level_II', 'Obesity_Type_II', 'Obesity_Type_III', 'Overweight_Level_I', 'Obesity_Type_III', 'Overweight_Level_I', 'Obesity_Type_II', 'Obesity_Type_I', 'Normal_Weight', 'Obesity_Type_III', 'Obesity_Type_III', 'Obesity_Type_III', 'Normal_Weight', 'Insufficient_Weight', 'Obesity_Type_III', 'Insufficient_Weight', 'Overweight_Level_II', 'Insufficient_Weight', 'Insufficient_Weight', 'Obesity_Type_II', 'Normal_Weight', 'Obesity_Type_II', 'Obesity_Type_III', 'Obesity_Type_I', 'Overweight_Level_II', 'Overweight_Level_I', 'Normal_Weight', 'Insufficient_Weight', 'Overweight_Level_II', 'Obesity_Type_II', 'Obesity_Type_II', 'Insufficient_Weight', 'Normal_Weight', 'Insufficient_Weight', 'Obesity_Type_II', 'Obesity_Type_I', 'Obesity_Type_III', 'Obesity_Type_II', 'Obesity_Type_III', 'Insufficient_Weight', 'Normal_Weight', 'Obesity_Type_III', 'Obesity_Type_III', 'Overweight_Level_II', 'Insufficient_Weight', 'Normal_Weight', 'Overweight_Level_I', 'Obesity_Type_I', 'Overweight_Level_I', 'Obesity_Type_I', 'Overweight_Level_II', 'Normal_Weight', 'Obesity_Type_I', 'Obesity_Type_III', 'Overweight_Level_II', 'Overweight_Level_II', 'Overweight_Level_I', 'Obesity_Type_III', 'Obesity_Type_II', 'Overweight_Level_I', 'Obesity_Type_II', 'Obesity_Type_III', 'Obesity_Type_I', 'Overweight_Level_II', 'Normal_Weight', 'Normal_Weight', 'Overweight_Level_I', 'Obesity_Type_III', 'Overweight_Level_I', 'Obesity_Type_II', 'Obesity_Type_I', 'Overweight_Level_II', 'Overweight_Level_I', 'Insufficient_Weight', 'Obesity_Type_I', 'Normal_Weight', 'Overweight_Level_I', 'Obesity_Type_III', 'Obesity_Type_I', 'Obesity_Type_III', 'Obesity_Type_I', 'Obesity_Type_II', 'Overweight_Level_II', 'Overweight_Level_II', 'Insufficient_Weight', 'Overweight_Level_II', 'Overweight_Level_II', 'Normal_Weight', 'Insufficient_Weight', 'Insufficient_Weight', 'Normal_Weight', 'Insufficient_Weight', 'Normal_Weight', 'Insufficient_Weight', 'Overweight_Level_II', 'Obesity_Type_I', 'Insufficient_Weight', 'Normal_Weight', 'Overweight_Level_II', 'Overweight_Level_I', 'Normal_Weight', 'Normal_Weight', 'Obesity_Type_III', 'Overweight_Level_I', 'Insufficient_Weight', 'Obesity_Type_I', 'Obesity_Type_I', 'Overweight_Level_II', 'Obesity_Type_II', 'Obesity_Type_I', 'Overweight_Level_I', 'Obesity_Type_I', 'Insufficient_Weight', 'Obesity_Type_I', 'Insufficient_Weight', 'Overweight_Level_I', 'Obesity_Type_II', 'Obesity_Type_III', 'Normal_Weight', 'Insufficient_Weight', 'Overweight_Level_II', 'Insufficient_Weight', 'Obesity_Type_I', 'Obesity_Type_I', 'Obesity_Type_III', 'Overweight_Level_II', 'Obesity_Type_II', 'Obesity_Type_II', 'Overweight_Level_I', 'Obesity_Type_II', 'Obesity_Type_II', 'Overweight_Level_I', 'Obesity_Type_II', 'Obesity_Type_II', 'Overweight_Level_II', 'Overweight_Level_II', 'Obesity_Type_II', 'Overweight_Level_II', 'Obesity_Type_III', 'Insufficient_Weight', 'Obesity_Type_I', 'Obesity_Type_III', 'Obesity_Type_III', 'Obesity_Type_III', 'Obesity_Type_II', 'Insufficient_Weight', 'Obesity_Type_II', 'Obesity_Type_II', 'Obesity_Type_III', 'Normal_Weight', 'Overweight_Level_II', 'Overweight_Level_I', 'Insufficient_Weight', 'Obesity_Type_II', 'Insufficient_Weight', 'Normal_Weight', 'Obesity_Type_III', 'Obesity_Type_I', 'Overweight_Level_II', 'Obesity_Type_III', 'Obesity_Type_III', 'Obesity_Type_I', 'Obesity_Type_III', 'Normal_Weight', 'Obesity_Type_II', 'Obesity_Type_III', 'Obesity_Type_III', 'Obesity_Type_III', 'Obesity_Type_II', 'Normal_Weight', 'Obesity_Type_II', 'Overweight_Level_I', 'Obesity_Type_II', 'Insufficient_Weight', 'Obesity_Type_III', 'Normal_Weight', 'Obesity_Type_III', 'Overweight_Level_II', 'Obesity_Type_II', 'Obesity_Type_II', 'Obesity_Type_III', 'Normal_Weight', 'Normal_Weight', 'Overweight_Level_II', 'Overweight_Level_II', 'Overweight_Level_II', 'Overweight_Level_II', 'Insufficient_Weight', 'Obesity_Type_I', 'Insufficient_Weight', 'Obesity_Type_III', 'Normal_Weight', 'Obesity_Type_I', 'Obesity_Type_I', 'Obesity_Type_II', 'Overweight_Level_II', 'Obesity_Type_III', 'Obesity_Type_II', 'Obesity_Type_III', 'Obesity_Type_I', 'Insufficient_Weight', 'Normal_Weight', 'Overweight_Level_II', 'Normal_Weight', 'Obesity_Type_I', 'Obesity_Type_I', 'Obesity_Type_II', 'Obesity_Type_II', 'Obesity_Type_I', 'Obesity_Type_II', 'Obesity_Type_III', 'Obesity_Type_I', 'Obesity_Type_II', 'Obesity_Type_III', 'Obesity_Type_II', 'Overweight_Level_I', 'Obesity_Type_III', 'Obesity_Type_I', 'Obesity_Type_I', 'Obesity_Type_II', 'Obesity_Type_I', 'Normal_Weight', 'Obesity_Type_II', 'Overweight_Level_II', 'Overweight_Level_II', 'Obesity_Type_I', 'Obesity_Type_III', 'Overweight_Level_I', 'Normal_Weight', 'Overweight_Level_II', 'Obesity_Type_III', 'Obesity_Type_III', 'Overweight_Level_I', 'Obesity_Type_III', 'Obesity_Type_II', 'Obesity_Type_III', 'Insufficient_Weight', 'Overweight_Level_I', 'Obesity_Type_I', 'Overweight_Level_II', 'Obesity_Type_II', 'Obesity_Type_II', 'Obesity_Type_III', 'Obesity_Type_II', 'Normal_Weight', 'Obesity_Type_I', 'Overweight_Level_II', 'Normal_Weight', 'Obesity_Type_II', 'Normal_Weight', 'Obesity_Type_II', 'Normal_Weight', 'Obesity_Type_II', 'Obesity_Type_I', 'Normal_Weight', 'Overweight_Level_I', 'Overweight_Level_I', 'Obesity_Type_I', 'Obesity_Type_I', 'Obesity_Type_III', 'Overweight_Level_II', 'Overweight_Level_I', 'Insufficient_Weight', 'Normal_Weight', 'Overweight_Level_II', 'Obesity_Type_III', 'Overweight_Level_I', 'Obesity_Type_II', 'Obesity_Type_II', 'Insufficient_Weight', 'Overweight_Level_II', 'Obesity_Type_II', 'Overweight_Level_II', 'Overweight_Level_II', 'Normal_Weight', 'Obesity_Type_II', 'Obesity_Type_III', 'Obesity_Type_II', 'Obesity_Type_II', 'Obesity_Type_III', 'Insufficient_Weight', 'Obesity_Type_II', 'Overweight_Level_I', 'Overweight_Level_II', 'Insufficient_Weight', 'Obesity_Type_III', 'Obesity_Type_III', 'Insufficient_Weight', 'Insufficient_Weight', 'Insufficient_Weight', 'Obesity_Type_II', 'Normal_Weight', 'Obesity_Type_III', 'Obesity_Type_I', 'Normal_Weight', 'Obesity_Type_II', 'Obesity_Type_II', 'Normal_Weight', 'Overweight_Level_II', 'Obesity_Type_I', 'Overweight_Level_II', 'Obesity_Type_III', 'Obesity_Type_III', 'Obesity_Type_III', 'Normal_Weight', 'Normal_Weight', 'Obesity_Type_I', 'Obesity_Type_II', 'Normal_Weight', 'Obesity_Type_I', 'Overweight_Level_I', 'Normal_Weight', 'Obesity_Type_III', 'Insufficient_Weight', 'Obesity_Type_III', 'Obesity_Type_II', 'Obesity_Type_III', 'Obesity_Type_III', 'Insufficient_Weight', 'Normal_Weight', 'Overweight_Level_I', 'Normal_Weight', 'Normal_Weight', 'Insufficient_Weight', 'Obesity_Type_II', 'Normal_Weight', 'Obesity_Type_II', 'Obesity_Type_II', 'Obesity_Type_III', 'Overweight_Level_I', 'Obesity_Type_II', 'Obesity_Type_II', 'Overweight_Level_II', 'Obesity_Type_I', 'Overweight_Level_I', 'Obesity_Type_II', 'Obesity_Type_III', 'Overweight_Level_II', 'Obesity_Type_III', 'Obesity_Type_II', 'Overweight_Level_I', 'Obesity_Type_III', 'Overweight_Level_II', 'Obesity_Type_II', 'Normal_Weight', 'Overweight_Level_II', 'Normal_Weight', 'Obesity_Type_I', 'Overweight_Level_I', 'Obesity_Type_III', 'Obesity_Type_I', 'Normal_Weight', 'Obesity_Type_III', 'Overweight_Level_I', 'Normal_Weight', 'Overweight_Level_I', 'Overweight_Level_II', 'Obesity_Type_III', 'Obesity_Type_II', 'Normal_Weight', 'Overweight_Level_I', 'Normal_Weight', 'Overweight_Level_I', 'Obesity_Type_I', 'Obesity_Type_I', 'Obesity_Type_II', 'Obesity_Type_III', 'Obesity_Type_III', 'Obesity_Type_III', 'Overweight_Level_II', 'Insufficient_Weight', 'Obesity_Type_III', 'Obesity_Type_III', 'Obesity_Type_I', 'Overweight_Level_II', 'Overweight_Level_II', 'Normal_Weight', 'Overweight_Level_I', 'Obesity_Type_II', 'Obesity_Type_III', 'Obesity_Type_II', 'Insufficient_Weight', 'Obesity_Type_III', 'Obesity_Type_III', 'Normal_Weight', 'Normal_Weight', 'Obesity_Type_I', 'Overweight_Level_II', 'Obesity_Type_II', 'Normal_Weight', 'Insufficient_Weight', 'Insufficient_Weight', 'Obesity_Type_III', 'Overweight_Level_I', 'Obesity_Type_I', 'Normal_Weight', 'Overweight_Level_II', 'Obesity_Type_I', 'Normal_Weight', 'Normal_Weight', 'Obesity_Type_III', 'Obesity_Type_II', 'Obesity_Type_III', 'Normal_Weight', 'Normal_Weight', 'Insufficient_Weight', 'Overweight_Level_II', 'Normal_Weight', 'Overweight_Level_I', 'Obesity_Type_I', 'Obesity_Type_II', 'Obesity_Type_III', 'Obesity_Type_II', 'Insufficient_Weight', 'Obesity_Type_III', 'Obesity_Type_III', 'Insufficient_Weight', 'Normal_Weight', 'Insufficient_Weight', 'Obesity_Type_I', 'Normal_Weight', 'Obesity_Type_III', 'Obesity_Type_III', 'Insufficient_Weight', 'Overweight_Level_I', 'Obesity_Type_II', 'Overweight_Level_II', 'Obesity_Type_I', 'Normal_Weight', 'Obesity_Type_II', 'Overweight_Level_II', 'Obesity_Type_I', 'Obesity_Type_III', 'Obesity_Type_I', 'Obesity_Type_III', 'Insufficient_Weight', 'Obesity_Type_II', 'Obesity_Type_I', 'Obesity_Type_III', 'Obesity_Type_III', 'Obesity_Type_III', 'Overweight_Level_II', 'Obesity_Type_III', 'Obesity_Type_III', 'Obesity_Type_III', 'Overweight_Level_I', 'Obesity_Type_II', 'Overweight_Level_II', 'Obesity_Type_II', 'Overweight_Level_II', 'Obesity_Type_I', 'Obesity_Type_III', 'Normal_Weight', 'Normal_Weight', 'Overweight_Level_I', 'Obesity_Type_II', 'Obesity_Type_II', 'Obesity_Type_III', 'Overweight_Level_I', 'Obesity_Type_II', 'Overweight_Level_II', 'Normal_Weight', 'Obesity_Type_II', 'Normal_Weight', 'Obesity_Type_III', 'Insufficient_Weight', 'Overweight_Level_II', 'Normal_Weight', 'Obesity_Type_III', 'Obesity_Type_II', 'Obesity_Type_II', 'Obesity_Type_II', 'Obesity_Type_II', 'Obesity_Type_III', 'Normal_Weight', 'Obesity_Type_III', 'Obesity_Type_III', 'Obesity_Type_I', 'Normal_Weight', 'Obesity_Type_I', 'Overweight_Level_I', 'Insufficient_Weight', 'Overweight_Level_II', 'Overweight_Level_II', 'Obesity_Type_II', 'Insufficient_Weight', 'Insufficient_Weight', 'Overweight_Level_I', 'Obesity_Type_III', 'Overweight_Level_I', 'Overweight_Level_II', 'Insufficient_Weight', 'Normal_Weight', 'Insufficient_Weight', 'Insufficient_Weight', 'Obesity_Type_III', 'Overweight_Level_II', 'Obesity_Type_II', 'Obesity_Type_III', 'Overweight_Level_I', 'Overweight_Level_II', 'Obesity_Type_I', 'Normal_Weight', 'Obesity_Type_I', 'Overweight_Level_I', 'Obesity_Type_I', 'Obesity_Type_I', 'Insufficient_Weight', 'Obesity_Type_I', 'Normal_Weight', 'Overweight_Level_II', 'Obesity_Type_III', 'Normal_Weight', 'Obesity_Type_I', 'Obesity_Type_I', 'Overweight_Level_I', 'Normal_Weight', 'Obesity_Type_II', 'Overweight_Level_I', 'Overweight_Level_I', 'Normal_Weight', 'Obesity_Type_II', 'Obesity_Type_III', 'Overweight_Level_II', 'Obesity_Type_I', 'Overweight_Level_I', 'Obesity_Type_III', 'Insufficient_Weight', 'Insufficient_Weight', 'Obesity_Type_III', 'Normal_Weight', 'Insufficient_Weight', 'Insufficient_Weight', 'Obesity_Type_II', 'Normal_Weight', 'Overweight_Level_I', 'Obesity_Type_II', 'Overweight_Level_II', 'Overweight_Level_II', 'Insufficient_Weight', 'Obesity_Type_II', 'Obesity_Type_I', 'Obesity_Type_III', 'Normal_Weight', 'Overweight_Level_II', 'Obesity_Type_III', 'Insufficient_Weight', 'Obesity_Type_II', 'Obesity_Type_III', 'Normal_Weight', 'Obesity_Type_III', 'Obesity_Type_II', 'Obesity_Type_II', 'Overweight_Level_I', 'Overweight_Level_II', 'Overweight_Level_II', 'Obesity_Type_II', 'Overweight_Level_II', 'Normal_Weight', 'Overweight_Level_II', 'Normal_Weight', 'Normal_Weight', 'Normal_Weight', 'Obesity_Type_III', 'Normal_Weight', 'Obesity_Type_II', 'Obesity_Type_I', 'Overweight_Level_I', 'Normal_Weight', 'Insufficient_Weight', 'Obesity_Type_I', 'Obesity_Type_I', 'Obesity_Type_III', 'Normal_Weight', 'Normal_Weight', 'Insufficient_Weight', 'Overweight_Level_I', 'Obesity_Type_II', 'Obesity_Type_I', 'Overweight_Level_I', 'Obesity_Type_I', 'Insufficient_Weight', 'Obesity_Type_III', 'Obesity_Type_II', 'Obesity_Type_I', 'Normal_Weight', 'Obesity_Type_I', 'Obesity_Type_III', 'Obesity_Type_III', 'Obesity_Type_I', 'Obesity_Type_I', 'Normal_Weight', 'Obesity_Type_II', 'Obesity_Type_III', 'Overweight_Level_I', 'Overweight_Level_II', 'Obesity_Type_III', 'Obesity_Type_I', 'Insufficient_Weight', 'Overweight_Level_II', 'Obesity_Type_III', 'Obesity_Type_II', 'Overweight_Level_I', 'Obesity_Type_II', 'Obesity_Type_I', 'Obesity_Type_III', 'Obesity_Type_I', 'Obesity_Type_II', 'Overweight_Level_I', 'Overweight_Level_II', 'Obesity_Type_III', 'Obesity_Type_I', 'Overweight_Level_II', 'Normal_Weight', 'Insufficient_Weight', 'Normal_Weight', 'Obesity_Type_III', 'Normal_Weight', 'Insufficient_Weight', 'Obesity_Type_I', 'Overweight_Level_II', 'Overweight_Level_II', 'Obesity_Type_I', 'Obesity_Type_III', 'Normal_Weight', 'Normal_Weight', 'Overweight_Level_I', 'Overweight_Level_I', 'Obesity_Type_I', 'Overweight_Level_I', 'Obesity_Type_II', 'Obesity_Type_II', 'Insufficient_Weight', 'Obesity_Type_III', 'Overweight_Level_I', 'Overweight_Level_II', 'Obesity_Type_II', 'Overweight_Level_I', 'Overweight_Level_II', 'Obesity_Type_III', 'Overweight_Level_I', 'Overweight_Level_II', 'Overweight_Level_II', 'Insufficient_Weight', 'Obesity_Type_III', 'Obesity_Type_III', 'Insufficient_Weight', 'Normal_Weight', 'Normal_Weight', 'Overweight_Level_I', 'Normal_Weight', 'Normal_Weight', 'Obesity_Type_II', 'Overweight_Level_I', 'Overweight_Level_I', 'Insufficient_Weight', 'Overweight_Level_I', 'Normal_Weight', 'Normal_Weight', 'Obesity_Type_III', 'Obesity_Type_II', 'Obesity_Type_I', 'Obesity_Type_II', 'Overweight_Level_II', 'Obesity_Type_III', 'Obesity_Type_II', 'Obesity_Type_II', 'Obesity_Type_III', 'Normal_Weight', 'Obesity_Type_II', 'Overweight_Level_I', 'Obesity_Type_III', 'Obesity_Type_III', 'Obesity_Type_II', 'Insufficient_Weight', 'Overweight_Level_II', 'Obesity_Type_II', 'Obesity_Type_II', 'Normal_Weight', 'Obesity_Type_III', 'Obesity_Type_II', 'Obesity_Type_III', 'Normal_Weight', 'Insufficient_Weight', 'Obesity_Type_III', 'Normal_Weight', 'Insufficient_Weight', 'Normal_Weight']\n"
     ]
    }
   ],
   "source": [
    "# Define a dictionary mapping numeric labels to original categories\n",
    "label_mapping = {0: 'Insufficient_Weight', \n",
    "                 1: 'Normal_Weight', \n",
    "                 2: 'Obesity_Type_I', \n",
    "                 3: 'Obesity_Type_II', \n",
    "                 4: 'Obesity_Type_III', \n",
    "                 5: 'Overweight_Level_I', \n",
    "                 6: 'Overweight_Level_II'}\n",
    "\n",
    "# Map the numeric labels to original categories\n",
    "test_predictions_original = [label_mapping[label] for label in test_predictions]\n",
    "\n",
    "# Print the predictions\n",
    "print(test_predictions_original)"
   ]
  },
  {
   "cell_type": "code",
   "execution_count": 51,
   "id": "a8ccc3d5",
   "metadata": {
    "execution": {
     "iopub.execute_input": "2024-04-07T18:10:50.909348Z",
     "iopub.status.busy": "2024-04-07T18:10:50.908933Z",
     "iopub.status.idle": "2024-04-07T18:10:50.959796Z",
     "shell.execute_reply": "2024-04-07T18:10:50.958734Z"
    },
    "papermill": {
     "duration": 0.07254,
     "end_time": "2024-04-07T18:10:50.962364",
     "exception": false,
     "start_time": "2024-04-07T18:10:50.889824",
     "status": "completed"
    },
    "tags": []
   },
   "outputs": [
    {
     "data": {
      "text/html": [
       "<div>\n",
       "<style scoped>\n",
       "    .dataframe tbody tr th:only-of-type {\n",
       "        vertical-align: middle;\n",
       "    }\n",
       "\n",
       "    .dataframe tbody tr th {\n",
       "        vertical-align: top;\n",
       "    }\n",
       "\n",
       "    .dataframe thead th {\n",
       "        text-align: right;\n",
       "    }\n",
       "</style>\n",
       "<table border=\"1\" class=\"dataframe\">\n",
       "  <thead>\n",
       "    <tr style=\"text-align: right;\">\n",
       "      <th></th>\n",
       "      <th>id</th>\n",
       "      <th>uid</th>\n",
       "      <th>Location</th>\n",
       "      <th>Gender</th>\n",
       "      <th>Age</th>\n",
       "      <th>Height</th>\n",
       "      <th>Weight</th>\n",
       "      <th>Hash</th>\n",
       "      <th>FHO</th>\n",
       "      <th>CHCF</th>\n",
       "      <th>CV</th>\n",
       "      <th>NCP</th>\n",
       "      <th>CAEC</th>\n",
       "      <th>SMOKE</th>\n",
       "      <th>Water</th>\n",
       "      <th>CBC</th>\n",
       "      <th>FAF</th>\n",
       "      <th>TI</th>\n",
       "      <th>CA</th>\n",
       "      <th>Mode</th>\n",
       "    </tr>\n",
       "  </thead>\n",
       "  <tbody>\n",
       "    <tr>\n",
       "      <th>0</th>\n",
       "      <td>10317</td>\n",
       "      <td>7w53s2NgM2arZAvM</td>\n",
       "      <td>Punjabi Bagh</td>\n",
       "      <td>Female</td>\n",
       "      <td>25.951979</td>\n",
       "      <td>1.669039</td>\n",
       "      <td>104.954291</td>\n",
       "      <td>##########</td>\n",
       "      <td>1.0</td>\n",
       "      <td>1</td>\n",
       "      <td>3.000000</td>\n",
       "      <td>3.0</td>\n",
       "      <td>Sometimes</td>\n",
       "      <td>0</td>\n",
       "      <td>2.092326</td>\n",
       "      <td>0</td>\n",
       "      <td>0.043101</td>\n",
       "      <td>0.540812</td>\n",
       "      <td>Sometimes</td>\n",
       "      <td>Public_Transportation</td>\n",
       "    </tr>\n",
       "    <tr>\n",
       "      <th>1</th>\n",
       "      <td>4074</td>\n",
       "      <td>kTLn00K8evgYXWxR</td>\n",
       "      <td>Hauz Khas</td>\n",
       "      <td>Female</td>\n",
       "      <td>40.993179</td>\n",
       "      <td>1.567973</td>\n",
       "      <td>81.022119</td>\n",
       "      <td>##########</td>\n",
       "      <td>1.0</td>\n",
       "      <td>1</td>\n",
       "      <td>2.921576</td>\n",
       "      <td>3.0</td>\n",
       "      <td>Sometimes</td>\n",
       "      <td>0</td>\n",
       "      <td>1.005727</td>\n",
       "      <td>0</td>\n",
       "      <td>1.034031</td>\n",
       "      <td>0.000000</td>\n",
       "      <td>0</td>\n",
       "      <td>Automobile</td>\n",
       "    </tr>\n",
       "    <tr>\n",
       "      <th>2</th>\n",
       "      <td>9060</td>\n",
       "      <td>81HX39uej0BR1xIl</td>\n",
       "      <td>Vasant Vihar</td>\n",
       "      <td>Male</td>\n",
       "      <td>21.000000</td>\n",
       "      <td>1.740000</td>\n",
       "      <td>76.0</td>\n",
       "      <td>##########</td>\n",
       "      <td>0.0</td>\n",
       "      <td>1</td>\n",
       "      <td>3.000000</td>\n",
       "      <td>3.0</td>\n",
       "      <td>Sometimes</td>\n",
       "      <td>0</td>\n",
       "      <td>3.000000</td>\n",
       "      <td>0</td>\n",
       "      <td>1.000000</td>\n",
       "      <td>0.000000</td>\n",
       "      <td>Sometimes</td>\n",
       "      <td>Public_Transportation</td>\n",
       "    </tr>\n",
       "    <tr>\n",
       "      <th>3</th>\n",
       "      <td>11286</td>\n",
       "      <td>DA9eqs9fs7wJUIet</td>\n",
       "      <td>Hauz Khas</td>\n",
       "      <td>Male</td>\n",
       "      <td>33.000000</td>\n",
       "      <td>1.680000</td>\n",
       "      <td>83.0</td>\n",
       "      <td>##########</td>\n",
       "      <td>1.0</td>\n",
       "      <td>1</td>\n",
       "      <td>2.000000</td>\n",
       "      <td>1.0</td>\n",
       "      <td>Sometimes</td>\n",
       "      <td>0</td>\n",
       "      <td>2.000000</td>\n",
       "      <td>0</td>\n",
       "      <td>1.000000</td>\n",
       "      <td>0.000000</td>\n",
       "      <td>Sometimes</td>\n",
       "      <td>Automobile</td>\n",
       "    </tr>\n",
       "    <tr>\n",
       "      <th>4</th>\n",
       "      <td>8254</td>\n",
       "      <td>SJ1Z7TBmojAPlJXd</td>\n",
       "      <td>SunderNagar</td>\n",
       "      <td>Female</td>\n",
       "      <td>35.194089</td>\n",
       "      <td>1.673482</td>\n",
       "      <td>73.193589</td>\n",
       "      <td>##########</td>\n",
       "      <td>1.0</td>\n",
       "      <td>0</td>\n",
       "      <td>3.000000</td>\n",
       "      <td>3.0</td>\n",
       "      <td>Sometimes</td>\n",
       "      <td>0</td>\n",
       "      <td>1.572371</td>\n",
       "      <td>0</td>\n",
       "      <td>1.806740</td>\n",
       "      <td>0.000000</td>\n",
       "      <td>Sometimes</td>\n",
       "      <td>Automobile</td>\n",
       "    </tr>\n",
       "    <tr>\n",
       "      <th>...</th>\n",
       "      <td>...</td>\n",
       "      <td>...</td>\n",
       "      <td>...</td>\n",
       "      <td>...</td>\n",
       "      <td>...</td>\n",
       "      <td>...</td>\n",
       "      <td>...</td>\n",
       "      <td>...</td>\n",
       "      <td>...</td>\n",
       "      <td>...</td>\n",
       "      <td>...</td>\n",
       "      <td>...</td>\n",
       "      <td>...</td>\n",
       "      <td>...</td>\n",
       "      <td>...</td>\n",
       "      <td>...</td>\n",
       "      <td>...</td>\n",
       "      <td>...</td>\n",
       "      <td>...</td>\n",
       "      <td>...</td>\n",
       "    </tr>\n",
       "    <tr>\n",
       "      <th>8299</th>\n",
       "      <td>5294</td>\n",
       "      <td>gb0h3fw2irbHfbQF</td>\n",
       "      <td>Punjabi Bagh</td>\n",
       "      <td>Female</td>\n",
       "      <td>20.000000</td>\n",
       "      <td>1.600000</td>\n",
       "      <td>42.0</td>\n",
       "      <td>##########</td>\n",
       "      <td>0.0</td>\n",
       "      <td>1</td>\n",
       "      <td>3.000000</td>\n",
       "      <td>1.0</td>\n",
       "      <td>Frequently</td>\n",
       "      <td>0</td>\n",
       "      <td>1.000000</td>\n",
       "      <td>0</td>\n",
       "      <td>0.000000</td>\n",
       "      <td>0.000000</td>\n",
       "      <td>Sometimes</td>\n",
       "      <td>Public_Transportation</td>\n",
       "    </tr>\n",
       "    <tr>\n",
       "      <th>8300</th>\n",
       "      <td>4473</td>\n",
       "      <td>0nYHoAUSo64MYow1</td>\n",
       "      <td>Vasant Vihar</td>\n",
       "      <td>Female</td>\n",
       "      <td>21.420537</td>\n",
       "      <td>1.739457</td>\n",
       "      <td>133.735889</td>\n",
       "      <td>##########</td>\n",
       "      <td>1.0</td>\n",
       "      <td>1</td>\n",
       "      <td>3.000000</td>\n",
       "      <td>3.0</td>\n",
       "      <td>Sometimes</td>\n",
       "      <td>0</td>\n",
       "      <td>2.310921</td>\n",
       "      <td>0</td>\n",
       "      <td>1.618512</td>\n",
       "      <td>0.711331</td>\n",
       "      <td>Sometimes</td>\n",
       "      <td>Public_Transportation</td>\n",
       "    </tr>\n",
       "    <tr>\n",
       "      <th>8301</th>\n",
       "      <td>20603</td>\n",
       "      <td>fsY3VDGY5FxKByDJ</td>\n",
       "      <td>Punjabi Bagh</td>\n",
       "      <td>Female</td>\n",
       "      <td>18.000000</td>\n",
       "      <td>1.600000</td>\n",
       "      <td>60.0</td>\n",
       "      <td>##########</td>\n",
       "      <td>0.0</td>\n",
       "      <td>1</td>\n",
       "      <td>3.000000</td>\n",
       "      <td>3.0</td>\n",
       "      <td>Always</td>\n",
       "      <td>0</td>\n",
       "      <td>2.000000</td>\n",
       "      <td>0</td>\n",
       "      <td>1.000000</td>\n",
       "      <td>0.000000</td>\n",
       "      <td>0</td>\n",
       "      <td>Public_Transportation</td>\n",
       "    </tr>\n",
       "    <tr>\n",
       "      <th>8302</th>\n",
       "      <td>10907</td>\n",
       "      <td>vYHNnxWeiuJA9SoJ</td>\n",
       "      <td>Vasant Vihar</td>\n",
       "      <td>Female</td>\n",
       "      <td>18.014333</td>\n",
       "      <td>1.624099</td>\n",
       "      <td>45.0</td>\n",
       "      <td>##########</td>\n",
       "      <td>0.0</td>\n",
       "      <td>1</td>\n",
       "      <td>3.000000</td>\n",
       "      <td>3.0</td>\n",
       "      <td>Sometimes</td>\n",
       "      <td>0</td>\n",
       "      <td>2.000000</td>\n",
       "      <td>1</td>\n",
       "      <td>1.637368</td>\n",
       "      <td>0.105936</td>\n",
       "      <td>Sometimes</td>\n",
       "      <td>Public_Transportation</td>\n",
       "    </tr>\n",
       "    <tr>\n",
       "      <th>8303</th>\n",
       "      <td>8452</td>\n",
       "      <td>be1IBM4wuNjvtRJ9</td>\n",
       "      <td>VikasPuri</td>\n",
       "      <td>Male</td>\n",
       "      <td>19.000000</td>\n",
       "      <td>1.750000</td>\n",
       "      <td>70.0</td>\n",
       "      <td>##########</td>\n",
       "      <td>0.0</td>\n",
       "      <td>0</td>\n",
       "      <td>3.000000</td>\n",
       "      <td>3.0</td>\n",
       "      <td>Always</td>\n",
       "      <td>0</td>\n",
       "      <td>2.000000</td>\n",
       "      <td>0</td>\n",
       "      <td>2.000000</td>\n",
       "      <td>0.000000</td>\n",
       "      <td>Sometimes</td>\n",
       "      <td>Walking</td>\n",
       "    </tr>\n",
       "  </tbody>\n",
       "</table>\n",
       "<p>8304 rows × 20 columns</p>\n",
       "</div>"
      ],
      "text/plain": [
       "         id               uid      Location  Gender        Age    Height  \\\n",
       "0     10317  7w53s2NgM2arZAvM  Punjabi Bagh  Female  25.951979  1.669039   \n",
       "1      4074  kTLn00K8evgYXWxR     Hauz Khas  Female  40.993179  1.567973   \n",
       "2      9060  81HX39uej0BR1xIl  Vasant Vihar    Male  21.000000  1.740000   \n",
       "3     11286  DA9eqs9fs7wJUIet     Hauz Khas    Male  33.000000  1.680000   \n",
       "4      8254  SJ1Z7TBmojAPlJXd   SunderNagar  Female  35.194089  1.673482   \n",
       "...     ...               ...           ...     ...        ...       ...   \n",
       "8299   5294  gb0h3fw2irbHfbQF  Punjabi Bagh  Female  20.000000  1.600000   \n",
       "8300   4473  0nYHoAUSo64MYow1  Vasant Vihar  Female  21.420537  1.739457   \n",
       "8301  20603  fsY3VDGY5FxKByDJ  Punjabi Bagh  Female  18.000000  1.600000   \n",
       "8302  10907  vYHNnxWeiuJA9SoJ  Vasant Vihar  Female  18.014333  1.624099   \n",
       "8303   8452  be1IBM4wuNjvtRJ9     VikasPuri    Male  19.000000  1.750000   \n",
       "\n",
       "          Weight        Hash  FHO  CHCF        CV  NCP        CAEC  SMOKE  \\\n",
       "0     104.954291  ##########  1.0     1  3.000000  3.0   Sometimes      0   \n",
       "1      81.022119  ##########  1.0     1  2.921576  3.0   Sometimes      0   \n",
       "2           76.0  ##########  0.0     1  3.000000  3.0   Sometimes      0   \n",
       "3           83.0  ##########  1.0     1  2.000000  1.0   Sometimes      0   \n",
       "4      73.193589  ##########  1.0     0  3.000000  3.0   Sometimes      0   \n",
       "...          ...         ...  ...   ...       ...  ...         ...    ...   \n",
       "8299        42.0  ##########  0.0     1  3.000000  1.0  Frequently      0   \n",
       "8300  133.735889  ##########  1.0     1  3.000000  3.0   Sometimes      0   \n",
       "8301        60.0  ##########  0.0     1  3.000000  3.0      Always      0   \n",
       "8302        45.0  ##########  0.0     1  3.000000  3.0   Sometimes      0   \n",
       "8303        70.0  ##########  0.0     0  3.000000  3.0      Always      0   \n",
       "\n",
       "         Water  CBC       FAF        TI         CA                   Mode  \n",
       "0     2.092326    0  0.043101  0.540812  Sometimes  Public_Transportation  \n",
       "1     1.005727    0  1.034031  0.000000          0             Automobile  \n",
       "2     3.000000    0  1.000000  0.000000  Sometimes  Public_Transportation  \n",
       "3     2.000000    0  1.000000  0.000000  Sometimes             Automobile  \n",
       "4     1.572371    0  1.806740  0.000000  Sometimes             Automobile  \n",
       "...        ...  ...       ...       ...        ...                    ...  \n",
       "8299  1.000000    0  0.000000  0.000000  Sometimes  Public_Transportation  \n",
       "8300  2.310921    0  1.618512  0.711331  Sometimes  Public_Transportation  \n",
       "8301  2.000000    0  1.000000  0.000000          0  Public_Transportation  \n",
       "8302  2.000000    1  1.637368  0.105936  Sometimes  Public_Transportation  \n",
       "8303  2.000000    0  2.000000  0.000000  Sometimes                Walking  \n",
       "\n",
       "[8304 rows x 20 columns]"
      ]
     },
     "execution_count": 51,
     "metadata": {},
     "output_type": "execute_result"
    }
   ],
   "source": [
    "id_csv = pd.read_csv('/kaggle/input/data123/test.csv')\n",
    "id_csv"
   ]
  },
  {
   "cell_type": "code",
   "execution_count": 52,
   "id": "b371f841",
   "metadata": {
    "execution": {
     "iopub.execute_input": "2024-04-07T18:10:51.000521Z",
     "iopub.status.busy": "2024-04-07T18:10:50.999540Z",
     "iopub.status.idle": "2024-04-07T18:10:51.014708Z",
     "shell.execute_reply": "2024-04-07T18:10:51.013713Z"
    },
    "papermill": {
     "duration": 0.036487,
     "end_time": "2024-04-07T18:10:51.016781",
     "exception": false,
     "start_time": "2024-04-07T18:10:50.980294",
     "status": "completed"
    },
    "tags": []
   },
   "outputs": [
    {
     "data": {
      "text/html": [
       "<div>\n",
       "<style scoped>\n",
       "    .dataframe tbody tr th:only-of-type {\n",
       "        vertical-align: middle;\n",
       "    }\n",
       "\n",
       "    .dataframe tbody tr th {\n",
       "        vertical-align: top;\n",
       "    }\n",
       "\n",
       "    .dataframe thead th {\n",
       "        text-align: right;\n",
       "    }\n",
       "</style>\n",
       "<table border=\"1\" class=\"dataframe\">\n",
       "  <thead>\n",
       "    <tr style=\"text-align: right;\">\n",
       "      <th></th>\n",
       "      <th>id</th>\n",
       "      <th>targets</th>\n",
       "    </tr>\n",
       "  </thead>\n",
       "  <tbody>\n",
       "    <tr>\n",
       "      <th>0</th>\n",
       "      <td>10317</td>\n",
       "      <td>Obesity_Type_III</td>\n",
       "    </tr>\n",
       "    <tr>\n",
       "      <th>1</th>\n",
       "      <td>4074</td>\n",
       "      <td>Obesity_Type_I</td>\n",
       "    </tr>\n",
       "    <tr>\n",
       "      <th>2</th>\n",
       "      <td>9060</td>\n",
       "      <td>Overweight_Level_I</td>\n",
       "    </tr>\n",
       "    <tr>\n",
       "      <th>3</th>\n",
       "      <td>11286</td>\n",
       "      <td>Overweight_Level_II</td>\n",
       "    </tr>\n",
       "    <tr>\n",
       "      <th>4</th>\n",
       "      <td>8254</td>\n",
       "      <td>Overweight_Level_I</td>\n",
       "    </tr>\n",
       "  </tbody>\n",
       "</table>\n",
       "</div>"
      ],
      "text/plain": [
       "      id              targets\n",
       "0  10317     Obesity_Type_III\n",
       "1   4074       Obesity_Type_I\n",
       "2   9060   Overweight_Level_I\n",
       "3  11286  Overweight_Level_II\n",
       "4   8254   Overweight_Level_I"
      ]
     },
     "execution_count": 52,
     "metadata": {},
     "output_type": "execute_result"
    }
   ],
   "source": [
    "import numpy as np\n",
    "submission = pd.DataFrame(columns = ['id', 'targets'])\n",
    "submission['id'] = id_csv['id']\n",
    "submission['targets'] = np.array(test_predictions_original)\n",
    "submission.head()"
   ]
  },
  {
   "cell_type": "code",
   "execution_count": 53,
   "id": "895cae86",
   "metadata": {
    "execution": {
     "iopub.execute_input": "2024-04-07T18:10:51.055038Z",
     "iopub.status.busy": "2024-04-07T18:10:51.054348Z",
     "iopub.status.idle": "2024-04-07T18:10:51.149203Z",
     "shell.execute_reply": "2024-04-07T18:10:51.148147Z"
    },
    "papermill": {
     "duration": 0.11709,
     "end_time": "2024-04-07T18:10:51.151922",
     "exception": false,
     "start_time": "2024-04-07T18:10:51.034832",
     "status": "completed"
    },
    "tags": []
   },
   "outputs": [],
   "source": [
    "submission.to_csv('final.csv')"
   ]
  }
 ],
 "metadata": {
  "kaggle": {
   "accelerator": "none",
   "dataSources": [
    {
     "databundleVersionId": 8104252,
     "sourceId": 73426,
     "sourceType": "competition"
    },
    {
     "datasetId": 4747566,
     "sourceId": 8050597,
     "sourceType": "datasetVersion"
    },
    {
     "datasetId": 4747569,
     "sourceId": 8050601,
     "sourceType": "datasetVersion"
    }
   ],
   "dockerImageVersionId": 30673,
   "isGpuEnabled": false,
   "isInternetEnabled": true,
   "language": "python",
   "sourceType": "notebook"
  },
  "kernelspec": {
   "display_name": "Python 3",
   "language": "python",
   "name": "python3"
  },
  "language_info": {
   "codemirror_mode": {
    "name": "ipython",
    "version": 3
   },
   "file_extension": ".py",
   "mimetype": "text/x-python",
   "name": "python",
   "nbconvert_exporter": "python",
   "pygments_lexer": "ipython3",
   "version": "3.10.13"
  },
  "papermill": {
   "default_parameters": {},
   "duration": 22.215272,
   "end_time": "2024-04-07T18:10:51.691564",
   "environment_variables": {},
   "exception": null,
   "input_path": "__notebook__.ipynb",
   "output_path": "__notebook__.ipynb",
   "parameters": {},
   "start_time": "2024-04-07T18:10:29.476292",
   "version": "2.5.0"
  }
 },
 "nbformat": 4,
 "nbformat_minor": 5
}
